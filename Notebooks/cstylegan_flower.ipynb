{
 "cells": [
  {
   "cell_type": "code",
   "execution_count": 1,
   "id": "dd6387a5",
   "metadata": {
    "_cell_guid": "b1076dfc-b9ad-4769-8c92-a6c4dae69d19",
    "_uuid": "8f2839f25d086af736a60e9eeb907d3b93b6e0e5",
    "execution": {
     "iopub.execute_input": "2024-06-06T20:37:14.328966Z",
     "iopub.status.busy": "2024-06-06T20:37:14.328678Z",
     "iopub.status.idle": "2024-06-06T20:37:19.342970Z",
     "shell.execute_reply": "2024-06-06T20:37:19.342157Z"
    },
    "papermill": {
     "duration": 5.020888,
     "end_time": "2024-06-06T20:37:19.345229",
     "exception": false,
     "start_time": "2024-06-06T20:37:14.324341",
     "status": "completed"
    },
    "tags": []
   },
   "outputs": [],
   "source": [
    "import os\n",
    "import math\n",
    "import torch\n",
    "from torch import nn\n",
    "import torch.nn.functional as F\n",
    "from torch.utils.data import DataLoader\n",
    "from torchvision import datasets, transforms\n",
    "from torchvision.utils import save_image\n",
    "import matplotlib.pyplot as plt\n",
    "from tqdm import tqdm\n",
    "import numpy as np\n",
    "from torch import optim\n",
    "import torchvision.utils as torch_utils\n",
    "import matplotlib.pyplot as plt\n",
    "import matplotlib.animation as animation\n",
    "\n",
    "device = 'cuda' if torch.cuda.is_available() else 'cpu'\n",
    "\n",
    "# Generator and Discriminator Utilities\n",
    "class WSConv2d(nn.Module):\n",
    "    def __init__(\n",
    "        self, in_channels, out_channels, kernel_size=3, stride=1, padding=1\n",
    "    ):\n",
    "        super(WSConv2d, self).__init__()\n",
    "        self.conv = nn.Conv2d(in_channels, out_channels, kernel_size, stride, padding)\n",
    "        self.scale = (2 / (in_channels * (kernel_size ** 2))) ** 0.5\n",
    "        self.bias = self.conv.bias\n",
    "        self.conv.bias = None\n",
    "\n",
    "        # initialize conv layer\n",
    "        nn.init.normal_(self.conv.weight)\n",
    "        nn.init.zeros_(self.bias)\n",
    "\n",
    "    def forward(self, x):\n",
    "        return self.conv(x * self.scale) + self.bias.view(1, self.bias.shape[0], 1, 1)\n",
    "    \n",
    "\n",
    "class ConvBlock(nn.Module):\n",
    "    def __init__(self, in_channels, out_channels):\n",
    "        super(ConvBlock, self).__init__()\n",
    "        self.conv1 = WSConv2d(in_channels, out_channels)\n",
    "        self.conv2 = WSConv2d(out_channels, out_channels)\n",
    "        self.leaky = nn.LeakyReLU(0.2)\n",
    "\n",
    "    def forward(self, x):\n",
    "        x = self.leaky(self.conv1(x))\n",
    "        x = self.leaky(self.conv2(x))\n",
    "        return x\n",
    "    \n",
    "def target_to_oh_shoe(target):\n",
    "    NUM_CLASS = 5\n",
    "    one_hot = torch.eye(NUM_CLASS)[target]\n",
    "    return one_hot\n",
    "\n",
    "\n",
    "# Train and Eval utilities\n",
    "def generate_examples(gen, steps, z_dim, n=100):\n",
    "    gen.eval()\n",
    "    alpha = 1.0\n",
    "    for i in range(n):\n",
    "        with torch.no_grad():\n",
    "            noise = torch.randn(1, z_dim).to(device)\n",
    "            img = gen(noise, alpha, steps)\n",
    "            if not os.path.exists(f'saved_examples/step{steps}'):\n",
    "                os.makedirs(f'saved_examples/step{steps}')\n",
    "            save_image(img*0.5+0.5, f\"saved_examples/step{steps}/img_{i}.png\")\n",
    "    gen.train()\n",
    "\n",
    "  \n",
    "def gradient_penalty(critic, labels, real, fake, alpha, train_step, device=\"cpu\"):\n",
    "    BATCH_SIZE, C, H, W = real.shape\n",
    "    beta = torch.rand((BATCH_SIZE, 1, 1, 1)).repeat(1, C, H, W).to(device)\n",
    "    interpolated_images = real * beta + fake.detach() * (1 - beta)\n",
    "    interpolated_images.requires_grad_(True)\n",
    "\n",
    "    # Calculate critic scores\n",
    "    mixed_scores = critic(interpolated_images, labels, alpha, train_step)\n",
    " \n",
    "    # Take the gradient of the scores with respect to the images\n",
    "    gradient = torch.autograd.grad(\n",
    "        inputs=interpolated_images,\n",
    "        outputs=mixed_scores,\n",
    "        grad_outputs=torch.ones_like(mixed_scores),\n",
    "        create_graph=True,\n",
    "        retain_graph=True,\n",
    "    )[0]\n",
    "    gradient = gradient.view(gradient.shape[0], -1)\n",
    "    gradient_norm = gradient.norm(2, dim=1)\n",
    "    gradient_penalty = torch.mean((gradient_norm - 1) ** 2)\n",
    "    return gradient_penalty\n",
    "\n",
    "def get_loader(image_size):\n",
    "    transform = transforms.Compose(\n",
    "        [transforms.Resize((image_size, image_size)),\n",
    "         transforms.ToTensor(),\n",
    "         transforms.RandomHorizontalFlip(p=0.5),\n",
    "         transforms.Normalize(\n",
    "            [0.5 for _ in range(channels_img)],\n",
    "            [0.5 for _ in range(channels_img)],\n",
    "         )\n",
    "        ]\n",
    "    )\n",
    "    batch_size = batch_sizes[int(math.log2(image_size/4))]\n",
    "    dataset = datasets.ImageFolder(root=dataset_dir, transform=transform, target_transform = target_to_oh_shoe)\n",
    "    loader = DataLoader(\n",
    "        dataset,\n",
    "        batch_size=batch_size,\n",
    "        shuffle=True\n",
    "    )\n",
    "    return loader, dataset\n",
    "\n",
    "def check_loader():\n",
    "    loader, _ = get_loader(128)\n",
    "    cloth, _  = next(iter(loader))\n",
    "    _, ax     = plt.subplots(3,3,figsize=(8,8))\n",
    "    plt.suptitle('Some real samples')\n",
    "    ind = 0\n",
    "    for k in range(3):\n",
    "        for kk in range(3):\n",
    "            ax[k][kk].imshow((cloth[ind].permute(1,2,0)+1)/2)\n",
    "            ind +=1"
   ]
  },
  {
   "cell_type": "code",
   "execution_count": 2,
   "id": "3b4c5e22",
   "metadata": {
    "execution": {
     "iopub.execute_input": "2024-06-06T20:37:19.352225Z",
     "iopub.status.busy": "2024-06-06T20:37:19.351859Z",
     "iopub.status.idle": "2024-06-06T20:37:19.371465Z",
     "shell.execute_reply": "2024-06-06T20:37:19.370607Z"
    },
    "papermill": {
     "duration": 0.02521,
     "end_time": "2024-06-06T20:37:19.373432",
     "exception": false,
     "start_time": "2024-06-06T20:37:19.348222",
     "status": "completed"
    },
    "tags": []
   },
   "outputs": [],
   "source": [
    "image_factors = [1, 1, 1, 1, 1 / 2, 1 / 4, 1 / 8, 1 / 16, 1 / 32]\n",
    "\n",
    "# Same as ProGAN Discriminator\n",
    "class Discriminator(nn.Module):\n",
    "    def __init__(self, in_channels, img_channels=3, classes=5):\n",
    "        super(Discriminator, self).__init__()\n",
    "        self.embedding = nn.Linear(classes, 1*4*4)\n",
    "\n",
    "        self.prog_blocks, self.rgb_layers = nn.ModuleList([]), nn.ModuleList([])\n",
    "        self.leaky = nn.LeakyReLU(0.2)\n",
    "\n",
    "        # here we work back ways from factors because the discriminator\n",
    "        # should be mirrored from the generator. So the first prog_block and\n",
    "        # rgb layer we append will work for input size 1024x1024, then 512->256-> etc\n",
    "        for i in range(len(image_factors) - 1, 0, -1):\n",
    "            conv_in = int(in_channels * image_factors[i])\n",
    "            conv_out = int(in_channels * image_factors[i - 1])\n",
    "            self.prog_blocks.append(ConvBlock(conv_in, conv_out))\n",
    "            self.rgb_layers.append(\n",
    "                WSConv2d(img_channels, conv_in, kernel_size=1, stride=1, padding=0)\n",
    "            )\n",
    "\n",
    "        # perhaps confusing name \"initial_rgb\" this is just the RGB layer for 4x4 input size\n",
    "        # did this to \"mirror\" the generator initial_rgb\n",
    "        self.initial_rgb = WSConv2d(\n",
    "            img_channels, in_channels, kernel_size=1, stride=1, padding=0\n",
    "        )\n",
    "        self.rgb_layers.append(self.initial_rgb)\n",
    "        self.avg_pool = nn.AvgPool2d(\n",
    "            kernel_size=2, stride=2\n",
    "        )  # down sampling using avg pool\n",
    "\n",
    "        # this is the block for 4x4 input size\n",
    "        self.final_block = nn.Sequential(\n",
    "            # +1 to in_channels because we concatenate from MiniBatch std\n",
    "            WSConv2d(in_channels + 1, in_channels, kernel_size=3, padding=1),\n",
    "            nn.LeakyReLU(0.2),\n",
    "            WSConv2d(in_channels, in_channels, kernel_size=4, padding=0, stride=1),\n",
    "            nn.LeakyReLU(0.2),\n",
    "            WSConv2d(\n",
    "                in_channels, 1, kernel_size=1, padding=0, stride=1\n",
    "            ),  # we use this instead of linear layer\n",
    "        )\n",
    "\n",
    "    def fade_in(self, alpha, downscaled, out):\n",
    "        \"\"\"Used to fade in downscaled using avg pooling and output from CNN\"\"\"\n",
    "        # alpha should be scalar within [0, 1], and upscale.shape == generated.shape\n",
    "        return alpha * out + (1 - alpha) * downscaled\n",
    "\n",
    "    def minibatch_std(self, x):\n",
    "        batch_statistics = (\n",
    "            torch.std(x, dim=0).mean().repeat(x.shape[0], 1, x.shape[2], x.shape[3])\n",
    "        )\n",
    "        # we take the std for each example (across all channels, and pixels) then we repeat it\n",
    "        # for a single channel and concatenate it with the image. In this way the discriminator\n",
    "        # will get information about the variation in the batch/image\n",
    "        return torch.cat([x, batch_statistics], dim=1)\n",
    "\n",
    "    def forward(self, x, label, alpha, steps):\n",
    "        label_embedding = self.embedding(label).view(-1, 1, 4, 4)\n",
    "        factor = x.shape[-1]//label_embedding.shape[-1]\n",
    "        a, b, c, d = label_embedding.shape\n",
    "        label_embedding = label_embedding.view(a, b, c, 1, d, 1)\n",
    "        label_embedding = label_embedding.repeat(1, 1, 1, factor, 1, factor)\n",
    "        label_embedding = label_embedding.reshape(a, b, x.shape[-1], x.shape[-1])\n",
    "#         x = torch.concat((x, label_embedding), dim=1)\n",
    "        x = x + label_embedding\n",
    "        # where we should start in the list of prog_blocks, maybe a bit confusing but\n",
    "        # the last is for the 4x4. So example let's say steps=1, then we should start\n",
    "        # at the second to last because input_size will be 8x8. If steps==0 we just\n",
    "        # use the final block\n",
    "        cur_step = len(self.prog_blocks) - steps\n",
    "\n",
    "        # convert from rgb as initial step, this will depend on\n",
    "        # the image size (each will have it's on rgb layer)\n",
    "        out = self.leaky(self.rgb_layers[cur_step](x))\n",
    "\n",
    "        if steps == 0:  # i.e, image is 4x4\n",
    "            out = self.minibatch_std(out)\n",
    "            return self.final_block(out).view(out.shape[0], -1)\n",
    "\n",
    "        # because prog_blocks might change the channels, for down scale we use rgb_layer\n",
    "        # from previous/smaller size which in our case correlates to +1 in the indexing\n",
    "        downscaled = self.leaky(self.rgb_layers[cur_step + 1](self.avg_pool(x)))\n",
    "        out = self.avg_pool(self.prog_blocks[cur_step](out))\n",
    "\n",
    "        # the fade_in is done first between the downscaled and the input\n",
    "        # this is opposite from the generator\n",
    "        out = self.fade_in(alpha, downscaled, out)\n",
    "\n",
    "        for step in range(cur_step + 1, len(self.prog_blocks)):\n",
    "            out = self.prog_blocks[step](out)\n",
    "            out = self.avg_pool(out)\n",
    "\n",
    "        out = self.minibatch_std(out)\n",
    "        return self.final_block(out).view(out.shape[0], -1)"
   ]
  },
  {
   "cell_type": "code",
   "execution_count": 3,
   "id": "cbb00897",
   "metadata": {
    "execution": {
     "iopub.execute_input": "2024-06-06T20:37:19.379675Z",
     "iopub.status.busy": "2024-06-06T20:37:19.379328Z",
     "iopub.status.idle": "2024-06-06T20:37:19.410668Z",
     "shell.execute_reply": "2024-06-06T20:37:19.409845Z"
    },
    "papermill": {
     "duration": 0.036618,
     "end_time": "2024-06-06T20:37:19.412524",
     "exception": false,
     "start_time": "2024-06-06T20:37:19.375906",
     "status": "completed"
    },
    "tags": []
   },
   "outputs": [],
   "source": [
    "image_factors = [1, 1, 1, 1, 1 / 2, 1 / 4, 1 / 8, 1 / 16, 1 / 32]\n",
    "\n",
    "# Normalization on every element of input vector\n",
    "# Adapted from StyleGAN original Implementation\n",
    "class PixelNorm(nn.Module):\n",
    "    def __init__(self):\n",
    "        super().__init__()\n",
    "\n",
    "    def forward(self, x):\n",
    "        return x / torch.sqrt(torch.mean(x ** 2, dim=1, keepdim=True) + 1e-8)\n",
    "    \n",
    "# Implementing the Noise Mapping Network\n",
    "class WSLinear(nn.Module):\n",
    "    def __init__(\n",
    "        self, in_features, out_features,\n",
    "    ):\n",
    "        super().__init__()\n",
    "        self.linear = nn.Linear(in_features, out_features)\n",
    "        self.scale = (2 / in_features)**0.5\n",
    "        self.bias = self.linear.bias\n",
    "        self.linear.bias = None\n",
    "\n",
    "        # initialize linear layer\n",
    "        nn.init.normal_(self.linear.weight)\n",
    "        nn.init.zeros_(self.bias)\n",
    "\n",
    "    def forward(self, x):\n",
    "        return self.linear(x * self.scale) + self.bias\n",
    "    \n",
    "\n",
    "class NoiseMappingNetwork(nn.Module):\n",
    "    def __init__(self, z_dim, w_dim):\n",
    "        super().__init__()\n",
    "        self.noise_mapping = nn.Sequential(\n",
    "            PixelNorm(),\n",
    "            WSLinear(z_dim, w_dim),\n",
    "            nn.ReLU(),\n",
    "            WSLinear(w_dim, w_dim),\n",
    "            nn.ReLU(),\n",
    "            WSLinear(w_dim, w_dim),\n",
    "            nn.ReLU(),\n",
    "            WSLinear(w_dim, w_dim),\n",
    "            nn.ReLU(),\n",
    "            WSLinear(w_dim, w_dim),\n",
    "            nn.ReLU(),\n",
    "            WSLinear(w_dim, w_dim),\n",
    "            nn.ReLU(),\n",
    "            WSLinear(w_dim, w_dim),\n",
    "            nn.ReLU(),\n",
    "            WSLinear(w_dim, w_dim),\n",
    "        )\n",
    "\n",
    "    def forward(self, x):\n",
    "        return self.noise_mapping(x)\n",
    "    \n",
    "\n",
    "# Adaptive Instance Normalization (AdaIn)\n",
    "class AdaIN(nn.Module):\n",
    "    def __init__(self, channels, w_dim):\n",
    "        super().__init__()\n",
    "        self.instance_norm = nn.InstanceNorm2d(channels)\n",
    "        self.style_scale = WSLinear(w_dim, channels)\n",
    "        self.style_bias = WSLinear(w_dim, channels)\n",
    "\n",
    "    def forward(self, x, w):\n",
    "        x = self.instance_norm(x)\n",
    "        style_scale = self.style_scale(w).unsqueeze(2).unsqueeze(3)\n",
    "        style_bias = self.style_bias(w).unsqueeze(2).unsqueeze(3)\n",
    "        return style_scale * x + style_bias\n",
    "    \n",
    "\n",
    "class NoiseInjectNet(nn.Module):\n",
    "    def __init__(self, channels):\n",
    "        super().__init__()\n",
    "        self.weight = nn.Parameter(torch.zeros(1, channels, 1, 1))\n",
    "\n",
    "    def forward(self, x):\n",
    "        noise = torch.randn((x.shape[0], 1, x.shape[2], x.shape[3]), device=x.device)\n",
    "        return x + self.weight * noise\n",
    "\n",
    "class GenBlock(nn.Module):\n",
    "    def __init__(self, in_channels, out_channels, w_dim):\n",
    "        super(GenBlock, self).__init__()\n",
    "        self.conv1 = WSConv2d(in_channels, out_channels)\n",
    "        self.conv2 = WSConv2d(out_channels, out_channels)\n",
    "        self.leaky = nn.LeakyReLU(0.2, inplace=True)\n",
    "        self.inject_noise1 = NoiseInjectNet(out_channels)\n",
    "        self.inject_noise2 = NoiseInjectNet(out_channels)\n",
    "        self.adain1 = AdaIN(out_channels, w_dim)\n",
    "        self.adain2 = AdaIN(out_channels, w_dim)\n",
    "\n",
    "    def forward(self, x, w):\n",
    "        x = self.adain1(self.leaky(self.inject_noise1(self.conv1(x))), w)\n",
    "        x = self.adain2(self.leaky(self.inject_noise2(self.conv2(x))), w)\n",
    "        return x\n",
    "\n",
    "class Generator(nn.Module):\n",
    "    def __init__(self, z_dim, w_dim, in_channels, img_channels=3, classes=5):\n",
    "        super(Generator, self).__init__()\n",
    "        self.embedding = nn.Linear(classes, 4*4)\n",
    "\n",
    "        self.starting_constant = nn.Parameter(torch.ones((1, in_channels, 4, 4)))\n",
    "        self.map = NoiseMappingNetwork(z_dim, w_dim)\n",
    "        self.initial_adain1 = AdaIN(in_channels, w_dim)\n",
    "        self.initial_adain2 = AdaIN(in_channels, w_dim)\n",
    "        self.initial_noise1 = NoiseInjectNet(in_channels)\n",
    "        self.initial_noise2 = NoiseInjectNet(in_channels)\n",
    "        self.initial_conv = nn.Conv2d(in_channels, in_channels, kernel_size=3, stride=1, padding=1)\n",
    "        self.leaky = nn.LeakyReLU(0.2, inplace=True)\n",
    "\n",
    "        self.initial_rgb = WSConv2d(\n",
    "            in_channels, img_channels, kernel_size=1, stride=1, padding=0\n",
    "        )\n",
    "        self.prog_blocks, self.rgb_layers = (\n",
    "            nn.ModuleList([]),\n",
    "            nn.ModuleList([self.initial_rgb]),\n",
    "        )\n",
    "\n",
    "        for i in range(len(image_factors) - 1):  # -1 to prevent index error because of factors[i+1]\n",
    "            conv_in_c = int(in_channels * image_factors[i])\n",
    "            conv_out_c = int(in_channels * image_factors[i + 1])\n",
    "            self.prog_blocks.append(GenBlock(conv_in_c, conv_out_c, w_dim))\n",
    "            self.rgb_layers.append(\n",
    "                WSConv2d(conv_out_c, img_channels, kernel_size=1, stride=1, padding=0)\n",
    "            )\n",
    "\n",
    "    def fade_in(self, alpha, upscaled, generated):\n",
    "        # alpha should be scalar within [0, 1], and upscale.shape == generated.shape\n",
    "        return torch.tanh(alpha * generated + (1 - alpha) * upscaled)\n",
    "\n",
    "    def forward(self, noise, label, alpha, steps):\n",
    "#         print(label.shape)\n",
    "        w = self.map(noise)\n",
    "        x = self.initial_adain1(self.initial_noise1(self.starting_constant), w)\n",
    "        label_embedding = self.embedding(label).view(-1, 1, 4, 4)\n",
    "        factor = x.shape[-1]//label_embedding.shape[-1]\n",
    "        a, b, c, d = label_embedding.shape\n",
    "        label_embedding = label_embedding.view(a, b, c, 1, d, 1)\n",
    "        label_embedding = label_embedding.repeat(1, 1, 1, factor, 1, factor)\n",
    "        label_embedding = label_embedding.reshape(a, b, x.shape[-1], x.shape[-1])\n",
    "#         print(x.shape, label_embedding.shape)\n",
    "#         x = torch.concat((x, label_embedding), dim = 1)\n",
    "        x = x + label_embedding\n",
    "        x = self.initial_conv(x)\n",
    "        out = self.initial_adain2(self.leaky(self.initial_noise2(x)), w)\n",
    "\n",
    "        if steps == 0:\n",
    "            return self.initial_rgb(x)\n",
    "\n",
    "        for step in range(steps):\n",
    "            upscaled = F.interpolate(out, scale_factor=2, mode=\"bilinear\")\n",
    "            out = self.prog_blocks[step](upscaled, w)\n",
    "\n",
    "        # The number of channels in upscale will stay the same, while\n",
    "        # out which has moved through prog_blocks might change. To ensure\n",
    "        # we can convert both to rgb we use different rgb_layers\n",
    "        # (steps-1) and steps for upscaled, out respectively\n",
    "        final_upscaled = self.rgb_layers[steps - 1](upscaled)\n",
    "        final_out = self.rgb_layers[steps](out)\n",
    "        return self.fade_in(alpha, final_upscaled, final_out)\n",
    "\n"
   ]
  },
  {
   "cell_type": "code",
   "execution_count": 4,
   "id": "ac42abb2",
   "metadata": {
    "execution": {
     "iopub.execute_input": "2024-06-06T20:37:19.418904Z",
     "iopub.status.busy": "2024-06-06T20:37:19.418664Z",
     "iopub.status.idle": "2024-06-06T22:27:50.490276Z",
     "shell.execute_reply": "2024-06-06T22:27:50.489430Z"
    },
    "papermill": {
     "duration": 6631.077676,
     "end_time": "2024-06-06T22:27:50.492681",
     "exception": false,
     "start_time": "2024-06-06T20:37:19.415005",
     "status": "completed"
    },
    "tags": []
   },
   "outputs": [
    {
     "name": "stdout",
     "output_type": "stream",
     "text": [
      "Curent image size: 4\n"
     ]
    },
    {
     "name": "stderr",
     "output_type": "stream",
     "text": [
      "  5%|▌         | 1/20 [00:02<00:53,  2.80s/it, disc_loss=-1.71, grad_penalty=0.0222]"
     ]
    },
    {
     "name": "stdout",
     "output_type": "stream",
     "text": [
      "[0/15][0/20]\tLoss_D: -1.7060374021530151\tLoss_G: 4.491273880004883\n"
     ]
    },
    {
     "name": "stderr",
     "output_type": "stream",
     "text": [
      "100%|██████████| 20/20 [00:21<00:00,  1.08s/it, disc_loss=-273, grad_penalty=0.73]\n",
      "  5%|▌         | 1/20 [00:00<00:08,  2.17it/s, disc_loss=-274, grad_penalty=0.772]"
     ]
    },
    {
     "name": "stdout",
     "output_type": "stream",
     "text": [
      "[1/15][0/20]\tLoss_D: -273.844970703125\tLoss_G: 375.0459899902344\n"
     ]
    },
    {
     "name": "stderr",
     "output_type": "stream",
     "text": [
      "100%|██████████| 20/20 [00:10<00:00,  1.87it/s, disc_loss=-169, grad_penalty=2.62]\n",
      "  5%|▌         | 1/20 [00:00<00:08,  2.28it/s, disc_loss=-140, grad_penalty=3.5]"
     ]
    },
    {
     "name": "stdout",
     "output_type": "stream",
     "text": [
      "[2/15][0/20]\tLoss_D: -139.50563049316406\tLoss_G: 193.43128967285156\n"
     ]
    },
    {
     "name": "stderr",
     "output_type": "stream",
     "text": [
      "100%|██████████| 20/20 [00:10<00:00,  1.88it/s, disc_loss=-83.9, grad_penalty=4.02]\n",
      "  5%|▌         | 1/20 [00:00<00:14,  1.30it/s, disc_loss=-52.3, grad_penalty=4.33]"
     ]
    },
    {
     "name": "stdout",
     "output_type": "stream",
     "text": [
      "[3/15][0/20]\tLoss_D: -52.30851745605469\tLoss_G: 104.57430267333984\n"
     ]
    },
    {
     "name": "stderr",
     "output_type": "stream",
     "text": [
      "100%|██████████| 20/20 [00:10<00:00,  1.88it/s, disc_loss=-27.3, grad_penalty=3.98]\n",
      "  5%|▌         | 1/20 [00:00<00:08,  2.13it/s, disc_loss=-28.2, grad_penalty=3.74]"
     ]
    },
    {
     "name": "stdout",
     "output_type": "stream",
     "text": [
      "[4/15][0/20]\tLoss_D: -28.22249984741211\tLoss_G: 72.6624755859375\n"
     ]
    },
    {
     "name": "stderr",
     "output_type": "stream",
     "text": [
      "100%|██████████| 20/20 [00:11<00:00,  1.81it/s, disc_loss=-20.7, grad_penalty=2.25]\n",
      "  5%|▌         | 1/20 [00:00<00:09,  2.11it/s, disc_loss=-21.9, grad_penalty=2.14]"
     ]
    },
    {
     "name": "stdout",
     "output_type": "stream",
     "text": [
      "[5/15][0/20]\tLoss_D: -21.940834045410156\tLoss_G: 48.653175354003906\n"
     ]
    },
    {
     "name": "stderr",
     "output_type": "stream",
     "text": [
      "100%|██████████| 20/20 [00:10<00:00,  1.85it/s, disc_loss=-11.4, grad_penalty=1.47]\n",
      "  5%|▌         | 1/20 [00:00<00:09,  2.08it/s, disc_loss=-18.3, grad_penalty=1.51]"
     ]
    },
    {
     "name": "stdout",
     "output_type": "stream",
     "text": [
      "[6/15][0/20]\tLoss_D: -18.255615234375\tLoss_G: 37.556304931640625\n"
     ]
    },
    {
     "name": "stderr",
     "output_type": "stream",
     "text": [
      "100%|██████████| 20/20 [00:10<00:00,  1.90it/s, disc_loss=-9.6, grad_penalty=1.01]\n",
      "  5%|▌         | 1/20 [00:00<00:14,  1.32it/s, disc_loss=-11.9, grad_penalty=0.929]"
     ]
    },
    {
     "name": "stdout",
     "output_type": "stream",
     "text": [
      "[7/15][0/20]\tLoss_D: -11.948749542236328\tLoss_G: 24.721240997314453\n"
     ]
    },
    {
     "name": "stderr",
     "output_type": "stream",
     "text": [
      "100%|██████████| 20/20 [00:10<00:00,  1.88it/s, disc_loss=-10.8, grad_penalty=0.736]\n",
      "  5%|▌         | 1/20 [00:00<00:08,  2.14it/s, disc_loss=-16.7, grad_penalty=0.777]"
     ]
    },
    {
     "name": "stdout",
     "output_type": "stream",
     "text": [
      "[8/15][0/20]\tLoss_D: -16.720380783081055\tLoss_G: 27.143566131591797\n"
     ]
    },
    {
     "name": "stderr",
     "output_type": "stream",
     "text": [
      "100%|██████████| 20/20 [00:10<00:00,  1.87it/s, disc_loss=-14.1, grad_penalty=0.546]\n",
      "  5%|▌         | 1/20 [00:00<00:08,  2.13it/s, disc_loss=-14.2, grad_penalty=0.58]"
     ]
    },
    {
     "name": "stdout",
     "output_type": "stream",
     "text": [
      "[9/15][0/20]\tLoss_D: -14.164701461791992\tLoss_G: 21.998620986938477\n"
     ]
    },
    {
     "name": "stderr",
     "output_type": "stream",
     "text": [
      "100%|██████████| 20/20 [00:10<00:00,  1.86it/s, disc_loss=-13.4, grad_penalty=0.557]\n",
      "  5%|▌         | 1/20 [00:00<00:09,  1.97it/s, disc_loss=-14.7, grad_penalty=0.536]"
     ]
    },
    {
     "name": "stdout",
     "output_type": "stream",
     "text": [
      "[10/15][0/20]\tLoss_D: -14.748518943786621\tLoss_G: 21.812307357788086\n"
     ]
    },
    {
     "name": "stderr",
     "output_type": "stream",
     "text": [
      "100%|██████████| 20/20 [00:11<00:00,  1.81it/s, disc_loss=-14.9, grad_penalty=0.497]\n",
      "  5%|▌         | 1/20 [00:00<00:09,  1.95it/s, disc_loss=-15.9, grad_penalty=0.506]"
     ]
    },
    {
     "name": "stdout",
     "output_type": "stream",
     "text": [
      "[11/15][0/20]\tLoss_D: -15.929530143737793\tLoss_G: 22.41309928894043\n"
     ]
    },
    {
     "name": "stderr",
     "output_type": "stream",
     "text": [
      "100%|██████████| 20/20 [00:10<00:00,  1.88it/s, disc_loss=-12.8, grad_penalty=0.502]\n",
      "  5%|▌         | 1/20 [00:00<00:15,  1.26it/s, disc_loss=-20.4, grad_penalty=0.56]"
     ]
    },
    {
     "name": "stdout",
     "output_type": "stream",
     "text": [
      "[12/15][0/20]\tLoss_D: -20.381790161132812\tLoss_G: 27.29092788696289\n"
     ]
    },
    {
     "name": "stderr",
     "output_type": "stream",
     "text": [
      "100%|██████████| 20/20 [00:10<00:00,  1.85it/s, disc_loss=-17.9, grad_penalty=0.568]\n",
      "  5%|▌         | 1/20 [00:00<00:08,  2.16it/s, disc_loss=-19.5, grad_penalty=0.594]"
     ]
    },
    {
     "name": "stdout",
     "output_type": "stream",
     "text": [
      "[13/15][0/20]\tLoss_D: -19.537433624267578\tLoss_G: 26.582916259765625\n"
     ]
    },
    {
     "name": "stderr",
     "output_type": "stream",
     "text": [
      "100%|██████████| 20/20 [00:10<00:00,  1.86it/s, disc_loss=-15.1, grad_penalty=0.538]\n",
      "  5%|▌         | 1/20 [00:00<00:08,  2.15it/s, disc_loss=-20.2, grad_penalty=0.559]"
     ]
    },
    {
     "name": "stdout",
     "output_type": "stream",
     "text": [
      "[14/15][0/20]\tLoss_D: -20.20722770690918\tLoss_G: 26.741519927978516\n"
     ]
    },
    {
     "name": "stderr",
     "output_type": "stream",
     "text": [
      "100%|██████████| 20/20 [00:10<00:00,  1.87it/s, disc_loss=-16, grad_penalty=0.489]\n"
     ]
    },
    {
     "name": "stdout",
     "output_type": "stream",
     "text": [
      "Curent image size: 8\n"
     ]
    },
    {
     "name": "stderr",
     "output_type": "stream",
     "text": [
      "  2%|▎         | 1/40 [00:00<00:19,  2.04it/s, disc_loss=-5.29, grad_penalty=0.0411]"
     ]
    },
    {
     "name": "stdout",
     "output_type": "stream",
     "text": [
      "[0/15][0/40]\tLoss_D: -5.29296875\tLoss_G: 6.756929397583008\n"
     ]
    },
    {
     "name": "stderr",
     "output_type": "stream",
     "text": [
      "100%|██████████| 40/40 [00:20<00:00,  1.99it/s, disc_loss=-8, grad_penalty=0.109]\n",
      "  2%|▎         | 1/40 [00:00<00:17,  2.18it/s, disc_loss=-6.72, grad_penalty=0.161]"
     ]
    },
    {
     "name": "stdout",
     "output_type": "stream",
     "text": [
      "[1/15][0/40]\tLoss_D: -6.717966079711914\tLoss_G: 11.81601619720459\n"
     ]
    },
    {
     "name": "stderr",
     "output_type": "stream",
     "text": [
      "100%|██████████| 40/40 [00:19<00:00,  2.06it/s, disc_loss=-5.41, grad_penalty=0.0532]\n",
      "  2%|▎         | 1/40 [00:00<00:31,  1.22it/s, disc_loss=-4.66, grad_penalty=0.0997]"
     ]
    },
    {
     "name": "stdout",
     "output_type": "stream",
     "text": [
      "[2/15][0/40]\tLoss_D: -4.663121223449707\tLoss_G: 10.639114379882812\n"
     ]
    },
    {
     "name": "stderr",
     "output_type": "stream",
     "text": [
      "100%|██████████| 40/40 [00:19<00:00,  2.03it/s, disc_loss=-2.99, grad_penalty=0.0922]\n",
      "  2%|▎         | 1/40 [00:00<00:18,  2.06it/s, disc_loss=-3.7, grad_penalty=0.0217]"
     ]
    },
    {
     "name": "stdout",
     "output_type": "stream",
     "text": [
      "[3/15][0/40]\tLoss_D: -3.701786994934082\tLoss_G: 8.090601921081543\n"
     ]
    },
    {
     "name": "stderr",
     "output_type": "stream",
     "text": [
      "100%|██████████| 40/40 [00:19<00:00,  2.03it/s, disc_loss=-3.87, grad_penalty=0.0674]\n",
      "  2%|▎         | 1/40 [00:00<00:17,  2.18it/s, disc_loss=-3.26, grad_penalty=0.0191]"
     ]
    },
    {
     "name": "stdout",
     "output_type": "stream",
     "text": [
      "[4/15][0/40]\tLoss_D: -3.264456033706665\tLoss_G: 10.715232849121094\n"
     ]
    },
    {
     "name": "stderr",
     "output_type": "stream",
     "text": [
      "100%|██████████| 40/40 [00:19<00:00,  2.07it/s, disc_loss=-3.12, grad_penalty=0.0443]\n",
      "  2%|▎         | 1/40 [00:00<00:18,  2.12it/s, disc_loss=-3.92, grad_penalty=0.0919]"
     ]
    },
    {
     "name": "stdout",
     "output_type": "stream",
     "text": [
      "[5/15][0/40]\tLoss_D: -3.9213154315948486\tLoss_G: 6.352998733520508\n"
     ]
    },
    {
     "name": "stderr",
     "output_type": "stream",
     "text": [
      "100%|██████████| 40/40 [00:19<00:00,  2.05it/s, disc_loss=-2.47, grad_penalty=0.017]\n",
      "  2%|▎         | 1/40 [00:00<00:17,  2.17it/s, disc_loss=-3.23, grad_penalty=0.0413]"
     ]
    },
    {
     "name": "stdout",
     "output_type": "stream",
     "text": [
      "[6/15][0/40]\tLoss_D: -3.226083517074585\tLoss_G: 7.933347702026367\n"
     ]
    },
    {
     "name": "stderr",
     "output_type": "stream",
     "text": [
      "100%|██████████| 40/40 [00:19<00:00,  2.02it/s, disc_loss=-3.18, grad_penalty=0.0586]\n",
      "  2%|▎         | 1/40 [00:00<00:18,  2.14it/s, disc_loss=-3.19, grad_penalty=0.0507]"
     ]
    },
    {
     "name": "stdout",
     "output_type": "stream",
     "text": [
      "[7/15][0/40]\tLoss_D: -3.185718059539795\tLoss_G: 7.471133708953857\n"
     ]
    },
    {
     "name": "stderr",
     "output_type": "stream",
     "text": [
      "100%|██████████| 40/40 [00:19<00:00,  2.07it/s, disc_loss=-2.63, grad_penalty=0.104]\n",
      "  2%|▎         | 1/40 [00:00<00:17,  2.23it/s, disc_loss=-2.97, grad_penalty=0.0113]"
     ]
    },
    {
     "name": "stdout",
     "output_type": "stream",
     "text": [
      "[8/15][0/40]\tLoss_D: -2.966506004333496\tLoss_G: 8.872446060180664\n"
     ]
    },
    {
     "name": "stderr",
     "output_type": "stream",
     "text": [
      "100%|██████████| 40/40 [00:19<00:00,  2.07it/s, disc_loss=-1.68, grad_penalty=0.0522]\n",
      "  2%|▎         | 1/40 [00:00<00:17,  2.19it/s, disc_loss=-1.89, grad_penalty=0.0113]"
     ]
    },
    {
     "name": "stdout",
     "output_type": "stream",
     "text": [
      "[9/15][0/40]\tLoss_D: -1.8876712322235107\tLoss_G: 7.054489612579346\n"
     ]
    },
    {
     "name": "stderr",
     "output_type": "stream",
     "text": [
      "100%|██████████| 40/40 [00:19<00:00,  2.03it/s, disc_loss=-2.74, grad_penalty=0.00663]\n",
      "  2%|▎         | 1/40 [00:00<00:18,  2.07it/s, disc_loss=-2.72, grad_penalty=0.158]"
     ]
    },
    {
     "name": "stdout",
     "output_type": "stream",
     "text": [
      "[10/15][0/40]\tLoss_D: -2.7155957221984863\tLoss_G: 2.4334096908569336\n"
     ]
    },
    {
     "name": "stderr",
     "output_type": "stream",
     "text": [
      "100%|██████████| 40/40 [00:19<00:00,  2.06it/s, disc_loss=-1.22, grad_penalty=0.0677]\n",
      "  2%|▎         | 1/40 [00:00<00:18,  2.15it/s, disc_loss=-1.57, grad_penalty=0.0309]"
     ]
    },
    {
     "name": "stdout",
     "output_type": "stream",
     "text": [
      "[11/15][0/40]\tLoss_D: -1.572250485420227\tLoss_G: 6.291515827178955\n"
     ]
    },
    {
     "name": "stderr",
     "output_type": "stream",
     "text": [
      "100%|██████████| 40/40 [00:19<00:00,  2.05it/s, disc_loss=-3.34, grad_penalty=0.0452]\n",
      "  2%|▎         | 1/40 [00:00<00:17,  2.20it/s, disc_loss=-3.19, grad_penalty=0.0371]"
     ]
    },
    {
     "name": "stdout",
     "output_type": "stream",
     "text": [
      "[12/15][0/40]\tLoss_D: -3.1917991638183594\tLoss_G: 5.693147659301758\n"
     ]
    },
    {
     "name": "stderr",
     "output_type": "stream",
     "text": [
      "100%|██████████| 40/40 [00:19<00:00,  2.05it/s, disc_loss=-2.97, grad_penalty=0.0341]\n",
      "  2%|▎         | 1/40 [00:00<00:17,  2.21it/s, disc_loss=-3.36, grad_penalty=0.0287]"
     ]
    },
    {
     "name": "stdout",
     "output_type": "stream",
     "text": [
      "[13/15][0/40]\tLoss_D: -3.3560075759887695\tLoss_G: 6.920656204223633\n"
     ]
    },
    {
     "name": "stderr",
     "output_type": "stream",
     "text": [
      "100%|██████████| 40/40 [00:19<00:00,  2.06it/s, disc_loss=-2.62, grad_penalty=0.0284]\n",
      "  2%|▎         | 1/40 [00:00<00:17,  2.17it/s, disc_loss=-2.21, grad_penalty=0.0458]"
     ]
    },
    {
     "name": "stdout",
     "output_type": "stream",
     "text": [
      "[14/15][0/40]\tLoss_D: -2.206385850906372\tLoss_G: 6.383028984069824\n"
     ]
    },
    {
     "name": "stderr",
     "output_type": "stream",
     "text": [
      "100%|██████████| 40/40 [00:19<00:00,  2.06it/s, disc_loss=-2.55, grad_penalty=0.0773]\n"
     ]
    },
    {
     "name": "stdout",
     "output_type": "stream",
     "text": [
      "Curent image size: 16\n"
     ]
    },
    {
     "name": "stderr",
     "output_type": "stream",
     "text": [
      "  1%|▏         | 1/79 [00:00<00:32,  2.38it/s, disc_loss=0.316, grad_penalty=0.232]"
     ]
    },
    {
     "name": "stdout",
     "output_type": "stream",
     "text": [
      "[0/15][0/79]\tLoss_D: 0.3163495659828186\tLoss_G: 8.232123374938965\n"
     ]
    },
    {
     "name": "stderr",
     "output_type": "stream",
     "text": [
      " 65%|██████▍   | 51/79 [00:21<00:13,  2.10it/s, disc_loss=-4.57, grad_penalty=0.11]"
     ]
    },
    {
     "name": "stdout",
     "output_type": "stream",
     "text": [
      "[0/15][50/79]\tLoss_D: -4.5746235847473145\tLoss_G: 11.811824798583984\n"
     ]
    },
    {
     "name": "stderr",
     "output_type": "stream",
     "text": [
      "100%|██████████| 79/79 [00:31<00:00,  2.47it/s, disc_loss=-5.9, grad_penalty=0.153]\n",
      "  1%|▏         | 1/79 [00:00<00:30,  2.59it/s, disc_loss=-4.44, grad_penalty=0.0273]"
     ]
    },
    {
     "name": "stdout",
     "output_type": "stream",
     "text": [
      "[1/15][0/79]\tLoss_D: -4.435088157653809\tLoss_G: 12.515087127685547\n"
     ]
    },
    {
     "name": "stderr",
     "output_type": "stream",
     "text": [
      " 65%|██████▍   | 51/79 [00:20<00:10,  2.57it/s, disc_loss=-5.85, grad_penalty=0.251]"
     ]
    },
    {
     "name": "stdout",
     "output_type": "stream",
     "text": [
      "[1/15][50/79]\tLoss_D: -5.854874134063721\tLoss_G: 7.225635528564453\n"
     ]
    },
    {
     "name": "stderr",
     "output_type": "stream",
     "text": [
      "100%|██████████| 79/79 [00:31<00:00,  2.47it/s, disc_loss=-4.62, grad_penalty=0.0523]\n",
      "  1%|▏         | 1/79 [00:00<00:30,  2.55it/s, disc_loss=-3.68, grad_penalty=0.072]"
     ]
    },
    {
     "name": "stdout",
     "output_type": "stream",
     "text": [
      "[2/15][0/79]\tLoss_D: -3.6760334968566895\tLoss_G: 5.5355329513549805\n"
     ]
    },
    {
     "name": "stderr",
     "output_type": "stream",
     "text": [
      " 65%|██████▍   | 51/79 [00:21<00:11,  2.35it/s, disc_loss=-3.34, grad_penalty=0.0201]"
     ]
    },
    {
     "name": "stdout",
     "output_type": "stream",
     "text": [
      "[2/15][50/79]\tLoss_D: -3.3369147777557373\tLoss_G: 5.379179954528809\n"
     ]
    },
    {
     "name": "stderr",
     "output_type": "stream",
     "text": [
      "100%|██████████| 79/79 [00:31<00:00,  2.48it/s, disc_loss=-6.2, grad_penalty=0.249]\n",
      "  1%|▏         | 1/79 [00:00<00:29,  2.62it/s, disc_loss=-0.799, grad_penalty=0.03]"
     ]
    },
    {
     "name": "stdout",
     "output_type": "stream",
     "text": [
      "[3/15][0/79]\tLoss_D: -0.7992026805877686\tLoss_G: 4.157162666320801\n"
     ]
    },
    {
     "name": "stderr",
     "output_type": "stream",
     "text": [
      " 65%|██████▍   | 51/79 [00:20<00:10,  2.58it/s, disc_loss=-3.54, grad_penalty=0.0166]"
     ]
    },
    {
     "name": "stdout",
     "output_type": "stream",
     "text": [
      "[3/15][50/79]\tLoss_D: -3.538966417312622\tLoss_G: 7.27131986618042\n"
     ]
    },
    {
     "name": "stderr",
     "output_type": "stream",
     "text": [
      "100%|██████████| 79/79 [00:31<00:00,  2.48it/s, disc_loss=-4.9, grad_penalty=0.0842]\n",
      "  1%|▏         | 1/79 [00:00<00:30,  2.58it/s, disc_loss=-5.48, grad_penalty=0.0566]"
     ]
    },
    {
     "name": "stdout",
     "output_type": "stream",
     "text": [
      "[4/15][0/79]\tLoss_D: -5.482237339019775\tLoss_G: 19.427560806274414\n"
     ]
    },
    {
     "name": "stderr",
     "output_type": "stream",
     "text": [
      " 65%|██████▍   | 51/79 [00:20<00:11,  2.40it/s, disc_loss=-5.63, grad_penalty=0.0943]"
     ]
    },
    {
     "name": "stdout",
     "output_type": "stream",
     "text": [
      "[4/15][50/79]\tLoss_D: -5.626511573791504\tLoss_G: 9.060726165771484\n"
     ]
    },
    {
     "name": "stderr",
     "output_type": "stream",
     "text": [
      "100%|██████████| 79/79 [00:31<00:00,  2.49it/s, disc_loss=-5.76, grad_penalty=0.0327]\n",
      "  1%|▏         | 1/79 [00:00<01:09,  1.12it/s, disc_loss=-4.08, grad_penalty=0.243]"
     ]
    },
    {
     "name": "stdout",
     "output_type": "stream",
     "text": [
      "[5/15][0/79]\tLoss_D: -4.082444667816162\tLoss_G: 4.290584564208984\n"
     ]
    },
    {
     "name": "stderr",
     "output_type": "stream",
     "text": [
      " 65%|██████▍   | 51/79 [00:21<00:10,  2.57it/s, disc_loss=-3.87, grad_penalty=0.124]"
     ]
    },
    {
     "name": "stdout",
     "output_type": "stream",
     "text": [
      "[5/15][50/79]\tLoss_D: -3.870823860168457\tLoss_G: 5.319068431854248\n"
     ]
    },
    {
     "name": "stderr",
     "output_type": "stream",
     "text": [
      "100%|██████████| 79/79 [00:31<00:00,  2.48it/s, disc_loss=-4.9, grad_penalty=0.0559]\n",
      "  1%|▏         | 1/79 [00:00<00:29,  2.63it/s, disc_loss=-3.52, grad_penalty=0.0459]"
     ]
    },
    {
     "name": "stdout",
     "output_type": "stream",
     "text": [
      "[6/15][0/79]\tLoss_D: -3.5213522911071777\tLoss_G: 8.002668380737305\n"
     ]
    },
    {
     "name": "stderr",
     "output_type": "stream",
     "text": [
      " 65%|██████▍   | 51/79 [00:20<00:15,  1.86it/s, disc_loss=-3.7, grad_penalty=0.114]"
     ]
    },
    {
     "name": "stdout",
     "output_type": "stream",
     "text": [
      "[6/15][50/79]\tLoss_D: -3.7039716243743896\tLoss_G: 4.920564651489258\n"
     ]
    },
    {
     "name": "stderr",
     "output_type": "stream",
     "text": [
      "100%|██████████| 79/79 [00:31<00:00,  2.47it/s, disc_loss=-4.39, grad_penalty=0.0839]\n",
      "  1%|▏         | 1/79 [00:00<00:30,  2.55it/s, disc_loss=-5.12, grad_penalty=0.0567]"
     ]
    },
    {
     "name": "stdout",
     "output_type": "stream",
     "text": [
      "[7/15][0/79]\tLoss_D: -5.119879245758057\tLoss_G: 11.541350364685059\n"
     ]
    },
    {
     "name": "stderr",
     "output_type": "stream",
     "text": [
      " 65%|██████▍   | 51/79 [00:20<00:11,  2.54it/s, disc_loss=-5.12, grad_penalty=0.14]"
     ]
    },
    {
     "name": "stdout",
     "output_type": "stream",
     "text": [
      "[7/15][50/79]\tLoss_D: -5.115567207336426\tLoss_G: 8.627558708190918\n"
     ]
    },
    {
     "name": "stderr",
     "output_type": "stream",
     "text": [
      "100%|██████████| 79/79 [00:31<00:00,  2.47it/s, disc_loss=-3.97, grad_penalty=0.0254]\n",
      "  1%|▏         | 1/79 [00:00<00:30,  2.58it/s, disc_loss=-5.58, grad_penalty=0.0283]"
     ]
    },
    {
     "name": "stdout",
     "output_type": "stream",
     "text": [
      "[8/15][0/79]\tLoss_D: -5.5776591300964355\tLoss_G: 13.879833221435547\n"
     ]
    },
    {
     "name": "stderr",
     "output_type": "stream",
     "text": [
      " 65%|██████▍   | 51/79 [00:20<00:10,  2.60it/s, disc_loss=-4.79, grad_penalty=0.0538]"
     ]
    },
    {
     "name": "stdout",
     "output_type": "stream",
     "text": [
      "[8/15][50/79]\tLoss_D: -4.794894695281982\tLoss_G: 8.124652862548828\n"
     ]
    },
    {
     "name": "stderr",
     "output_type": "stream",
     "text": [
      "100%|██████████| 79/79 [00:31<00:00,  2.49it/s, disc_loss=-7.8, grad_penalty=0.032]\n",
      "  1%|▏         | 1/79 [00:00<00:29,  2.63it/s, disc_loss=-6.51, grad_penalty=0.515]"
     ]
    },
    {
     "name": "stdout",
     "output_type": "stream",
     "text": [
      "[9/15][0/79]\tLoss_D: -6.508224010467529\tLoss_G: 0.9066741466522217\n"
     ]
    },
    {
     "name": "stderr",
     "output_type": "stream",
     "text": [
      " 65%|██████▍   | 51/79 [00:20<00:10,  2.59it/s, disc_loss=-3.72, grad_penalty=0.0744]"
     ]
    },
    {
     "name": "stdout",
     "output_type": "stream",
     "text": [
      "[9/15][50/79]\tLoss_D: -3.722994327545166\tLoss_G: 7.349363327026367\n"
     ]
    },
    {
     "name": "stderr",
     "output_type": "stream",
     "text": [
      "100%|██████████| 79/79 [00:31<00:00,  2.49it/s, disc_loss=-1.04, grad_penalty=0.0742]\n",
      "  1%|▏         | 1/79 [00:00<00:29,  2.61it/s, disc_loss=-5.88, grad_penalty=0.0223]"
     ]
    },
    {
     "name": "stdout",
     "output_type": "stream",
     "text": [
      "[10/15][0/79]\tLoss_D: -5.878929615020752\tLoss_G: 20.176239013671875\n"
     ]
    },
    {
     "name": "stderr",
     "output_type": "stream",
     "text": [
      " 65%|██████▍   | 51/79 [00:20<00:10,  2.60it/s, disc_loss=-3.37, grad_penalty=0.0434]"
     ]
    },
    {
     "name": "stdout",
     "output_type": "stream",
     "text": [
      "[10/15][50/79]\tLoss_D: -3.371715545654297\tLoss_G: 3.3248796463012695\n"
     ]
    },
    {
     "name": "stderr",
     "output_type": "stream",
     "text": [
      "100%|██████████| 79/79 [00:31<00:00,  2.48it/s, disc_loss=-2.02, grad_penalty=0.0495]\n",
      "  1%|▏         | 1/79 [00:00<00:30,  2.57it/s, disc_loss=-4.38, grad_penalty=0.0101]"
     ]
    },
    {
     "name": "stdout",
     "output_type": "stream",
     "text": [
      "[11/15][0/79]\tLoss_D: -4.382711887359619\tLoss_G: 10.706586837768555\n"
     ]
    },
    {
     "name": "stderr",
     "output_type": "stream",
     "text": [
      " 65%|██████▍   | 51/79 [00:20<00:10,  2.57it/s, disc_loss=-3.56, grad_penalty=0.0704]"
     ]
    },
    {
     "name": "stdout",
     "output_type": "stream",
     "text": [
      "[11/15][50/79]\tLoss_D: -3.5616610050201416\tLoss_G: 2.142284393310547\n"
     ]
    },
    {
     "name": "stderr",
     "output_type": "stream",
     "text": [
      "100%|██████████| 79/79 [00:31<00:00,  2.47it/s, disc_loss=-3.71, grad_penalty=0.0508]\n",
      "  1%|▏         | 1/79 [00:00<00:29,  2.61it/s, disc_loss=-2.96, grad_penalty=0.0394]"
     ]
    },
    {
     "name": "stdout",
     "output_type": "stream",
     "text": [
      "[12/15][0/79]\tLoss_D: -2.95666241645813\tLoss_G: 10.948244094848633\n"
     ]
    },
    {
     "name": "stderr",
     "output_type": "stream",
     "text": [
      " 65%|██████▍   | 51/79 [00:20<00:11,  2.54it/s, disc_loss=-3.05, grad_penalty=0.0683]"
     ]
    },
    {
     "name": "stdout",
     "output_type": "stream",
     "text": [
      "[12/15][50/79]\tLoss_D: -3.053831100463867\tLoss_G: 0.6192308664321899\n"
     ]
    },
    {
     "name": "stderr",
     "output_type": "stream",
     "text": [
      "100%|██████████| 79/79 [00:31<00:00,  2.49it/s, disc_loss=-3.01, grad_penalty=0.0479]\n",
      "  1%|▏         | 1/79 [00:00<00:31,  2.51it/s, disc_loss=-3.39, grad_penalty=0.0164]"
     ]
    },
    {
     "name": "stdout",
     "output_type": "stream",
     "text": [
      "[13/15][0/79]\tLoss_D: -3.3857250213623047\tLoss_G: 4.968049049377441\n"
     ]
    },
    {
     "name": "stderr",
     "output_type": "stream",
     "text": [
      " 65%|██████▍   | 51/79 [00:20<00:10,  2.59it/s, disc_loss=-3.6, grad_penalty=0.0223]"
     ]
    },
    {
     "name": "stdout",
     "output_type": "stream",
     "text": [
      "[13/15][50/79]\tLoss_D: -3.6002252101898193\tLoss_G: 0.9757803678512573\n"
     ]
    },
    {
     "name": "stderr",
     "output_type": "stream",
     "text": [
      "100%|██████████| 79/79 [00:31<00:00,  2.47it/s, disc_loss=-4.74, grad_penalty=0.00568]\n",
      "  1%|▏         | 1/79 [00:00<00:29,  2.61it/s, disc_loss=-2.82, grad_penalty=0.0807]"
     ]
    },
    {
     "name": "stdout",
     "output_type": "stream",
     "text": [
      "[14/15][0/79]\tLoss_D: -2.8154609203338623\tLoss_G: 8.71751880645752\n"
     ]
    },
    {
     "name": "stderr",
     "output_type": "stream",
     "text": [
      " 65%|██████▍   | 51/79 [00:20<00:11,  2.46it/s, disc_loss=-4.06, grad_penalty=0.0453]"
     ]
    },
    {
     "name": "stdout",
     "output_type": "stream",
     "text": [
      "[14/15][50/79]\tLoss_D: -4.058065414428711\tLoss_G: 6.185783386230469\n"
     ]
    },
    {
     "name": "stderr",
     "output_type": "stream",
     "text": [
      "100%|██████████| 79/79 [00:31<00:00,  2.48it/s, disc_loss=-3.58, grad_penalty=0.0316]\n"
     ]
    },
    {
     "name": "stdout",
     "output_type": "stream",
     "text": [
      "Curent image size: 32\n"
     ]
    },
    {
     "name": "stderr",
     "output_type": "stream",
     "text": [
      "  1%|          | 1/157 [00:00<01:39,  1.57it/s, disc_loss=-4.4, grad_penalty=0.154]"
     ]
    },
    {
     "name": "stdout",
     "output_type": "stream",
     "text": [
      "[0/15][0/157]\tLoss_D: -4.3992462158203125\tLoss_G: 28.911176681518555\n"
     ]
    },
    {
     "name": "stderr",
     "output_type": "stream",
     "text": [
      " 32%|███▏      | 51/157 [00:32<01:07,  1.57it/s, disc_loss=-5.69, grad_penalty=0.0301]"
     ]
    },
    {
     "name": "stdout",
     "output_type": "stream",
     "text": [
      "[0/15][50/157]\tLoss_D: -5.6862006187438965\tLoss_G: 20.96749496459961\n"
     ]
    },
    {
     "name": "stderr",
     "output_type": "stream",
     "text": [
      " 64%|██████▍   | 101/157 [01:06<00:35,  1.57it/s, disc_loss=-8.13, grad_penalty=0.159]"
     ]
    },
    {
     "name": "stdout",
     "output_type": "stream",
     "text": [
      "[0/15][100/157]\tLoss_D: -8.126181602478027\tLoss_G: 13.402531623840332\n"
     ]
    },
    {
     "name": "stderr",
     "output_type": "stream",
     "text": [
      " 96%|█████████▌| 151/157 [01:37<00:03,  1.58it/s, disc_loss=-3.8, grad_penalty=0.0955]"
     ]
    },
    {
     "name": "stdout",
     "output_type": "stream",
     "text": [
      "[0/15][150/157]\tLoss_D: -3.7992148399353027\tLoss_G: 10.790811538696289\n"
     ]
    },
    {
     "name": "stderr",
     "output_type": "stream",
     "text": [
      "100%|██████████| 157/157 [01:41<00:00,  1.55it/s, disc_loss=-3.94, grad_penalty=0.0636]\n",
      "  1%|          | 1/157 [00:00<01:39,  1.57it/s, disc_loss=-3.52, grad_penalty=0.0608]"
     ]
    },
    {
     "name": "stdout",
     "output_type": "stream",
     "text": [
      "[1/15][0/157]\tLoss_D: -3.524158000946045\tLoss_G: 7.465628623962402\n"
     ]
    },
    {
     "name": "stderr",
     "output_type": "stream",
     "text": [
      " 32%|███▏      | 51/157 [00:33<01:07,  1.57it/s, disc_loss=-4.86, grad_penalty=0.0869]"
     ]
    },
    {
     "name": "stdout",
     "output_type": "stream",
     "text": [
      "[1/15][50/157]\tLoss_D: -4.860171794891357\tLoss_G: 11.26640796661377\n"
     ]
    },
    {
     "name": "stderr",
     "output_type": "stream",
     "text": [
      " 64%|██████▍   | 101/157 [01:05<00:35,  1.56it/s, disc_loss=-3.14, grad_penalty=0.156]"
     ]
    },
    {
     "name": "stdout",
     "output_type": "stream",
     "text": [
      "[1/15][100/157]\tLoss_D: -3.1447482109069824\tLoss_G: 13.238655090332031\n"
     ]
    },
    {
     "name": "stderr",
     "output_type": "stream",
     "text": [
      " 96%|█████████▌| 151/157 [01:37<00:03,  1.55it/s, disc_loss=-4.57, grad_penalty=0.0905]"
     ]
    },
    {
     "name": "stdout",
     "output_type": "stream",
     "text": [
      "[1/15][150/157]\tLoss_D: -4.5678815841674805\tLoss_G: 6.997230529785156\n"
     ]
    },
    {
     "name": "stderr",
     "output_type": "stream",
     "text": [
      "100%|██████████| 157/157 [01:41<00:00,  1.55it/s, disc_loss=-2.21, grad_penalty=0.22]\n",
      "  1%|          | 1/157 [00:00<01:39,  1.57it/s, disc_loss=-3.52, grad_penalty=0.0856]"
     ]
    },
    {
     "name": "stdout",
     "output_type": "stream",
     "text": [
      "[2/15][0/157]\tLoss_D: -3.517049551010132\tLoss_G: 8.248137474060059\n"
     ]
    },
    {
     "name": "stderr",
     "output_type": "stream",
     "text": [
      " 32%|███▏      | 51/157 [00:32<01:07,  1.57it/s, disc_loss=-9.3, grad_penalty=0.0513]"
     ]
    },
    {
     "name": "stdout",
     "output_type": "stream",
     "text": [
      "[2/15][50/157]\tLoss_D: -9.297134399414062\tLoss_G: 14.85750961303711\n"
     ]
    },
    {
     "name": "stderr",
     "output_type": "stream",
     "text": [
      " 64%|██████▍   | 101/157 [01:05<00:35,  1.57it/s, disc_loss=-4.01, grad_penalty=0.115]"
     ]
    },
    {
     "name": "stdout",
     "output_type": "stream",
     "text": [
      "[2/15][100/157]\tLoss_D: -4.012907028198242\tLoss_G: 12.732120513916016\n"
     ]
    },
    {
     "name": "stderr",
     "output_type": "stream",
     "text": [
      " 96%|█████████▌| 151/157 [01:37<00:03,  1.57it/s, disc_loss=-3.79, grad_penalty=0.0743]"
     ]
    },
    {
     "name": "stdout",
     "output_type": "stream",
     "text": [
      "[2/15][150/157]\tLoss_D: -3.79469633102417\tLoss_G: 5.790585517883301\n"
     ]
    },
    {
     "name": "stderr",
     "output_type": "stream",
     "text": [
      "100%|██████████| 157/157 [01:41<00:00,  1.55it/s, disc_loss=-11.7, grad_penalty=0.264]\n",
      "  1%|          | 1/157 [00:00<01:39,  1.57it/s, disc_loss=-3.08, grad_penalty=0.198]"
     ]
    },
    {
     "name": "stdout",
     "output_type": "stream",
     "text": [
      "[3/15][0/157]\tLoss_D: -3.078207015991211\tLoss_G: 11.684990882873535\n"
     ]
    },
    {
     "name": "stderr",
     "output_type": "stream",
     "text": [
      " 32%|███▏      | 51/157 [00:32<01:07,  1.57it/s, disc_loss=6.09, grad_penalty=0.148]"
     ]
    },
    {
     "name": "stdout",
     "output_type": "stream",
     "text": [
      "[3/15][50/157]\tLoss_D: 6.088160514831543\tLoss_G: 7.821920394897461\n"
     ]
    },
    {
     "name": "stderr",
     "output_type": "stream",
     "text": [
      " 64%|██████▍   | 101/157 [01:05<00:35,  1.56it/s, disc_loss=-9.41, grad_penalty=0.142]"
     ]
    },
    {
     "name": "stdout",
     "output_type": "stream",
     "text": [
      "[3/15][100/157]\tLoss_D: -9.406695365905762\tLoss_G: 18.43182373046875\n"
     ]
    },
    {
     "name": "stderr",
     "output_type": "stream",
     "text": [
      " 96%|█████████▌| 151/157 [01:37<00:03,  1.56it/s, disc_loss=-7.92, grad_penalty=0.106]"
     ]
    },
    {
     "name": "stdout",
     "output_type": "stream",
     "text": [
      "[3/15][150/157]\tLoss_D: -7.91787576675415\tLoss_G: 16.335691452026367\n"
     ]
    },
    {
     "name": "stderr",
     "output_type": "stream",
     "text": [
      "100%|██████████| 157/157 [01:41<00:00,  1.55it/s, disc_loss=-3.19, grad_penalty=0.112]\n",
      "  1%|          | 1/157 [00:00<01:38,  1.58it/s, disc_loss=-6.33, grad_penalty=0.0763]"
     ]
    },
    {
     "name": "stdout",
     "output_type": "stream",
     "text": [
      "[4/15][0/157]\tLoss_D: -6.333508491516113\tLoss_G: 4.198373794555664\n"
     ]
    },
    {
     "name": "stderr",
     "output_type": "stream",
     "text": [
      " 32%|███▏      | 51/157 [00:32<01:08,  1.56it/s, disc_loss=-7.06, grad_penalty=0.106]"
     ]
    },
    {
     "name": "stdout",
     "output_type": "stream",
     "text": [
      "[4/15][50/157]\tLoss_D: -7.056206703186035\tLoss_G: 11.87783432006836\n"
     ]
    },
    {
     "name": "stderr",
     "output_type": "stream",
     "text": [
      " 64%|██████▍   | 101/157 [01:05<00:35,  1.56it/s, disc_loss=-5.99, grad_penalty=0.111]"
     ]
    },
    {
     "name": "stdout",
     "output_type": "stream",
     "text": [
      "[4/15][100/157]\tLoss_D: -5.991652488708496\tLoss_G: 12.185742378234863\n"
     ]
    },
    {
     "name": "stderr",
     "output_type": "stream",
     "text": [
      " 96%|█████████▌| 151/157 [01:38<00:03,  1.56it/s, disc_loss=-9.29, grad_penalty=0.0753]"
     ]
    },
    {
     "name": "stdout",
     "output_type": "stream",
     "text": [
      "[4/15][150/157]\tLoss_D: -9.294652938842773\tLoss_G: 21.651790618896484\n"
     ]
    },
    {
     "name": "stderr",
     "output_type": "stream",
     "text": [
      "100%|██████████| 157/157 [01:41<00:00,  1.54it/s, disc_loss=-0.397, grad_penalty=0.0944]\n",
      "  1%|          | 1/157 [00:00<01:40,  1.56it/s, disc_loss=-0.73, grad_penalty=0.0421]"
     ]
    },
    {
     "name": "stdout",
     "output_type": "stream",
     "text": [
      "[5/15][0/157]\tLoss_D: -0.7302191853523254\tLoss_G: 0.45767825841903687\n"
     ]
    },
    {
     "name": "stderr",
     "output_type": "stream",
     "text": [
      " 32%|███▏      | 51/157 [00:32<01:07,  1.56it/s, disc_loss=-6.02, grad_penalty=0.18]"
     ]
    },
    {
     "name": "stdout",
     "output_type": "stream",
     "text": [
      "[5/15][50/157]\tLoss_D: -6.021366596221924\tLoss_G: 12.104658126831055\n"
     ]
    },
    {
     "name": "stderr",
     "output_type": "stream",
     "text": [
      " 64%|██████▍   | 101/157 [01:05<00:40,  1.38it/s, disc_loss=-2.36, grad_penalty=0.0597]"
     ]
    },
    {
     "name": "stdout",
     "output_type": "stream",
     "text": [
      "[5/15][100/157]\tLoss_D: -2.35898494720459\tLoss_G: 1.689003586769104\n"
     ]
    },
    {
     "name": "stderr",
     "output_type": "stream",
     "text": [
      " 96%|█████████▌| 151/157 [01:38<00:03,  1.57it/s, disc_loss=-10, grad_penalty=0.0947]"
     ]
    },
    {
     "name": "stdout",
     "output_type": "stream",
     "text": [
      "[5/15][150/157]\tLoss_D: -10.019055366516113\tLoss_G: 16.008228302001953\n"
     ]
    },
    {
     "name": "stderr",
     "output_type": "stream",
     "text": [
      "100%|██████████| 157/157 [01:41<00:00,  1.55it/s, disc_loss=-10.8, grad_penalty=0.0549]\n",
      "  1%|          | 1/157 [00:00<01:40,  1.55it/s, disc_loss=-1.87, grad_penalty=0.184]"
     ]
    },
    {
     "name": "stdout",
     "output_type": "stream",
     "text": [
      "[6/15][0/157]\tLoss_D: -1.8711044788360596\tLoss_G: 6.53117561340332\n"
     ]
    },
    {
     "name": "stderr",
     "output_type": "stream",
     "text": [
      " 32%|███▏      | 51/157 [00:33<01:07,  1.57it/s, disc_loss=-10.4, grad_penalty=0.0828]"
     ]
    },
    {
     "name": "stdout",
     "output_type": "stream",
     "text": [
      "[6/15][50/157]\tLoss_D: -10.38119888305664\tLoss_G: 19.7509708404541\n"
     ]
    },
    {
     "name": "stderr",
     "output_type": "stream",
     "text": [
      " 64%|██████▍   | 101/157 [01:05<00:35,  1.57it/s, disc_loss=-9.1, grad_penalty=0.193]"
     ]
    },
    {
     "name": "stdout",
     "output_type": "stream",
     "text": [
      "[6/15][100/157]\tLoss_D: -9.104799270629883\tLoss_G: 15.36343765258789\n"
     ]
    },
    {
     "name": "stderr",
     "output_type": "stream",
     "text": [
      " 96%|█████████▌| 151/157 [01:38<00:03,  1.57it/s, disc_loss=-9.09, grad_penalty=0.378]"
     ]
    },
    {
     "name": "stdout",
     "output_type": "stream",
     "text": [
      "[6/15][150/157]\tLoss_D: -9.089509010314941\tLoss_G: 5.138694763183594\n"
     ]
    },
    {
     "name": "stderr",
     "output_type": "stream",
     "text": [
      "100%|██████████| 157/157 [01:41<00:00,  1.55it/s, disc_loss=-6.87, grad_penalty=0.162]\n",
      "  1%|          | 1/157 [00:00<01:38,  1.58it/s, disc_loss=-8.41, grad_penalty=0.047]"
     ]
    },
    {
     "name": "stdout",
     "output_type": "stream",
     "text": [
      "[7/15][0/157]\tLoss_D: -8.409039497375488\tLoss_G: 26.487600326538086\n"
     ]
    },
    {
     "name": "stderr",
     "output_type": "stream",
     "text": [
      " 32%|███▏      | 51/157 [00:32<01:07,  1.56it/s, disc_loss=-8.26, grad_penalty=0.0713]"
     ]
    },
    {
     "name": "stdout",
     "output_type": "stream",
     "text": [
      "[7/15][50/157]\tLoss_D: -8.260364532470703\tLoss_G: 11.817989349365234\n"
     ]
    },
    {
     "name": "stderr",
     "output_type": "stream",
     "text": [
      " 64%|██████▍   | 101/157 [01:04<00:39,  1.43it/s, disc_loss=-7.82, grad_penalty=0.104]"
     ]
    },
    {
     "name": "stdout",
     "output_type": "stream",
     "text": [
      "[7/15][100/157]\tLoss_D: -7.821974754333496\tLoss_G: 21.194917678833008\n"
     ]
    },
    {
     "name": "stderr",
     "output_type": "stream",
     "text": [
      " 96%|█████████▌| 151/157 [01:38<00:03,  1.55it/s, disc_loss=-5.52, grad_penalty=0.181]"
     ]
    },
    {
     "name": "stdout",
     "output_type": "stream",
     "text": [
      "[7/15][150/157]\tLoss_D: -5.519283294677734\tLoss_G: 2.111112356185913\n"
     ]
    },
    {
     "name": "stderr",
     "output_type": "stream",
     "text": [
      "100%|██████████| 157/157 [01:41<00:00,  1.55it/s, disc_loss=-7.51, grad_penalty=0.0646]\n",
      "  1%|          | 1/157 [00:00<01:39,  1.56it/s, disc_loss=-5.52, grad_penalty=0.153]"
     ]
    },
    {
     "name": "stdout",
     "output_type": "stream",
     "text": [
      "[8/15][0/157]\tLoss_D: -5.5193586349487305\tLoss_G: 19.4788761138916\n"
     ]
    },
    {
     "name": "stderr",
     "output_type": "stream",
     "text": [
      " 32%|███▏      | 51/157 [00:32<01:07,  1.57it/s, disc_loss=-7.49, grad_penalty=0.239]"
     ]
    },
    {
     "name": "stdout",
     "output_type": "stream",
     "text": [
      "[8/15][50/157]\tLoss_D: -7.486688613891602\tLoss_G: 13.206626892089844\n"
     ]
    },
    {
     "name": "stderr",
     "output_type": "stream",
     "text": [
      " 64%|██████▍   | 101/157 [01:05<00:35,  1.57it/s, disc_loss=-4.4, grad_penalty=0.0727]"
     ]
    },
    {
     "name": "stdout",
     "output_type": "stream",
     "text": [
      "[8/15][100/157]\tLoss_D: -4.397244930267334\tLoss_G: 8.315080642700195\n"
     ]
    },
    {
     "name": "stderr",
     "output_type": "stream",
     "text": [
      " 96%|█████████▌| 151/157 [01:37<00:03,  1.57it/s, disc_loss=-5.49, grad_penalty=0.134]"
     ]
    },
    {
     "name": "stdout",
     "output_type": "stream",
     "text": [
      "[8/15][150/157]\tLoss_D: -5.489346027374268\tLoss_G: 7.87268590927124\n"
     ]
    },
    {
     "name": "stderr",
     "output_type": "stream",
     "text": [
      "100%|██████████| 157/157 [01:41<00:00,  1.55it/s, disc_loss=-9.24, grad_penalty=0.045]\n",
      "  1%|          | 1/157 [00:00<01:39,  1.57it/s, disc_loss=-6.44, grad_penalty=0.205]"
     ]
    },
    {
     "name": "stdout",
     "output_type": "stream",
     "text": [
      "[9/15][0/157]\tLoss_D: -6.439548492431641\tLoss_G: 16.508575439453125\n"
     ]
    },
    {
     "name": "stderr",
     "output_type": "stream",
     "text": [
      " 32%|███▏      | 51/157 [00:32<01:07,  1.57it/s, disc_loss=-5.36, grad_penalty=0.0265]"
     ]
    },
    {
     "name": "stdout",
     "output_type": "stream",
     "text": [
      "[9/15][50/157]\tLoss_D: -5.359316825866699\tLoss_G: 13.28211784362793\n"
     ]
    },
    {
     "name": "stderr",
     "output_type": "stream",
     "text": [
      " 64%|██████▍   | 101/157 [01:05<00:35,  1.56it/s, disc_loss=-3.32, grad_penalty=0.0458]"
     ]
    },
    {
     "name": "stdout",
     "output_type": "stream",
     "text": [
      "[9/15][100/157]\tLoss_D: -3.315596103668213\tLoss_G: 2.922637939453125\n"
     ]
    },
    {
     "name": "stderr",
     "output_type": "stream",
     "text": [
      " 96%|█████████▌| 151/157 [01:38<00:03,  1.56it/s, disc_loss=-4.06, grad_penalty=0.118]"
     ]
    },
    {
     "name": "stdout",
     "output_type": "stream",
     "text": [
      "[9/15][150/157]\tLoss_D: -4.057333946228027\tLoss_G: 8.380535125732422\n"
     ]
    },
    {
     "name": "stderr",
     "output_type": "stream",
     "text": [
      "100%|██████████| 157/157 [01:41<00:00,  1.54it/s, disc_loss=-3.52, grad_penalty=0.0657]\n",
      "  1%|          | 1/157 [00:00<01:39,  1.57it/s, disc_loss=-5.99, grad_penalty=0.0506]"
     ]
    },
    {
     "name": "stdout",
     "output_type": "stream",
     "text": [
      "[10/15][0/157]\tLoss_D: -5.986412048339844\tLoss_G: 16.881122589111328\n"
     ]
    },
    {
     "name": "stderr",
     "output_type": "stream",
     "text": [
      " 32%|███▏      | 51/157 [00:33<01:11,  1.48it/s, disc_loss=-1.76, grad_penalty=0.111]"
     ]
    },
    {
     "name": "stdout",
     "output_type": "stream",
     "text": [
      "[10/15][50/157]\tLoss_D: -1.7607122659683228\tLoss_G: 5.958221435546875\n"
     ]
    },
    {
     "name": "stderr",
     "output_type": "stream",
     "text": [
      " 64%|██████▍   | 101/157 [01:05<00:35,  1.56it/s, disc_loss=-6.18, grad_penalty=0.098]"
     ]
    },
    {
     "name": "stdout",
     "output_type": "stream",
     "text": [
      "[10/15][100/157]\tLoss_D: -6.184765815734863\tLoss_G: 12.673202514648438\n"
     ]
    },
    {
     "name": "stderr",
     "output_type": "stream",
     "text": [
      " 96%|█████████▌| 151/157 [01:38<00:03,  1.56it/s, disc_loss=-4.24, grad_penalty=0.137]"
     ]
    },
    {
     "name": "stdout",
     "output_type": "stream",
     "text": [
      "[10/15][150/157]\tLoss_D: -4.243288993835449\tLoss_G: 12.901321411132812\n"
     ]
    },
    {
     "name": "stderr",
     "output_type": "stream",
     "text": [
      "100%|██████████| 157/157 [01:41<00:00,  1.54it/s, disc_loss=-5.94, grad_penalty=0.0175]\n",
      "  1%|          | 1/157 [00:00<01:39,  1.58it/s, disc_loss=-7.88, grad_penalty=0.0809]"
     ]
    },
    {
     "name": "stdout",
     "output_type": "stream",
     "text": [
      "[11/15][0/157]\tLoss_D: -7.883916854858398\tLoss_G: 22.733875274658203\n"
     ]
    },
    {
     "name": "stderr",
     "output_type": "stream",
     "text": [
      " 32%|███▏      | 51/157 [00:34<01:09,  1.53it/s, disc_loss=-4.07, grad_penalty=0.0476]"
     ]
    },
    {
     "name": "stdout",
     "output_type": "stream",
     "text": [
      "[11/15][50/157]\tLoss_D: -4.065436840057373\tLoss_G: 0.8817197680473328\n"
     ]
    },
    {
     "name": "stderr",
     "output_type": "stream",
     "text": [
      " 64%|██████▍   | 101/157 [01:06<00:35,  1.57it/s, disc_loss=-3.2, grad_penalty=0.0706]"
     ]
    },
    {
     "name": "stdout",
     "output_type": "stream",
     "text": [
      "[11/15][100/157]\tLoss_D: -3.1984691619873047\tLoss_G: 2.988551378250122\n"
     ]
    },
    {
     "name": "stderr",
     "output_type": "stream",
     "text": [
      " 96%|█████████▌| 151/157 [01:38<00:03,  1.55it/s, disc_loss=-3.13, grad_penalty=0.0826]"
     ]
    },
    {
     "name": "stdout",
     "output_type": "stream",
     "text": [
      "[11/15][150/157]\tLoss_D: -3.132495641708374\tLoss_G: 1.894972801208496\n"
     ]
    },
    {
     "name": "stderr",
     "output_type": "stream",
     "text": [
      "100%|██████████| 157/157 [01:41<00:00,  1.54it/s, disc_loss=-3.41, grad_penalty=0.046]\n",
      "  1%|          | 1/157 [00:00<01:38,  1.58it/s, disc_loss=-7.75, grad_penalty=0.0664]"
     ]
    },
    {
     "name": "stdout",
     "output_type": "stream",
     "text": [
      "[12/15][0/157]\tLoss_D: -7.745924949645996\tLoss_G: 18.277297973632812\n"
     ]
    },
    {
     "name": "stderr",
     "output_type": "stream",
     "text": [
      " 32%|███▏      | 51/157 [00:32<01:08,  1.56it/s, disc_loss=-4.18, grad_penalty=0.055]"
     ]
    },
    {
     "name": "stdout",
     "output_type": "stream",
     "text": [
      "[12/15][50/157]\tLoss_D: -4.175155162811279\tLoss_G: -2.760084629058838\n"
     ]
    },
    {
     "name": "stderr",
     "output_type": "stream",
     "text": [
      " 64%|██████▍   | 101/157 [01:05<00:35,  1.56it/s, disc_loss=-2.74, grad_penalty=0.0404]"
     ]
    },
    {
     "name": "stdout",
     "output_type": "stream",
     "text": [
      "[12/15][100/157]\tLoss_D: -2.7409069538116455\tLoss_G: 5.527841567993164\n"
     ]
    },
    {
     "name": "stderr",
     "output_type": "stream",
     "text": [
      " 96%|█████████▌| 151/157 [01:37<00:03,  1.57it/s, disc_loss=-3.25, grad_penalty=0.0354]"
     ]
    },
    {
     "name": "stdout",
     "output_type": "stream",
     "text": [
      "[12/15][150/157]\tLoss_D: -3.2492306232452393\tLoss_G: 3.8440423011779785\n"
     ]
    },
    {
     "name": "stderr",
     "output_type": "stream",
     "text": [
      "100%|██████████| 157/157 [01:41<00:00,  1.54it/s, disc_loss=-2.46, grad_penalty=0.053]\n",
      "  1%|          | 1/157 [00:00<01:39,  1.57it/s, disc_loss=1.33, grad_penalty=0.256]"
     ]
    },
    {
     "name": "stdout",
     "output_type": "stream",
     "text": [
      "[13/15][0/157]\tLoss_D: 1.3292888402938843\tLoss_G: 20.85757064819336\n"
     ]
    },
    {
     "name": "stderr",
     "output_type": "stream",
     "text": [
      " 32%|███▏      | 51/157 [00:33<01:07,  1.57it/s, disc_loss=-3.57, grad_penalty=0.0433]"
     ]
    },
    {
     "name": "stdout",
     "output_type": "stream",
     "text": [
      "[13/15][50/157]\tLoss_D: -3.5699729919433594\tLoss_G: 5.107812881469727\n"
     ]
    },
    {
     "name": "stderr",
     "output_type": "stream",
     "text": [
      " 64%|██████▍   | 101/157 [01:05<00:35,  1.56it/s, disc_loss=-2.12, grad_penalty=0.061]"
     ]
    },
    {
     "name": "stdout",
     "output_type": "stream",
     "text": [
      "[13/15][100/157]\tLoss_D: -2.1215569972991943\tLoss_G: 3.842684268951416\n"
     ]
    },
    {
     "name": "stderr",
     "output_type": "stream",
     "text": [
      " 96%|█████████▌| 151/157 [01:38<00:03,  1.57it/s, disc_loss=-5.77, grad_penalty=0.0389]"
     ]
    },
    {
     "name": "stdout",
     "output_type": "stream",
     "text": [
      "[13/15][150/157]\tLoss_D: -5.767136096954346\tLoss_G: 10.183266639709473\n"
     ]
    },
    {
     "name": "stderr",
     "output_type": "stream",
     "text": [
      "100%|██████████| 157/157 [01:41<00:00,  1.55it/s, disc_loss=-3.73, grad_penalty=0.0291]\n",
      "  1%|          | 1/157 [00:00<01:39,  1.56it/s, disc_loss=-4.07, grad_penalty=0.119]"
     ]
    },
    {
     "name": "stdout",
     "output_type": "stream",
     "text": [
      "[14/15][0/157]\tLoss_D: -4.071483135223389\tLoss_G: 9.75660514831543\n"
     ]
    },
    {
     "name": "stderr",
     "output_type": "stream",
     "text": [
      " 32%|███▏      | 51/157 [00:32<01:07,  1.57it/s, disc_loss=-2.48, grad_penalty=0.04]"
     ]
    },
    {
     "name": "stdout",
     "output_type": "stream",
     "text": [
      "[14/15][50/157]\tLoss_D: -2.482130527496338\tLoss_G: 1.013930082321167\n"
     ]
    },
    {
     "name": "stderr",
     "output_type": "stream",
     "text": [
      " 64%|██████▍   | 101/157 [01:05<00:35,  1.56it/s, disc_loss=-1.61, grad_penalty=0.0205]"
     ]
    },
    {
     "name": "stdout",
     "output_type": "stream",
     "text": [
      "[14/15][100/157]\tLoss_D: -1.6060864925384521\tLoss_G: 6.9359636306762695\n"
     ]
    },
    {
     "name": "stderr",
     "output_type": "stream",
     "text": [
      " 96%|█████████▌| 151/157 [01:37<00:03,  1.55it/s, disc_loss=-2.96, grad_penalty=0.0573]"
     ]
    },
    {
     "name": "stdout",
     "output_type": "stream",
     "text": [
      "[14/15][150/157]\tLoss_D: -2.9604039192199707\tLoss_G: 0.11270006000995636\n"
     ]
    },
    {
     "name": "stderr",
     "output_type": "stream",
     "text": [
      "100%|██████████| 157/157 [01:41<00:00,  1.54it/s, disc_loss=-2.19, grad_penalty=0.0537]\n"
     ]
    },
    {
     "name": "stdout",
     "output_type": "stream",
     "text": [
      "Curent image size: 64\n"
     ]
    },
    {
     "name": "stderr",
     "output_type": "stream",
     "text": [
      "  0%|          | 1/313 [00:00<04:37,  1.12it/s, disc_loss=-5.96, grad_penalty=0.155]"
     ]
    },
    {
     "name": "stdout",
     "output_type": "stream",
     "text": [
      "[0/15][0/313]\tLoss_D: -5.963237285614014\tLoss_G: 28.655447006225586\n"
     ]
    },
    {
     "name": "stderr",
     "output_type": "stream",
     "text": [
      " 16%|█▋        | 51/313 [00:45<03:49,  1.14it/s, disc_loss=-8.67, grad_penalty=0.185]"
     ]
    },
    {
     "name": "stdout",
     "output_type": "stream",
     "text": [
      "[0/15][50/313]\tLoss_D: -8.672369003295898\tLoss_G: 5.557939529418945\n"
     ]
    },
    {
     "name": "stderr",
     "output_type": "stream",
     "text": [
      " 32%|███▏      | 101/313 [01:28<03:05,  1.14it/s, disc_loss=-11.7, grad_penalty=0.1]"
     ]
    },
    {
     "name": "stdout",
     "output_type": "stream",
     "text": [
      "[0/15][100/313]\tLoss_D: -11.675427436828613\tLoss_G: 17.428007125854492\n"
     ]
    },
    {
     "name": "stderr",
     "output_type": "stream",
     "text": [
      " 48%|████▊     | 151/313 [02:13<02:21,  1.14it/s, disc_loss=-7.08, grad_penalty=0.036]"
     ]
    },
    {
     "name": "stdout",
     "output_type": "stream",
     "text": [
      "[0/15][150/313]\tLoss_D: -7.0782623291015625\tLoss_G: -1.390021800994873\n"
     ]
    },
    {
     "name": "stderr",
     "output_type": "stream",
     "text": [
      " 64%|██████▍   | 201/313 [02:58<01:38,  1.14it/s, disc_loss=-4.13, grad_penalty=0.112]"
     ]
    },
    {
     "name": "stdout",
     "output_type": "stream",
     "text": [
      "[0/15][200/313]\tLoss_D: -4.12733793258667\tLoss_G: 1.498311161994934\n"
     ]
    },
    {
     "name": "stderr",
     "output_type": "stream",
     "text": [
      " 80%|████████  | 251/313 [03:41<00:54,  1.14it/s, disc_loss=-11.3, grad_penalty=0.249]"
     ]
    },
    {
     "name": "stdout",
     "output_type": "stream",
     "text": [
      "[0/15][250/313]\tLoss_D: -11.257165908813477\tLoss_G: 52.02587890625\n"
     ]
    },
    {
     "name": "stderr",
     "output_type": "stream",
     "text": [
      " 96%|█████████▌| 301/313 [04:25<00:10,  1.14it/s, disc_loss=-5.16, grad_penalty=0.12]"
     ]
    },
    {
     "name": "stdout",
     "output_type": "stream",
     "text": [
      "[0/15][300/313]\tLoss_D: -5.15851354598999\tLoss_G: 2.3708689212799072\n"
     ]
    },
    {
     "name": "stderr",
     "output_type": "stream",
     "text": [
      "100%|██████████| 313/313 [04:36<00:00,  1.13it/s, disc_loss=-5, grad_penalty=0.0609]\n",
      "  0%|          | 1/313 [00:00<04:40,  1.11it/s, disc_loss=18.2, grad_penalty=0.428]"
     ]
    },
    {
     "name": "stdout",
     "output_type": "stream",
     "text": [
      "[1/15][0/313]\tLoss_D: 18.2283878326416\tLoss_G: 36.78156280517578\n"
     ]
    },
    {
     "name": "stderr",
     "output_type": "stream",
     "text": [
      " 16%|█▋        | 51/313 [00:45<03:53,  1.12it/s, disc_loss=-8.41, grad_penalty=0.313]"
     ]
    },
    {
     "name": "stdout",
     "output_type": "stream",
     "text": [
      "[1/15][50/313]\tLoss_D: -8.40815258026123\tLoss_G: 11.962576866149902\n"
     ]
    },
    {
     "name": "stderr",
     "output_type": "stream",
     "text": [
      " 32%|███▏      | 101/313 [01:30<03:10,  1.11it/s, disc_loss=-1.12, grad_penalty=0.0652]"
     ]
    },
    {
     "name": "stdout",
     "output_type": "stream",
     "text": [
      "[1/15][100/313]\tLoss_D: -1.1177194118499756\tLoss_G: 8.686847686767578\n"
     ]
    },
    {
     "name": "stderr",
     "output_type": "stream",
     "text": [
      " 48%|████▊     | 151/313 [02:14<02:25,  1.11it/s, disc_loss=-7.15, grad_penalty=0.0536]"
     ]
    },
    {
     "name": "stdout",
     "output_type": "stream",
     "text": [
      "[1/15][150/313]\tLoss_D: -7.153094291687012\tLoss_G: 9.151507377624512\n"
     ]
    },
    {
     "name": "stderr",
     "output_type": "stream",
     "text": [
      " 64%|██████▍   | 201/313 [02:58<01:40,  1.12it/s, disc_loss=-1.15, grad_penalty=0.171]"
     ]
    },
    {
     "name": "stdout",
     "output_type": "stream",
     "text": [
      "[1/15][200/313]\tLoss_D: -1.1531285047531128\tLoss_G: 21.21802520751953\n"
     ]
    },
    {
     "name": "stderr",
     "output_type": "stream",
     "text": [
      " 80%|████████  | 251/313 [03:42<00:55,  1.11it/s, disc_loss=1.84, grad_penalty=0.113]"
     ]
    },
    {
     "name": "stdout",
     "output_type": "stream",
     "text": [
      "[1/15][250/313]\tLoss_D: 1.8397096395492554\tLoss_G: 9.347591400146484\n"
     ]
    },
    {
     "name": "stderr",
     "output_type": "stream",
     "text": [
      " 96%|█████████▌| 301/313 [04:26<00:10,  1.12it/s, disc_loss=-16.6, grad_penalty=0.293]"
     ]
    },
    {
     "name": "stdout",
     "output_type": "stream",
     "text": [
      "[1/15][300/313]\tLoss_D: -16.59768295288086\tLoss_G: 27.497314453125\n"
     ]
    },
    {
     "name": "stderr",
     "output_type": "stream",
     "text": [
      "100%|██████████| 313/313 [04:36<00:00,  1.13it/s, disc_loss=-9.4, grad_penalty=0.113]\n",
      "  0%|          | 1/313 [00:00<04:32,  1.14it/s, disc_loss=-7.18, grad_penalty=0.0788]"
     ]
    },
    {
     "name": "stdout",
     "output_type": "stream",
     "text": [
      "[2/15][0/313]\tLoss_D: -7.181392669677734\tLoss_G: 19.514995574951172\n"
     ]
    },
    {
     "name": "stderr",
     "output_type": "stream",
     "text": [
      " 16%|█▋        | 51/313 [00:44<03:49,  1.14it/s, disc_loss=-7.8, grad_penalty=0.366]"
     ]
    },
    {
     "name": "stdout",
     "output_type": "stream",
     "text": [
      "[2/15][50/313]\tLoss_D: -7.798455715179443\tLoss_G: -0.37884950637817383\n"
     ]
    },
    {
     "name": "stderr",
     "output_type": "stream",
     "text": [
      " 32%|███▏      | 101/313 [01:29<03:49,  1.08s/it, disc_loss=-6.63, grad_penalty=0.0563]"
     ]
    },
    {
     "name": "stdout",
     "output_type": "stream",
     "text": [
      "[2/15][100/313]\tLoss_D: -6.626640319824219\tLoss_G: 8.546198844909668\n"
     ]
    },
    {
     "name": "stderr",
     "output_type": "stream",
     "text": [
      " 48%|████▊     | 151/313 [02:13<02:22,  1.14it/s, disc_loss=-9.23, grad_penalty=0.117]"
     ]
    },
    {
     "name": "stdout",
     "output_type": "stream",
     "text": [
      "[2/15][150/313]\tLoss_D: -9.23284912109375\tLoss_G: 17.186473846435547\n"
     ]
    },
    {
     "name": "stderr",
     "output_type": "stream",
     "text": [
      " 64%|██████▍   | 201/313 [02:57<01:37,  1.15it/s, disc_loss=-8.74, grad_penalty=0.212]"
     ]
    },
    {
     "name": "stdout",
     "output_type": "stream",
     "text": [
      "[2/15][200/313]\tLoss_D: -8.74454402923584\tLoss_G: 21.39196014404297\n"
     ]
    },
    {
     "name": "stderr",
     "output_type": "stream",
     "text": [
      " 80%|████████  | 251/313 [03:42<00:54,  1.14it/s, disc_loss=-8.23, grad_penalty=0.357]"
     ]
    },
    {
     "name": "stdout",
     "output_type": "stream",
     "text": [
      "[2/15][250/313]\tLoss_D: -8.226716041564941\tLoss_G: 9.952180862426758\n"
     ]
    },
    {
     "name": "stderr",
     "output_type": "stream",
     "text": [
      " 96%|█████████▌| 301/313 [04:26<00:10,  1.14it/s, disc_loss=-10.8, grad_penalty=0.153]"
     ]
    },
    {
     "name": "stdout",
     "output_type": "stream",
     "text": [
      "[2/15][300/313]\tLoss_D: -10.7911376953125\tLoss_G: 14.51637077331543\n"
     ]
    },
    {
     "name": "stderr",
     "output_type": "stream",
     "text": [
      "100%|██████████| 313/313 [04:36<00:00,  1.13it/s, disc_loss=-2.41, grad_penalty=0.216]\n",
      "  0%|          | 1/313 [00:00<04:33,  1.14it/s, disc_loss=-2.79, grad_penalty=0.115]"
     ]
    },
    {
     "name": "stdout",
     "output_type": "stream",
     "text": [
      "[3/15][0/313]\tLoss_D: -2.7917802333831787\tLoss_G: 8.598280906677246\n"
     ]
    },
    {
     "name": "stderr",
     "output_type": "stream",
     "text": [
      " 16%|█▋        | 51/313 [00:44<03:49,  1.14it/s, disc_loss=-8.44, grad_penalty=0.0488]"
     ]
    },
    {
     "name": "stdout",
     "output_type": "stream",
     "text": [
      "[3/15][50/313]\tLoss_D: -8.43590259552002\tLoss_G: 14.060063362121582\n"
     ]
    },
    {
     "name": "stderr",
     "output_type": "stream",
     "text": [
      " 32%|███▏      | 101/313 [01:29<03:05,  1.14it/s, disc_loss=-10.4, grad_penalty=0.058]"
     ]
    },
    {
     "name": "stdout",
     "output_type": "stream",
     "text": [
      "[3/15][100/313]\tLoss_D: -10.370438575744629\tLoss_G: 14.931756019592285\n"
     ]
    },
    {
     "name": "stderr",
     "output_type": "stream",
     "text": [
      " 48%|████▊     | 151/313 [02:13<02:21,  1.14it/s, disc_loss=-12.5, grad_penalty=0.0935]"
     ]
    },
    {
     "name": "stdout",
     "output_type": "stream",
     "text": [
      "[3/15][150/313]\tLoss_D: -12.532011985778809\tLoss_G: 25.773279190063477\n"
     ]
    },
    {
     "name": "stderr",
     "output_type": "stream",
     "text": [
      " 64%|██████▍   | 201/313 [02:57<01:38,  1.14it/s, disc_loss=-10.4, grad_penalty=0.147]"
     ]
    },
    {
     "name": "stdout",
     "output_type": "stream",
     "text": [
      "[3/15][200/313]\tLoss_D: -10.380415916442871\tLoss_G: 5.182600498199463\n"
     ]
    },
    {
     "name": "stderr",
     "output_type": "stream",
     "text": [
      " 80%|████████  | 251/313 [03:41<00:54,  1.13it/s, disc_loss=-11.8, grad_penalty=0.0698]"
     ]
    },
    {
     "name": "stdout",
     "output_type": "stream",
     "text": [
      "[3/15][250/313]\tLoss_D: -11.81921672821045\tLoss_G: -4.070956230163574\n"
     ]
    },
    {
     "name": "stderr",
     "output_type": "stream",
     "text": [
      " 96%|█████████▌| 301/313 [04:26<00:10,  1.12it/s, disc_loss=-9.69, grad_penalty=0.0414]"
     ]
    },
    {
     "name": "stdout",
     "output_type": "stream",
     "text": [
      "[3/15][300/313]\tLoss_D: -9.687090873718262\tLoss_G: 21.98642349243164\n"
     ]
    },
    {
     "name": "stderr",
     "output_type": "stream",
     "text": [
      "100%|██████████| 313/313 [04:36<00:00,  1.13it/s, disc_loss=-8.61, grad_penalty=0.117]\n",
      "  0%|          | 1/313 [00:00<04:32,  1.14it/s, disc_loss=-9.1, grad_penalty=0.231]"
     ]
    },
    {
     "name": "stdout",
     "output_type": "stream",
     "text": [
      "[4/15][0/313]\tLoss_D: -9.101920127868652\tLoss_G: 32.13248062133789\n"
     ]
    },
    {
     "name": "stderr",
     "output_type": "stream",
     "text": [
      " 16%|█▋        | 51/313 [00:45<03:49,  1.14it/s, disc_loss=-6.26, grad_penalty=0.144]"
     ]
    },
    {
     "name": "stdout",
     "output_type": "stream",
     "text": [
      "[4/15][50/313]\tLoss_D: -6.26318883895874\tLoss_G: -3.954252243041992\n"
     ]
    },
    {
     "name": "stderr",
     "output_type": "stream",
     "text": [
      " 32%|███▏      | 101/313 [01:29<03:06,  1.14it/s, disc_loss=-7.07, grad_penalty=0.15]"
     ]
    },
    {
     "name": "stdout",
     "output_type": "stream",
     "text": [
      "[4/15][100/313]\tLoss_D: -7.07314920425415\tLoss_G: 7.05968713760376\n"
     ]
    },
    {
     "name": "stderr",
     "output_type": "stream",
     "text": [
      " 48%|████▊     | 151/313 [02:13<02:21,  1.14it/s, disc_loss=-1.13, grad_penalty=0.0315]"
     ]
    },
    {
     "name": "stdout",
     "output_type": "stream",
     "text": [
      "[4/15][150/313]\tLoss_D: -1.129258155822754\tLoss_G: 14.496031761169434\n"
     ]
    },
    {
     "name": "stderr",
     "output_type": "stream",
     "text": [
      " 64%|██████▍   | 201/313 [02:58<01:37,  1.14it/s, disc_loss=-6.35, grad_penalty=0.122]"
     ]
    },
    {
     "name": "stdout",
     "output_type": "stream",
     "text": [
      "[4/15][200/313]\tLoss_D: -6.345035076141357\tLoss_G: 0.8490172028541565\n"
     ]
    },
    {
     "name": "stderr",
     "output_type": "stream",
     "text": [
      " 80%|████████  | 251/313 [03:42<00:54,  1.14it/s, disc_loss=-5.36, grad_penalty=0.0509]"
     ]
    },
    {
     "name": "stdout",
     "output_type": "stream",
     "text": [
      "[4/15][250/313]\tLoss_D: -5.357013702392578\tLoss_G: 9.487713813781738\n"
     ]
    },
    {
     "name": "stderr",
     "output_type": "stream",
     "text": [
      " 96%|█████████▌| 301/313 [04:26<00:10,  1.14it/s, disc_loss=-8.45, grad_penalty=0.145]"
     ]
    },
    {
     "name": "stdout",
     "output_type": "stream",
     "text": [
      "[4/15][300/313]\tLoss_D: -8.447033882141113\tLoss_G: 21.912128448486328\n"
     ]
    },
    {
     "name": "stderr",
     "output_type": "stream",
     "text": [
      "100%|██████████| 313/313 [04:36<00:00,  1.13it/s, disc_loss=-10.9, grad_penalty=0.161]\n",
      "  0%|          | 1/313 [00:00<04:31,  1.15it/s, disc_loss=-10.8, grad_penalty=0.0912]"
     ]
    },
    {
     "name": "stdout",
     "output_type": "stream",
     "text": [
      "[5/15][0/313]\tLoss_D: -10.762601852416992\tLoss_G: 32.50749969482422\n"
     ]
    },
    {
     "name": "stderr",
     "output_type": "stream",
     "text": [
      " 16%|█▋        | 51/313 [00:45<03:51,  1.13it/s, disc_loss=-9.45, grad_penalty=0.0551]"
     ]
    },
    {
     "name": "stdout",
     "output_type": "stream",
     "text": [
      "[5/15][50/313]\tLoss_D: -9.45488166809082\tLoss_G: 17.088977813720703\n"
     ]
    },
    {
     "name": "stderr",
     "output_type": "stream",
     "text": [
      " 32%|███▏      | 101/313 [01:29<03:08,  1.13it/s, disc_loss=-6.91, grad_penalty=0.0298]"
     ]
    },
    {
     "name": "stdout",
     "output_type": "stream",
     "text": [
      "[5/15][100/313]\tLoss_D: -6.907532215118408\tLoss_G: 12.25960922241211\n"
     ]
    },
    {
     "name": "stderr",
     "output_type": "stream",
     "text": [
      " 48%|████▊     | 151/313 [02:13<02:23,  1.13it/s, disc_loss=-10.3, grad_penalty=0.114]"
     ]
    },
    {
     "name": "stdout",
     "output_type": "stream",
     "text": [
      "[5/15][150/313]\tLoss_D: -10.348614692687988\tLoss_G: 42.60374450683594\n"
     ]
    },
    {
     "name": "stderr",
     "output_type": "stream",
     "text": [
      " 64%|██████▍   | 201/313 [02:57<01:39,  1.13it/s, disc_loss=0.27, grad_penalty=0.33]"
     ]
    },
    {
     "name": "stdout",
     "output_type": "stream",
     "text": [
      "[5/15][200/313]\tLoss_D: 0.2701939046382904\tLoss_G: 4.318873882293701\n"
     ]
    },
    {
     "name": "stderr",
     "output_type": "stream",
     "text": [
      " 80%|████████  | 251/313 [03:41<00:54,  1.13it/s, disc_loss=-10.3, grad_penalty=0.105]"
     ]
    },
    {
     "name": "stdout",
     "output_type": "stream",
     "text": [
      "[5/15][250/313]\tLoss_D: -10.291167259216309\tLoss_G: 21.647071838378906\n"
     ]
    },
    {
     "name": "stderr",
     "output_type": "stream",
     "text": [
      " 96%|█████████▌| 301/313 [04:26<00:10,  1.13it/s, disc_loss=-3.35, grad_penalty=0.139]"
     ]
    },
    {
     "name": "stdout",
     "output_type": "stream",
     "text": [
      "[5/15][300/313]\tLoss_D: -3.3509368896484375\tLoss_G: 9.614800453186035\n"
     ]
    },
    {
     "name": "stderr",
     "output_type": "stream",
     "text": [
      "100%|██████████| 313/313 [04:36<00:00,  1.13it/s, disc_loss=-6.92, grad_penalty=0.0641]\n",
      "  0%|          | 1/313 [00:00<04:37,  1.12it/s, disc_loss=-1.08, grad_penalty=0.0246]"
     ]
    },
    {
     "name": "stdout",
     "output_type": "stream",
     "text": [
      "[6/15][0/313]\tLoss_D: -1.0786657333374023\tLoss_G: -2.3469350337982178\n"
     ]
    },
    {
     "name": "stderr",
     "output_type": "stream",
     "text": [
      " 16%|█▋        | 51/313 [00:45<04:02,  1.08it/s, disc_loss=-5.28, grad_penalty=0.176]"
     ]
    },
    {
     "name": "stdout",
     "output_type": "stream",
     "text": [
      "[6/15][50/313]\tLoss_D: -5.275697231292725\tLoss_G: 22.911081314086914\n"
     ]
    },
    {
     "name": "stderr",
     "output_type": "stream",
     "text": [
      " 32%|███▏      | 101/313 [01:30<03:08,  1.12it/s, disc_loss=-8.61, grad_penalty=0.0894]"
     ]
    },
    {
     "name": "stdout",
     "output_type": "stream",
     "text": [
      "[6/15][100/313]\tLoss_D: -8.60540771484375\tLoss_G: 12.10615062713623\n"
     ]
    },
    {
     "name": "stderr",
     "output_type": "stream",
     "text": [
      " 48%|████▊     | 151/313 [02:14<02:21,  1.14it/s, disc_loss=-7.58, grad_penalty=0.0273]"
     ]
    },
    {
     "name": "stdout",
     "output_type": "stream",
     "text": [
      "[6/15][150/313]\tLoss_D: -7.575234889984131\tLoss_G: -7.10231876373291\n"
     ]
    },
    {
     "name": "stderr",
     "output_type": "stream",
     "text": [
      " 64%|██████▍   | 201/313 [02:58<01:37,  1.14it/s, disc_loss=-0.122, grad_penalty=0.0906]"
     ]
    },
    {
     "name": "stdout",
     "output_type": "stream",
     "text": [
      "[6/15][200/313]\tLoss_D: -0.12210079282522202\tLoss_G: 7.244996070861816\n"
     ]
    },
    {
     "name": "stderr",
     "output_type": "stream",
     "text": [
      " 80%|████████  | 251/313 [03:42<00:54,  1.14it/s, disc_loss=-2.82, grad_penalty=0.0927]"
     ]
    },
    {
     "name": "stdout",
     "output_type": "stream",
     "text": [
      "[6/15][250/313]\tLoss_D: -2.817559003829956\tLoss_G: 14.510446548461914\n"
     ]
    },
    {
     "name": "stderr",
     "output_type": "stream",
     "text": [
      " 96%|█████████▌| 301/313 [04:26<00:10,  1.14it/s, disc_loss=-9.57, grad_penalty=0.0462]"
     ]
    },
    {
     "name": "stdout",
     "output_type": "stream",
     "text": [
      "[6/15][300/313]\tLoss_D: -9.566784858703613\tLoss_G: 4.895968914031982\n"
     ]
    },
    {
     "name": "stderr",
     "output_type": "stream",
     "text": [
      "100%|██████████| 313/313 [04:36<00:00,  1.13it/s, disc_loss=-3.97, grad_penalty=0.123]\n",
      "  0%|          | 1/313 [00:00<04:34,  1.14it/s, disc_loss=-7.8, grad_penalty=0.0418]"
     ]
    },
    {
     "name": "stdout",
     "output_type": "stream",
     "text": [
      "[7/15][0/313]\tLoss_D: -7.79713773727417\tLoss_G: 6.703673362731934\n"
     ]
    },
    {
     "name": "stderr",
     "output_type": "stream",
     "text": [
      " 16%|█▋        | 51/313 [00:45<03:48,  1.15it/s, disc_loss=-4.57, grad_penalty=0.275]"
     ]
    },
    {
     "name": "stdout",
     "output_type": "stream",
     "text": [
      "[7/15][50/313]\tLoss_D: -4.570498943328857\tLoss_G: 25.67542266845703\n"
     ]
    },
    {
     "name": "stderr",
     "output_type": "stream",
     "text": [
      " 32%|███▏      | 101/313 [01:29<03:05,  1.14it/s, disc_loss=-3.81, grad_penalty=0.332]"
     ]
    },
    {
     "name": "stdout",
     "output_type": "stream",
     "text": [
      "[7/15][100/313]\tLoss_D: -3.8064663410186768\tLoss_G: 45.31309509277344\n"
     ]
    },
    {
     "name": "stderr",
     "output_type": "stream",
     "text": [
      " 48%|████▊     | 151/313 [02:13<02:33,  1.06it/s, disc_loss=-5.53, grad_penalty=0.0944]"
     ]
    },
    {
     "name": "stdout",
     "output_type": "stream",
     "text": [
      "[7/15][150/313]\tLoss_D: -5.525214672088623\tLoss_G: 10.048799514770508\n"
     ]
    },
    {
     "name": "stderr",
     "output_type": "stream",
     "text": [
      " 64%|██████▍   | 201/313 [02:57<01:37,  1.14it/s, disc_loss=-6.05, grad_penalty=0.0728]"
     ]
    },
    {
     "name": "stdout",
     "output_type": "stream",
     "text": [
      "[7/15][200/313]\tLoss_D: -6.046816349029541\tLoss_G: 7.014779090881348\n"
     ]
    },
    {
     "name": "stderr",
     "output_type": "stream",
     "text": [
      " 80%|████████  | 251/313 [03:42<00:54,  1.14it/s, disc_loss=-1.44, grad_penalty=0.169]"
     ]
    },
    {
     "name": "stdout",
     "output_type": "stream",
     "text": [
      "[7/15][250/313]\tLoss_D: -1.4365650415420532\tLoss_G: 16.49544334411621\n"
     ]
    },
    {
     "name": "stderr",
     "output_type": "stream",
     "text": [
      " 96%|█████████▌| 301/313 [04:26<00:10,  1.14it/s, disc_loss=-6.51, grad_penalty=0.16]"
     ]
    },
    {
     "name": "stdout",
     "output_type": "stream",
     "text": [
      "[7/15][300/313]\tLoss_D: -6.511497497558594\tLoss_G: 4.2758307456970215\n"
     ]
    },
    {
     "name": "stderr",
     "output_type": "stream",
     "text": [
      "100%|██████████| 313/313 [04:36<00:00,  1.13it/s, disc_loss=-2.92, grad_penalty=0.0749]\n",
      "  0%|          | 1/313 [00:00<04:35,  1.13it/s, disc_loss=-8.11, grad_penalty=0.0501]"
     ]
    },
    {
     "name": "stdout",
     "output_type": "stream",
     "text": [
      "[8/15][0/313]\tLoss_D: -8.107959747314453\tLoss_G: 13.706655502319336\n"
     ]
    },
    {
     "name": "stderr",
     "output_type": "stream",
     "text": [
      " 16%|█▋        | 51/313 [00:45<03:49,  1.14it/s, disc_loss=-12.1, grad_penalty=0.0806]"
     ]
    },
    {
     "name": "stdout",
     "output_type": "stream",
     "text": [
      "[8/15][50/313]\tLoss_D: -12.064769744873047\tLoss_G: 18.211833953857422\n"
     ]
    },
    {
     "name": "stderr",
     "output_type": "stream",
     "text": [
      " 32%|███▏      | 101/313 [01:29<03:05,  1.14it/s, disc_loss=-7.23, grad_penalty=0.0855]"
     ]
    },
    {
     "name": "stdout",
     "output_type": "stream",
     "text": [
      "[8/15][100/313]\tLoss_D: -7.233729362487793\tLoss_G: 13.64097785949707\n"
     ]
    },
    {
     "name": "stderr",
     "output_type": "stream",
     "text": [
      " 48%|████▊     | 151/313 [02:14<02:22,  1.14it/s, disc_loss=-6.05, grad_penalty=0.0875]"
     ]
    },
    {
     "name": "stdout",
     "output_type": "stream",
     "text": [
      "[8/15][150/313]\tLoss_D: -6.051407337188721\tLoss_G: 16.173540115356445\n"
     ]
    },
    {
     "name": "stderr",
     "output_type": "stream",
     "text": [
      " 64%|██████▍   | 201/313 [02:58<01:38,  1.14it/s, disc_loss=-3.7, grad_penalty=0.11]"
     ]
    },
    {
     "name": "stdout",
     "output_type": "stream",
     "text": [
      "[8/15][200/313]\tLoss_D: -3.7043752670288086\tLoss_G: 3.917053461074829\n"
     ]
    },
    {
     "name": "stderr",
     "output_type": "stream",
     "text": [
      " 80%|████████  | 251/313 [03:42<00:54,  1.14it/s, disc_loss=-1.78, grad_penalty=0.0846]"
     ]
    },
    {
     "name": "stdout",
     "output_type": "stream",
     "text": [
      "[8/15][250/313]\tLoss_D: -1.78183913230896\tLoss_G: 11.287996292114258\n"
     ]
    },
    {
     "name": "stderr",
     "output_type": "stream",
     "text": [
      " 96%|█████████▌| 301/313 [04:26<00:10,  1.14it/s, disc_loss=-7.72, grad_penalty=0.0889]"
     ]
    },
    {
     "name": "stdout",
     "output_type": "stream",
     "text": [
      "[8/15][300/313]\tLoss_D: -7.717367172241211\tLoss_G: 5.3911237716674805\n"
     ]
    },
    {
     "name": "stderr",
     "output_type": "stream",
     "text": [
      "100%|██████████| 313/313 [04:36<00:00,  1.13it/s, disc_loss=-3.02, grad_penalty=0.022]\n",
      "  0%|          | 1/313 [00:00<04:31,  1.15it/s, disc_loss=-2.75, grad_penalty=0.0587]"
     ]
    },
    {
     "name": "stdout",
     "output_type": "stream",
     "text": [
      "[9/15][0/313]\tLoss_D: -2.75075364112854\tLoss_G: 1.0709298849105835\n"
     ]
    },
    {
     "name": "stderr",
     "output_type": "stream",
     "text": [
      " 16%|█▋        | 51/313 [00:44<03:50,  1.14it/s, disc_loss=0.263, grad_penalty=0.183]"
     ]
    },
    {
     "name": "stdout",
     "output_type": "stream",
     "text": [
      "[9/15][50/313]\tLoss_D: 0.2630607485771179\tLoss_G: 11.520191192626953\n"
     ]
    },
    {
     "name": "stderr",
     "output_type": "stream",
     "text": [
      " 32%|███▏      | 101/313 [01:29<03:06,  1.14it/s, disc_loss=-3.79, grad_penalty=0.143]"
     ]
    },
    {
     "name": "stdout",
     "output_type": "stream",
     "text": [
      "[9/15][100/313]\tLoss_D: -3.7860605716705322\tLoss_G: 29.36349868774414\n"
     ]
    },
    {
     "name": "stderr",
     "output_type": "stream",
     "text": [
      " 48%|████▊     | 151/313 [02:13<02:22,  1.14it/s, disc_loss=-9.09, grad_penalty=0.0699]"
     ]
    },
    {
     "name": "stdout",
     "output_type": "stream",
     "text": [
      "[9/15][150/313]\tLoss_D: -9.088566780090332\tLoss_G: 11.393624305725098\n"
     ]
    },
    {
     "name": "stderr",
     "output_type": "stream",
     "text": [
      " 64%|██████▍   | 201/313 [02:57<01:49,  1.03it/s, disc_loss=-1.82, grad_penalty=0.116]"
     ]
    },
    {
     "name": "stdout",
     "output_type": "stream",
     "text": [
      "[9/15][200/313]\tLoss_D: -1.8171066045761108\tLoss_G: -0.20294511318206787\n"
     ]
    },
    {
     "name": "stderr",
     "output_type": "stream",
     "text": [
      " 80%|████████  | 251/313 [03:42<00:54,  1.14it/s, disc_loss=-4.14, grad_penalty=0.0355]"
     ]
    },
    {
     "name": "stdout",
     "output_type": "stream",
     "text": [
      "[9/15][250/313]\tLoss_D: -4.135284900665283\tLoss_G: 8.04857063293457\n"
     ]
    },
    {
     "name": "stderr",
     "output_type": "stream",
     "text": [
      " 96%|█████████▌| 301/313 [04:26<00:10,  1.14it/s, disc_loss=-8.2, grad_penalty=0.0691]"
     ]
    },
    {
     "name": "stdout",
     "output_type": "stream",
     "text": [
      "[9/15][300/313]\tLoss_D: -8.202417373657227\tLoss_G: 20.9951229095459\n"
     ]
    },
    {
     "name": "stderr",
     "output_type": "stream",
     "text": [
      "100%|██████████| 313/313 [04:36<00:00,  1.13it/s, disc_loss=-1.56, grad_penalty=0.0665]\n",
      "  0%|          | 1/313 [00:00<04:31,  1.15it/s, disc_loss=-2.39, grad_penalty=0.0851]"
     ]
    },
    {
     "name": "stdout",
     "output_type": "stream",
     "text": [
      "[10/15][0/313]\tLoss_D: -2.3852391242980957\tLoss_G: -7.805665493011475\n"
     ]
    },
    {
     "name": "stderr",
     "output_type": "stream",
     "text": [
      " 16%|█▋        | 51/313 [00:45<04:02,  1.08it/s, disc_loss=-2.61, grad_penalty=0.141]"
     ]
    },
    {
     "name": "stdout",
     "output_type": "stream",
     "text": [
      "[10/15][50/313]\tLoss_D: -2.6056227684020996\tLoss_G: 3.821521282196045\n"
     ]
    },
    {
     "name": "stderr",
     "output_type": "stream",
     "text": [
      " 32%|███▏      | 101/313 [01:29<03:06,  1.14it/s, disc_loss=-8.79, grad_penalty=0.0719]"
     ]
    },
    {
     "name": "stdout",
     "output_type": "stream",
     "text": [
      "[10/15][100/313]\tLoss_D: -8.79102611541748\tLoss_G: 26.211050033569336\n"
     ]
    },
    {
     "name": "stderr",
     "output_type": "stream",
     "text": [
      " 48%|████▊     | 151/313 [02:13<02:21,  1.14it/s, disc_loss=-4.04, grad_penalty=0.0707]"
     ]
    },
    {
     "name": "stdout",
     "output_type": "stream",
     "text": [
      "[10/15][150/313]\tLoss_D: -4.043921947479248\tLoss_G: 9.862174987792969\n"
     ]
    },
    {
     "name": "stderr",
     "output_type": "stream",
     "text": [
      " 64%|██████▍   | 201/313 [02:57<01:37,  1.15it/s, disc_loss=-9.33, grad_penalty=0.0393]"
     ]
    },
    {
     "name": "stdout",
     "output_type": "stream",
     "text": [
      "[10/15][200/313]\tLoss_D: -9.332375526428223\tLoss_G: 1.316572666168213\n"
     ]
    },
    {
     "name": "stderr",
     "output_type": "stream",
     "text": [
      " 80%|████████  | 251/313 [03:42<00:54,  1.14it/s, disc_loss=-4.94, grad_penalty=0.124]"
     ]
    },
    {
     "name": "stdout",
     "output_type": "stream",
     "text": [
      "[10/15][250/313]\tLoss_D: -4.944465160369873\tLoss_G: 26.62701988220215\n"
     ]
    },
    {
     "name": "stderr",
     "output_type": "stream",
     "text": [
      " 96%|█████████▌| 301/313 [04:26<00:10,  1.15it/s, disc_loss=-6.3, grad_penalty=0.0297]"
     ]
    },
    {
     "name": "stdout",
     "output_type": "stream",
     "text": [
      "[10/15][300/313]\tLoss_D: -6.303985595703125\tLoss_G: 10.390682220458984\n"
     ]
    },
    {
     "name": "stderr",
     "output_type": "stream",
     "text": [
      "100%|██████████| 313/313 [04:36<00:00,  1.13it/s, disc_loss=-7.34, grad_penalty=0.0781]\n",
      "  0%|          | 1/313 [00:00<04:31,  1.15it/s, disc_loss=-4.1, grad_penalty=0.176]"
     ]
    },
    {
     "name": "stdout",
     "output_type": "stream",
     "text": [
      "[11/15][0/313]\tLoss_D: -4.103508472442627\tLoss_G: 9.43590259552002\n"
     ]
    },
    {
     "name": "stderr",
     "output_type": "stream",
     "text": [
      " 16%|█▋        | 51/313 [00:44<03:49,  1.14it/s, disc_loss=-9.04, grad_penalty=0.0495]"
     ]
    },
    {
     "name": "stdout",
     "output_type": "stream",
     "text": [
      "[11/15][50/313]\tLoss_D: -9.04205322265625\tLoss_G: 19.247196197509766\n"
     ]
    },
    {
     "name": "stderr",
     "output_type": "stream",
     "text": [
      " 32%|███▏      | 101/313 [01:28<03:05,  1.14it/s, disc_loss=-6.46, grad_penalty=0.0536]"
     ]
    },
    {
     "name": "stdout",
     "output_type": "stream",
     "text": [
      "[11/15][100/313]\tLoss_D: -6.455109119415283\tLoss_G: 4.354342937469482\n"
     ]
    },
    {
     "name": "stderr",
     "output_type": "stream",
     "text": [
      " 48%|████▊     | 151/313 [02:13<02:23,  1.13it/s, disc_loss=-2.92, grad_penalty=0.0871]"
     ]
    },
    {
     "name": "stdout",
     "output_type": "stream",
     "text": [
      "[11/15][150/313]\tLoss_D: -2.9188616275787354\tLoss_G: 6.503661155700684\n"
     ]
    },
    {
     "name": "stderr",
     "output_type": "stream",
     "text": [
      " 64%|██████▍   | 201/313 [02:58<01:38,  1.14it/s, disc_loss=-11.3, grad_penalty=0.109]"
     ]
    },
    {
     "name": "stdout",
     "output_type": "stream",
     "text": [
      "[11/15][200/313]\tLoss_D: -11.301763534545898\tLoss_G: 10.088116645812988\n"
     ]
    },
    {
     "name": "stderr",
     "output_type": "stream",
     "text": [
      " 80%|████████  | 251/313 [03:42<00:54,  1.15it/s, disc_loss=-5.89, grad_penalty=0.0502]"
     ]
    },
    {
     "name": "stdout",
     "output_type": "stream",
     "text": [
      "[11/15][250/313]\tLoss_D: -5.893895626068115\tLoss_G: 12.147278785705566\n"
     ]
    },
    {
     "name": "stderr",
     "output_type": "stream",
     "text": [
      " 96%|█████████▌| 301/313 [04:26<00:10,  1.15it/s, disc_loss=-6.35, grad_penalty=0.155]"
     ]
    },
    {
     "name": "stdout",
     "output_type": "stream",
     "text": [
      "[11/15][300/313]\tLoss_D: -6.346835136413574\tLoss_G: 21.69508934020996\n"
     ]
    },
    {
     "name": "stderr",
     "output_type": "stream",
     "text": [
      "100%|██████████| 313/313 [04:36<00:00,  1.13it/s, disc_loss=-6.12, grad_penalty=0.072]\n",
      "  0%|          | 1/313 [00:00<04:34,  1.14it/s, disc_loss=-5.81, grad_penalty=0.0364]"
     ]
    },
    {
     "name": "stdout",
     "output_type": "stream",
     "text": [
      "[12/15][0/313]\tLoss_D: -5.8073201179504395\tLoss_G: 12.21725845336914\n"
     ]
    },
    {
     "name": "stderr",
     "output_type": "stream",
     "text": [
      " 16%|█▋        | 51/313 [00:45<03:50,  1.14it/s, disc_loss=-5.14, grad_penalty=0.125]"
     ]
    },
    {
     "name": "stdout",
     "output_type": "stream",
     "text": [
      "[12/15][50/313]\tLoss_D: -5.135004043579102\tLoss_G: 15.443946838378906\n"
     ]
    },
    {
     "name": "stderr",
     "output_type": "stream",
     "text": [
      " 32%|███▏      | 101/313 [01:29<03:05,  1.14it/s, disc_loss=-3.11, grad_penalty=0.165]"
     ]
    },
    {
     "name": "stdout",
     "output_type": "stream",
     "text": [
      "[12/15][100/313]\tLoss_D: -3.110278606414795\tLoss_G: 22.752429962158203\n"
     ]
    },
    {
     "name": "stderr",
     "output_type": "stream",
     "text": [
      " 48%|████▊     | 151/313 [02:13<02:22,  1.14it/s, disc_loss=-5.23, grad_penalty=0.126]"
     ]
    },
    {
     "name": "stdout",
     "output_type": "stream",
     "text": [
      "[12/15][150/313]\tLoss_D: -5.225987434387207\tLoss_G: 24.40422821044922\n"
     ]
    },
    {
     "name": "stderr",
     "output_type": "stream",
     "text": [
      " 64%|██████▍   | 201/313 [02:57<01:38,  1.14it/s, disc_loss=-3.67, grad_penalty=0.193]"
     ]
    },
    {
     "name": "stdout",
     "output_type": "stream",
     "text": [
      "[12/15][200/313]\tLoss_D: -3.6698849201202393\tLoss_G: 27.259891510009766\n"
     ]
    },
    {
     "name": "stderr",
     "output_type": "stream",
     "text": [
      " 80%|████████  | 251/313 [03:41<00:54,  1.15it/s, disc_loss=0.492, grad_penalty=0.0865]"
     ]
    },
    {
     "name": "stdout",
     "output_type": "stream",
     "text": [
      "[12/15][250/313]\tLoss_D: 0.49181702733039856\tLoss_G: 4.751121997833252\n"
     ]
    },
    {
     "name": "stderr",
     "output_type": "stream",
     "text": [
      " 96%|█████████▌| 301/313 [04:26<00:11,  1.06it/s, disc_loss=-5.34, grad_penalty=0.0293]"
     ]
    },
    {
     "name": "stdout",
     "output_type": "stream",
     "text": [
      "[12/15][300/313]\tLoss_D: -5.344016075134277\tLoss_G: 22.254642486572266\n"
     ]
    },
    {
     "name": "stderr",
     "output_type": "stream",
     "text": [
      "100%|██████████| 313/313 [04:36<00:00,  1.13it/s, disc_loss=-4.14, grad_penalty=0.0154]\n",
      "  0%|          | 1/313 [00:00<04:31,  1.15it/s, disc_loss=-3.06, grad_penalty=0.0759]"
     ]
    },
    {
     "name": "stdout",
     "output_type": "stream",
     "text": [
      "[13/15][0/313]\tLoss_D: -3.062731981277466\tLoss_G: 29.31652069091797\n"
     ]
    },
    {
     "name": "stderr",
     "output_type": "stream",
     "text": [
      " 16%|█▋        | 51/313 [00:44<03:50,  1.14it/s, disc_loss=-2.17, grad_penalty=0.053]"
     ]
    },
    {
     "name": "stdout",
     "output_type": "stream",
     "text": [
      "[13/15][50/313]\tLoss_D: -2.1703274250030518\tLoss_G: 9.452366828918457\n"
     ]
    },
    {
     "name": "stderr",
     "output_type": "stream",
     "text": [
      " 32%|███▏      | 101/313 [01:29<03:05,  1.14it/s, disc_loss=-8.48, grad_penalty=0.126]"
     ]
    },
    {
     "name": "stdout",
     "output_type": "stream",
     "text": [
      "[13/15][100/313]\tLoss_D: -8.477585792541504\tLoss_G: 0.07774370908737183\n"
     ]
    },
    {
     "name": "stderr",
     "output_type": "stream",
     "text": [
      " 48%|████▊     | 151/313 [02:13<02:22,  1.14it/s, disc_loss=-5.61, grad_penalty=0.0679]"
     ]
    },
    {
     "name": "stdout",
     "output_type": "stream",
     "text": [
      "[13/15][150/313]\tLoss_D: -5.614068031311035\tLoss_G: -1.3021466732025146\n"
     ]
    },
    {
     "name": "stderr",
     "output_type": "stream",
     "text": [
      " 64%|██████▍   | 201/313 [02:57<01:38,  1.14it/s, disc_loss=-2.08, grad_penalty=0.141]"
     ]
    },
    {
     "name": "stdout",
     "output_type": "stream",
     "text": [
      "[13/15][200/313]\tLoss_D: -2.081806182861328\tLoss_G: 3.8691656589508057\n"
     ]
    },
    {
     "name": "stderr",
     "output_type": "stream",
     "text": [
      " 80%|████████  | 251/313 [03:41<01:00,  1.02it/s, disc_loss=-5.95, grad_penalty=0.0865]"
     ]
    },
    {
     "name": "stdout",
     "output_type": "stream",
     "text": [
      "[13/15][250/313]\tLoss_D: -5.945957183837891\tLoss_G: 11.617242813110352\n"
     ]
    },
    {
     "name": "stderr",
     "output_type": "stream",
     "text": [
      " 96%|█████████▌| 301/313 [04:26<00:11,  1.06it/s, disc_loss=-1.87, grad_penalty=0.0294]"
     ]
    },
    {
     "name": "stdout",
     "output_type": "stream",
     "text": [
      "[13/15][300/313]\tLoss_D: -1.8749076128005981\tLoss_G: 10.234275817871094\n"
     ]
    },
    {
     "name": "stderr",
     "output_type": "stream",
     "text": [
      "100%|██████████| 313/313 [04:36<00:00,  1.13it/s, disc_loss=2.61, grad_penalty=0.1]\n",
      "  0%|          | 1/313 [00:00<04:34,  1.14it/s, disc_loss=-6.21, grad_penalty=0.0334]"
     ]
    },
    {
     "name": "stdout",
     "output_type": "stream",
     "text": [
      "[14/15][0/313]\tLoss_D: -6.210270881652832\tLoss_G: 15.825779914855957\n"
     ]
    },
    {
     "name": "stderr",
     "output_type": "stream",
     "text": [
      " 16%|█▋        | 51/313 [00:44<03:49,  1.14it/s, disc_loss=-9.95, grad_penalty=0.0734]"
     ]
    },
    {
     "name": "stdout",
     "output_type": "stream",
     "text": [
      "[14/15][50/313]\tLoss_D: -9.95029354095459\tLoss_G: 16.877317428588867\n"
     ]
    },
    {
     "name": "stderr",
     "output_type": "stream",
     "text": [
      " 32%|███▏      | 101/313 [01:29<03:08,  1.12it/s, disc_loss=-6.54, grad_penalty=0.0713]"
     ]
    },
    {
     "name": "stdout",
     "output_type": "stream",
     "text": [
      "[14/15][100/313]\tLoss_D: -6.542635917663574\tLoss_G: 16.926773071289062\n"
     ]
    },
    {
     "name": "stderr",
     "output_type": "stream",
     "text": [
      " 48%|████▊     | 151/313 [02:13<02:21,  1.14it/s, disc_loss=-3.72, grad_penalty=0.224]"
     ]
    },
    {
     "name": "stdout",
     "output_type": "stream",
     "text": [
      "[14/15][150/313]\tLoss_D: -3.7240147590637207\tLoss_G: 14.461654663085938\n"
     ]
    },
    {
     "name": "stderr",
     "output_type": "stream",
     "text": [
      " 64%|██████▍   | 201/313 [02:57<01:45,  1.06it/s, disc_loss=-6.52, grad_penalty=0.0731]"
     ]
    },
    {
     "name": "stdout",
     "output_type": "stream",
     "text": [
      "[14/15][200/313]\tLoss_D: -6.523617744445801\tLoss_G: 36.3365478515625\n"
     ]
    },
    {
     "name": "stderr",
     "output_type": "stream",
     "text": [
      " 80%|████████  | 251/313 [03:42<00:54,  1.15it/s, disc_loss=-5.26, grad_penalty=0.066]"
     ]
    },
    {
     "name": "stdout",
     "output_type": "stream",
     "text": [
      "[14/15][250/313]\tLoss_D: -5.257760047912598\tLoss_G: 9.523021697998047\n"
     ]
    },
    {
     "name": "stderr",
     "output_type": "stream",
     "text": [
      " 96%|█████████▌| 301/313 [04:26<00:10,  1.13it/s, disc_loss=-4.63, grad_penalty=0.115]"
     ]
    },
    {
     "name": "stdout",
     "output_type": "stream",
     "text": [
      "[14/15][300/313]\tLoss_D: -4.625700950622559\tLoss_G: 5.9054036140441895\n"
     ]
    },
    {
     "name": "stderr",
     "output_type": "stream",
     "text": [
      "100%|██████████| 313/313 [04:36<00:00,  1.13it/s, disc_loss=-3.06, grad_penalty=0.0618]\n"
     ]
    },
    {
     "data": {
      "image/png": "[encoded data removed]",
      "text/plain": [
       "<Figure size 1000x500 with 1 Axes>"
      ]
     },
     "metadata": {},
     "output_type": "display_data"
    }
   ],
   "source": [
    "device = \"cuda\" if torch.cuda.is_available() else \"cpu\"\n",
    "\n",
    "# Hyperparameters and global variables\n",
    "dataset_dir = \"/kaggle/input/flower-classification-5-classes-roselilyetc/Flower Classification/Flower Classification/Training Data\"\n",
    "start_train_img_size = 4\n",
    "lr = 1e-3\n",
    "batch_sizes = [256,128,64,32,16]\n",
    "channels_img = 3\n",
    "z_dim = 512\n",
    "w_dim = 512\n",
    "in_channels = 512\n",
    "lambda_gp = 10\n",
    "progressive_epochs = [15] * len(batch_sizes)\n",
    "gen_save_path = \"/kaggle/working/stylegan_gen.pth\"\n",
    "disc_save_path = \"/kaggle/working/stylegan_disc.pth\"\n",
    "training_plot_save_path = \"/kaggle/working/train_plot.png\"\n",
    "animation_save_path = \"/kaggle/working/animation.mp4\"\n",
    "\n",
    "# check_loader() \n",
    "\n",
    "# Define models and optimizers\n",
    "gen_net = Generator(z_dim, w_dim, in_channels, channels_img).to(device)\n",
    "disc_net = Discriminator(in_channels, channels_img).to(device)\n",
    "gen_optimizer = optim.Adam([{\"params\": [param for name, param in gen_net.named_parameters() if \"map\" not in name]},\n",
    "                     {\"params\": gen_net.map.parameters(), \"lr\": 1e-5}], lr=lr, betas=(0.0, 0.99))\n",
    "disc_optimizer = optim.Adam(disc_net.parameters(), lr=lr, betas=(0.0, 0.99))\n",
    "\n",
    "# Lists to keep track of progress\n",
    "G_losses = []\n",
    "D_losses = []\n",
    "iters = 0\n",
    "\n",
    "# Monitor Progress\n",
    "progress = list()\n",
    "fixed_noise = torch.randn(50, z_dim, device=device)\n",
    "fixed_labels = []\n",
    "for i in range(5):\n",
    "    lab = [0 if j != i else 1 for j in range(5)]\n",
    "    lab = lab*10\n",
    "    fixed_labels.append(lab)\n",
    "fixed_labels = torch.Tensor(fixed_labels).view(50, 5).float().to(device)\n",
    "\n",
    "# Training loop\n",
    "gen_net.train()\n",
    "disc_net.train()\n",
    "step = int(math.log2(start_train_img_size / 4))\n",
    "for num_epochs in progressive_epochs[step:]:\n",
    "    alpha = 1e-7\n",
    "    \n",
    "    loader, dataset = get_loader(4*2**step)\n",
    "    print(\"Curent image size: \" + str(4*2**step))\n",
    "\n",
    "    for epoch in range(num_epochs):\n",
    "        # print(f\"Epoch [{epoch + 1}/{num_epochs}\")\n",
    "\n",
    "        loop = tqdm(loader, leave=True)\n",
    "\n",
    "        for batch_idx, (real_images, labels) in enumerate(loop):\n",
    "            real_images = real_images.to(device)\n",
    "            current_batch_size = real_images.shape[0]\n",
    "            noise = torch.randn(current_batch_size, z_dim).to(device)\n",
    "            labels = labels.to(device).to(torch.float32)\n",
    "#             print(labels.dtype)\n",
    "#             print(real_images.shape, labels.shape)\n",
    "            \n",
    "            fake = gen_net(noise, labels, alpha, step)\n",
    "            real_output = disc_net(real_images, labels, alpha, step)\n",
    "            fake_output = disc_net(fake.detach(), labels, alpha, step)\n",
    "\n",
    "            grad_penalty = gradient_penalty(disc_net, labels, real_images, fake, alpha, step, device)\n",
    "            disc_loss = (-(torch.mean(real_output)-torch.mean(fake_output)) + lambda_gp*grad_penalty + (0.001)*torch.mean(real_output**2))\n",
    "\n",
    "            disc_net.zero_grad()\n",
    "            disc_loss.backward()\n",
    "            disc_optimizer.step()\n",
    "\n",
    "            gen_fake = disc_net(fake, labels, alpha, step)\n",
    "            gen_loss = -torch.mean(gen_fake)\n",
    "\n",
    "            gen_net.zero_grad()\n",
    "            gen_loss.backward()\n",
    "            gen_optimizer.step()\n",
    "\n",
    "            alpha += current_batch_size/(progressive_epochs[step]*0.5*len(dataset))\n",
    "            alpha = min(alpha,1)\n",
    "\n",
    "            loop.set_postfix(grad_penalty = grad_penalty.item(), disc_loss = disc_loss.item())\n",
    "        \n",
    "            # Training Update\n",
    "            if batch_idx % 50 == 0:\n",
    "                print(f\"[{epoch}/{num_epochs}][{batch_idx}/{len(loader)}]\\tLoss_D: {disc_loss.item()}\\tLoss_G: {gen_loss.item()}\")\n",
    "\n",
    "            # Tracking loss\n",
    "            G_losses.append(gen_loss.item())\n",
    "            D_losses.append(disc_loss.item())\n",
    "\n",
    "            # Tracking Generator Progress\n",
    "            if (iters%50 == 0) or ((epoch == num_epochs-1) and (batch_idx == len(loader)-1)):\n",
    "                with torch.no_grad():\n",
    "                    fake = gen_net(fixed_noise, fixed_labels, alpha, step).detach().cpu()\n",
    "                progress.append(torch_utils.make_grid(fake, padding=2, nrow=10, normalize=True))\n",
    "\n",
    "            iters += 1\n",
    "\n",
    "#     generate_examples(gen_net, step)\n",
    "    step += 1\n",
    "\n",
    "# Save generator\n",
    "torch.save(gen_net, gen_save_path)\n",
    "torch.save(disc_net, disc_save_path)\n",
    "\n",
    "# Plot Training Graph\n",
    "fig1 = plt.figure(figsize=(10, 5))\n",
    "plt.title(\"Generator and Discriminator Loss During Training\")\n",
    "plt.plot(G_losses, label=\"G\")\n",
    "plt.plot(D_losses, label=\"D\")\n",
    "plt.xlabel(\"iterations\")\n",
    "plt.ylabel(\"Loss\")\n",
    "plt.legend()\n",
    "plt.savefig(training_plot_save_path)\n",
    "plt.show()\n",
    "\n",
    "# Progress Animation\n",
    "fig2 = plt.figure(figsize=(8, 8))\n",
    "plt.axis(\"off\")\n",
    "ims = [[plt.imshow(np.transpose(i, (1, 2, 0)), animated=True)] for i in progress]\n",
    "anim = animation.ArtistAnimation(fig2, ims, interval=1000, repeat_delay=1000, blit=True)\n",
    "writervideo = animation.FFMpegWriter(fps=5)\n",
    "anim.save(animation_save_path, writer=writervideo)\n",
    "plt.close()"
   ]
  }
 ],
 "metadata": {
  "kaggle": {
   "accelerator": "none",
   "dataSources": [
    {
     "datasetId": 2604803,
     "sourceId": 4607952,
     "sourceType": "datasetVersion"
    }
   ],
   "isGpuEnabled": false,
   "isInternetEnabled": true,
   "language": "python",
   "sourceType": "notebook"
  },
  "kernelspec": {
   "display_name": "Python 3",
   "language": "python",
   "name": "python3"
  },
  "language_info": {
   "codemirror_mode": {
    "name": "ipython",
    "version": 3
   },
   "file_extension": ".py",
   "mimetype": "text/x-python",
   "name": "python",
   "nbconvert_exporter": "python",
   "pygments_lexer": "ipython3",
   "version": "3.10.13"
  },
  "papermill": {
   "default_parameters": {},
   "duration": 6641.682745,
   "end_time": "2024-06-06T22:27:53.338960",
   "environment_variables": {},
   "exception": null,
   "input_path": "__notebook__.ipynb",
   "output_path": "__notebook__.ipynb",
   "parameters": {},
   "start_time": "2024-06-06T20:37:11.656215",
   "version": "2.5.0"
  }
 },
 "nbformat": 4,
 "nbformat_minor": 5
}
