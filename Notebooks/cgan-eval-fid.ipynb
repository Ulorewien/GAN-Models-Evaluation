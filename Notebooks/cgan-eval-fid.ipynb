{
 "cells": [
  {
   "cell_type": "code",
   "execution_count": null,
   "metadata": {},
   "outputs": [],
   "source": [
    "import torch\n",
    "from torch.utils.data import DataLoader, Dataset\n",
    "from torchvision import transforms, models\n",
    "import numpy as np\n",
    "from scipy.linalg import sqrtm"
   ]
  },
  {
   "cell_type": "code",
   "execution_count": null,
   "metadata": {},
   "outputs": [],
   "source": [
    "# Define a custom dataset class\n",
    "class CustomImageDataset(Dataset):\n",
    "    def __init__(self, image_tensors):\n",
    "        self.image_tensors = image_tensors\n",
    "\n",
    "    def __len__(self):\n",
    "        return len(self.image_tensors)\n",
    "\n",
    "    def __getitem__(self, idx):\n",
    "        return self.image_tensors[idx], 0  # Dummy label\n",
    "\n",
    "# Function to extract features using InceptionV3\n",
    "def get_features(dataloader, model, device):\n",
    "    model.eval()\n",
    "    features = []\n",
    "    with torch.no_grad():\n",
    "        for images, _ in dataloader:\n",
    "            images = images.to(device)\n",
    "            pred = model(images)[0]  \n",
    "            features.append(pred.cpu().numpy())\n",
    "    features = np.concatenate(features, axis=0)\n",
    "    return features\n",
    "\n",
    "# Function to calculate FID\n",
    "def calculate_fid(real_features, generated_features):\n",
    "    mu1, sigma1 = np.mean(real_features, axis=0), np.cov(real_features, rowvar=False)\n",
    "    mu2, sigma2 = np.mean(generated_features, axis=0), np.cov(generated_features, rowvar=False)\n",
    "    \n",
    "    ssdiff = np.sum((mu1 - mu2)**2.0)\n",
    "    covmean = sqrtm(sigma1.dot(sigma2))\n",
    "    \n",
    "    if np.iscomplexobj(covmean):\n",
    "        covmean = covmean.real\n",
    "        \n",
    "    fid = ssdiff + np.trace(sigma1 + sigma2 - 2.0 * covmean)\n",
    "    return fid\n"
   ]
  },
  {
   "cell_type": "code",
   "execution_count": null,
   "metadata": {},
   "outputs": [],
   "source": [
    "transform = transforms.Compose([\n",
    "    transforms.Resize((64, 64)),\n",
    "    transforms.ToTensor(),\n",
    "    transforms.Normalize(mean=[0.5, 0.5, 0.5], std=[0.5, 0.5, 0.5])\n",
    "])\n",
    "\n",
    "# Load real images and generated images (replace with your actual images)\n",
    "real_images = ...  # List or tensor of real images\n",
    "generated_images = ...  # List or tensor of generated images\n",
    "\n",
    "# Transform and create datasets\n",
    "real_images = torch.stack([transform(img) for img in real_images])\n",
    "generated_images = torch.stack([transform(img) for img in generated_images])\n",
    "\n",
    "real_dataset = CustomImageDataset(real_images)\n",
    "generated_dataset = CustomImageDataset(generated_images)\n",
    "\n",
    "real_loader = DataLoader(real_dataset, batch_size=32, shuffle=False)\n",
    "generated_loader = DataLoader(generated_dataset, batch_size=32, shuffle=False)\n",
    "\n",
    "# Load pre-trained InceptionV3 model\n",
    "device = torch.device('cuda' if torch.cuda.is_available() else 'cpu')\n",
    "inception_model = models.inception_v3(pretrained=True, transform_input=False).to(device)\n",
    "inception_model.fc = torch.nn.Identity()  # Remove the final classification layer\n",
    "\n",
    "# Extract features\n",
    "real_features = get_features(real_loader, inception_model, device)\n",
    "generated_features = get_features(generated_loader, inception_model, device)\n",
    "\n",
    "# Calculate FID\n",
    "fid_score = calculate_fid(real_features, generated_features)\n",
    "print(f\"FID Score: {fid_score}\")"
   ]
  }
 ],
 "metadata": {
  "language_info": {
   "name": "python"
  }
 },
 "nbformat": 4,
 "nbformat_minor": 2
}
