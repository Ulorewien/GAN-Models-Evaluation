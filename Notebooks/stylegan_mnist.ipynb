{
 "cells": [
  {
   "cell_type": "code",
   "execution_count": 1,
   "id": "d45e651a",
   "metadata": {
    "_cell_guid": "b1076dfc-b9ad-4769-8c92-a6c4dae69d19",
    "_uuid": "8f2839f25d086af736a60e9eeb907d3b93b6e0e5",
    "execution": {
     "iopub.execute_input": "2024-06-09T19:30:26.499400Z",
     "iopub.status.busy": "2024-06-09T19:30:26.499051Z",
     "iopub.status.idle": "2024-06-09T19:30:31.751892Z",
     "shell.execute_reply": "2024-06-09T19:30:31.750965Z"
    },
    "papermill": {
     "duration": 5.260163,
     "end_time": "2024-06-09T19:30:31.754451",
     "exception": false,
     "start_time": "2024-06-09T19:30:26.494288",
     "status": "completed"
    },
    "tags": []
   },
   "outputs": [],
   "source": [
    "import os\n",
    "import math\n",
    "import torch\n",
    "from torch import nn\n",
    "import torch.nn.functional as F\n",
    "from torch.utils.data import DataLoader\n",
    "from torchvision import datasets, transforms\n",
    "from torchvision.utils import save_image\n",
    "import matplotlib.pyplot as plt\n",
    "from tqdm import tqdm\n",
    "import numpy as np\n",
    "from torch import optim\n",
    "import torchvision.utils as torch_utils\n",
    "import matplotlib.pyplot as plt\n",
    "import matplotlib.animation as animation\n",
    "\n",
    "device = 'cuda' if torch.cuda.is_available() else 'cpu'\n",
    "\n",
    "# Generator and Discriminator Utilities\n",
    "class WSConv2d(nn.Module):\n",
    "    def __init__(\n",
    "        self, in_channels, out_channels, kernel_size=3, stride=1, padding=1\n",
    "    ):\n",
    "        super(WSConv2d, self).__init__()\n",
    "        self.conv = nn.Conv2d(in_channels, out_channels, kernel_size, stride, padding)\n",
    "        self.scale = (2 / (in_channels * (kernel_size ** 2))) ** 0.5\n",
    "        self.bias = self.conv.bias\n",
    "        self.conv.bias = None\n",
    "\n",
    "        # initialize conv layer\n",
    "        nn.init.normal_(self.conv.weight)\n",
    "        nn.init.zeros_(self.bias)\n",
    "\n",
    "    def forward(self, x):\n",
    "        return self.conv(x * self.scale) + self.bias.view(1, self.bias.shape[0], 1, 1)\n",
    "    \n",
    "\n",
    "class ConvBlock(nn.Module):\n",
    "    def __init__(self, in_channels, out_channels):\n",
    "        super(ConvBlock, self).__init__()\n",
    "        self.conv1 = WSConv2d(in_channels, out_channels)\n",
    "        self.conv2 = WSConv2d(out_channels, out_channels)\n",
    "        self.leaky = nn.LeakyReLU(0.2)\n",
    "\n",
    "    def forward(self, x):\n",
    "        x = self.leaky(self.conv1(x))\n",
    "        x = self.leaky(self.conv2(x))\n",
    "        return x\n",
    "    \n",
    "def target_to_oh_shoe(target):\n",
    "    NUM_CLASS = 10\n",
    "    one_hot = torch.eye(NUM_CLASS)[target]\n",
    "    return one_hot\n",
    "\n",
    "\n",
    "# Train and Eval utilities\n",
    "def generate_examples(gen, steps, z_dim, n=100):\n",
    "    gen.eval()\n",
    "    alpha = 1.0\n",
    "    for i in range(n):\n",
    "        with torch.no_grad():\n",
    "            noise = torch.randn(1, z_dim).to(device)\n",
    "            img = gen(noise, alpha, steps)\n",
    "            if not os.path.exists(f'saved_examples/step{steps}'):\n",
    "                os.makedirs(f'saved_examples/step{steps}')\n",
    "            save_image(img*0.5+0.5, f\"saved_examples/step{steps}/img_{i}.png\")\n",
    "    gen.train()\n",
    "\n",
    "  \n",
    "def gradient_penalty(critic, labels, real, fake, alpha, train_step, device=\"cpu\"):\n",
    "    BATCH_SIZE, C, H, W = real.shape\n",
    "    beta = torch.rand((BATCH_SIZE, 1, 1, 1)).repeat(1, C, H, W).to(device)\n",
    "    interpolated_images = real * beta + fake.detach() * (1 - beta)\n",
    "    interpolated_images.requires_grad_(True)\n",
    "\n",
    "    # Calculate critic scores\n",
    "    mixed_scores = critic(interpolated_images, labels, alpha, train_step)\n",
    " \n",
    "    # Take the gradient of the scores with respect to the images\n",
    "    gradient = torch.autograd.grad(\n",
    "        inputs=interpolated_images,\n",
    "        outputs=mixed_scores,\n",
    "        grad_outputs=torch.ones_like(mixed_scores),\n",
    "        create_graph=True,\n",
    "        retain_graph=True,\n",
    "    )[0]\n",
    "    gradient = gradient.view(gradient.shape[0], -1)\n",
    "    gradient_norm = gradient.norm(2, dim=1)\n",
    "    gradient_penalty = torch.mean((gradient_norm - 1) ** 2)\n",
    "    return gradient_penalty\n",
    "\n",
    "def get_loader(image_size):\n",
    "    transform = transforms.Compose(\n",
    "        [transforms.Resize((image_size, image_size)),\n",
    "         transforms.ToTensor(),\n",
    "         transforms.RandomHorizontalFlip(p=0.5),\n",
    "         transforms.Normalize(\n",
    "            [0.5 for _ in range(channels_img)],\n",
    "            [0.5 for _ in range(channels_img)],\n",
    "         )\n",
    "        ]\n",
    "    )\n",
    "    batch_size = batch_sizes[int(math.log2(image_size/4))]\n",
    "    dataset = datasets.ImageFolder(root=dataset_dir, transform=transform, target_transform = target_to_oh_shoe)\n",
    "    loader = DataLoader(\n",
    "        dataset,\n",
    "        batch_size=batch_size,\n",
    "        shuffle=True\n",
    "    )\n",
    "    return loader, dataset\n",
    "\n",
    "def check_loader():\n",
    "    loader, _ = get_loader(128)\n",
    "    cloth, _  = next(iter(loader))\n",
    "    _, ax     = plt.subplots(3,3,figsize=(8,8))\n",
    "    plt.suptitle('Some real samples')\n",
    "    ind = 0\n",
    "    for k in range(3):\n",
    "        for kk in range(3):\n",
    "            ax[k][kk].imshow((cloth[ind].permute(1,2,0)+1)/2)\n",
    "            ind +=1"
   ]
  },
  {
   "cell_type": "code",
   "execution_count": 2,
   "id": "f7e6ec7b",
   "metadata": {
    "execution": {
     "iopub.execute_input": "2024-06-09T19:30:31.762773Z",
     "iopub.status.busy": "2024-06-09T19:30:31.762330Z",
     "iopub.status.idle": "2024-06-09T19:30:31.784932Z",
     "shell.execute_reply": "2024-06-09T19:30:31.783928Z"
    },
    "papermill": {
     "duration": 0.029208,
     "end_time": "2024-06-09T19:30:31.787196",
     "exception": false,
     "start_time": "2024-06-09T19:30:31.757988",
     "status": "completed"
    },
    "tags": []
   },
   "outputs": [],
   "source": [
    "image_factors = [1, 1, 1, 1, 1 / 2, 1 / 4, 1 / 8, 1 / 16, 1 / 32]\n",
    "\n",
    "# Same as ProGAN Discriminator\n",
    "class Discriminator(nn.Module):\n",
    "    def __init__(self, in_channels, img_channels=3, classes=10):\n",
    "        super(Discriminator, self).__init__()\n",
    "        self.embedding = nn.Linear(classes, 1*4*4)\n",
    "\n",
    "        self.prog_blocks, self.rgb_layers = nn.ModuleList([]), nn.ModuleList([])\n",
    "        self.leaky = nn.LeakyReLU(0.2)\n",
    "\n",
    "        # here we work back ways from factors because the discriminator\n",
    "        # should be mirrored from the generator. So the first prog_block and\n",
    "        # rgb layer we append will work for input size 1024x1024, then 512->256-> etc\n",
    "        for i in range(len(image_factors) - 1, 0, -1):\n",
    "            conv_in = int(in_channels * image_factors[i])\n",
    "            conv_out = int(in_channels * image_factors[i - 1])\n",
    "            self.prog_blocks.append(ConvBlock(conv_in, conv_out))\n",
    "            self.rgb_layers.append(\n",
    "                WSConv2d(img_channels, conv_in, kernel_size=1, stride=1, padding=0)\n",
    "            )\n",
    "\n",
    "        # perhaps confusing name \"initial_rgb\" this is just the RGB layer for 4x4 input size\n",
    "        # did this to \"mirror\" the generator initial_rgb\n",
    "        self.initial_rgb = WSConv2d(\n",
    "            img_channels, in_channels, kernel_size=1, stride=1, padding=0\n",
    "        )\n",
    "        self.rgb_layers.append(self.initial_rgb)\n",
    "        self.avg_pool = nn.AvgPool2d(\n",
    "            kernel_size=2, stride=2\n",
    "        )  # down sampling using avg pool\n",
    "\n",
    "        # this is the block for 4x4 input size\n",
    "        self.final_block = nn.Sequential(\n",
    "            # +1 to in_channels because we concatenate from MiniBatch std\n",
    "            WSConv2d(in_channels + 1, in_channels, kernel_size=3, padding=1),\n",
    "            nn.LeakyReLU(0.2),\n",
    "            WSConv2d(in_channels, in_channels, kernel_size=4, padding=0, stride=1),\n",
    "            nn.LeakyReLU(0.2),\n",
    "            WSConv2d(\n",
    "                in_channels, 1, kernel_size=1, padding=0, stride=1\n",
    "            ),  # we use this instead of linear layer\n",
    "        )\n",
    "\n",
    "    def fade_in(self, alpha, downscaled, out):\n",
    "        \"\"\"Used to fade in downscaled using avg pooling and output from CNN\"\"\"\n",
    "        # alpha should be scalar within [0, 1], and upscale.shape == generated.shape\n",
    "        return alpha * out + (1 - alpha) * downscaled\n",
    "\n",
    "    def minibatch_std(self, x):\n",
    "        batch_statistics = (\n",
    "            torch.std(x, dim=0).mean().repeat(x.shape[0], 1, x.shape[2], x.shape[3])\n",
    "        )\n",
    "        # we take the std for each example (across all channels, and pixels) then we repeat it\n",
    "        # for a single channel and concatenate it with the image. In this way the discriminator\n",
    "        # will get information about the variation in the batch/image\n",
    "        return torch.cat([x, batch_statistics], dim=1)\n",
    "\n",
    "    def forward(self, x, label, alpha, steps):\n",
    "        label_embedding = self.embedding(label).view(-1, 1, 4, 4)\n",
    "        factor = x.shape[-1]//label_embedding.shape[-1]\n",
    "        a, b, c, d = label_embedding.shape\n",
    "        label_embedding = label_embedding.view(a, b, c, 1, d, 1)\n",
    "        label_embedding = label_embedding.repeat(1, 1, 1, factor, 1, factor)\n",
    "        label_embedding = label_embedding.reshape(a, b, x.shape[-1], x.shape[-1])\n",
    "#         x = torch.concat((x, label_embedding), dim=1)\n",
    "        x = x + label_embedding\n",
    "        # where we should start in the list of prog_blocks, maybe a bit confusing but\n",
    "        # the last is for the 4x4. So example let's say steps=1, then we should start\n",
    "        # at the second to last because input_size will be 8x8. If steps==0 we just\n",
    "        # use the final block\n",
    "        cur_step = len(self.prog_blocks) - steps\n",
    "\n",
    "        # convert from rgb as initial step, this will depend on\n",
    "        # the image size (each will have it's on rgb layer)\n",
    "        out = self.leaky(self.rgb_layers[cur_step](x))\n",
    "\n",
    "        if steps == 0:  # i.e, image is 4x4\n",
    "            out = self.minibatch_std(out)\n",
    "            return self.final_block(out).view(out.shape[0], -1)\n",
    "\n",
    "        # because prog_blocks might change the channels, for down scale we use rgb_layer\n",
    "        # from previous/smaller size which in our case correlates to +1 in the indexing\n",
    "        downscaled = self.leaky(self.rgb_layers[cur_step + 1](self.avg_pool(x)))\n",
    "        out = self.avg_pool(self.prog_blocks[cur_step](out))\n",
    "\n",
    "        # the fade_in is done first between the downscaled and the input\n",
    "        # this is opposite from the generator\n",
    "        out = self.fade_in(alpha, downscaled, out)\n",
    "\n",
    "        for step in range(cur_step + 1, len(self.prog_blocks)):\n",
    "            out = self.prog_blocks[step](out)\n",
    "            out = self.avg_pool(out)\n",
    "\n",
    "        out = self.minibatch_std(out)\n",
    "        return self.final_block(out).view(out.shape[0], -1)"
   ]
  },
  {
   "cell_type": "code",
   "execution_count": 3,
   "id": "2bc6c8b3",
   "metadata": {
    "execution": {
     "iopub.execute_input": "2024-06-09T19:30:31.794746Z",
     "iopub.status.busy": "2024-06-09T19:30:31.794405Z",
     "iopub.status.idle": "2024-06-09T19:30:31.831251Z",
     "shell.execute_reply": "2024-06-09T19:30:31.830311Z"
    },
    "papermill": {
     "duration": 0.043206,
     "end_time": "2024-06-09T19:30:31.833416",
     "exception": false,
     "start_time": "2024-06-09T19:30:31.790210",
     "status": "completed"
    },
    "tags": []
   },
   "outputs": [],
   "source": [
    "image_factors = [1, 1, 1, 1, 1 / 2, 1 / 4, 1 / 8, 1 / 16, 1 / 32]\n",
    "\n",
    "# Normalization on every element of input vector\n",
    "# Adapted from StyleGAN original Implementation\n",
    "class PixelNorm(nn.Module):\n",
    "    def __init__(self):\n",
    "        super().__init__()\n",
    "\n",
    "    def forward(self, x):\n",
    "        return x / torch.sqrt(torch.mean(x ** 2, dim=1, keepdim=True) + 1e-8)\n",
    "    \n",
    "# Implementing the Noise Mapping Network\n",
    "class WSLinear(nn.Module):\n",
    "    def __init__(\n",
    "        self, in_features, out_features,\n",
    "    ):\n",
    "        super().__init__()\n",
    "        self.linear = nn.Linear(in_features, out_features)\n",
    "        self.scale = (2 / in_features)**0.5\n",
    "        self.bias = self.linear.bias\n",
    "        self.linear.bias = None\n",
    "\n",
    "        # initialize linear layer\n",
    "        nn.init.normal_(self.linear.weight)\n",
    "        nn.init.zeros_(self.bias)\n",
    "\n",
    "    def forward(self, x):\n",
    "        return self.linear(x * self.scale) + self.bias\n",
    "    \n",
    "\n",
    "class NoiseMappingNetwork(nn.Module):\n",
    "    def __init__(self, z_dim, w_dim):\n",
    "        super().__init__()\n",
    "        self.noise_mapping = nn.Sequential(\n",
    "            PixelNorm(),\n",
    "            WSLinear(z_dim, w_dim),\n",
    "            nn.ReLU(),\n",
    "            WSLinear(w_dim, w_dim),\n",
    "            nn.ReLU(),\n",
    "            WSLinear(w_dim, w_dim),\n",
    "            nn.ReLU(),\n",
    "            WSLinear(w_dim, w_dim),\n",
    "            nn.ReLU(),\n",
    "            WSLinear(w_dim, w_dim),\n",
    "            nn.ReLU(),\n",
    "            WSLinear(w_dim, w_dim),\n",
    "            nn.ReLU(),\n",
    "            WSLinear(w_dim, w_dim),\n",
    "            nn.ReLU(),\n",
    "            WSLinear(w_dim, w_dim),\n",
    "        )\n",
    "\n",
    "    def forward(self, x):\n",
    "        return self.noise_mapping(x)\n",
    "    \n",
    "\n",
    "# Adaptive Instance Normalization (AdaIn)\n",
    "class AdaIN(nn.Module):\n",
    "    def __init__(self, channels, w_dim):\n",
    "        super().__init__()\n",
    "        self.instance_norm = nn.InstanceNorm2d(channels)\n",
    "        self.style_scale = WSLinear(w_dim, channels)\n",
    "        self.style_bias = WSLinear(w_dim, channels)\n",
    "\n",
    "    def forward(self, x, w):\n",
    "        x = self.instance_norm(x)\n",
    "        style_scale = self.style_scale(w).unsqueeze(2).unsqueeze(3)\n",
    "        style_bias = self.style_bias(w).unsqueeze(2).unsqueeze(3)\n",
    "        return style_scale * x + style_bias\n",
    "    \n",
    "\n",
    "class NoiseInjectNet(nn.Module):\n",
    "    def __init__(self, channels):\n",
    "        super().__init__()\n",
    "        self.weight = nn.Parameter(torch.zeros(1, channels, 1, 1))\n",
    "\n",
    "    def forward(self, x):\n",
    "        noise = torch.randn((x.shape[0], 1, x.shape[2], x.shape[3]), device=x.device)\n",
    "        return x + self.weight * noise\n",
    "\n",
    "class GenBlock(nn.Module):\n",
    "    def __init__(self, in_channels, out_channels, w_dim):\n",
    "        super(GenBlock, self).__init__()\n",
    "        self.conv1 = WSConv2d(in_channels, out_channels)\n",
    "        self.conv2 = WSConv2d(out_channels, out_channels)\n",
    "        self.leaky = nn.LeakyReLU(0.2, inplace=True)\n",
    "        self.inject_noise1 = NoiseInjectNet(out_channels)\n",
    "        self.inject_noise2 = NoiseInjectNet(out_channels)\n",
    "        self.adain1 = AdaIN(out_channels, w_dim)\n",
    "        self.adain2 = AdaIN(out_channels, w_dim)\n",
    "\n",
    "    def forward(self, x, w):\n",
    "        x = self.adain1(self.leaky(self.inject_noise1(self.conv1(x))), w)\n",
    "        x = self.adain2(self.leaky(self.inject_noise2(self.conv2(x))), w)\n",
    "        return x\n",
    "\n",
    "class Generator(nn.Module):\n",
    "    def __init__(self, z_dim, w_dim, in_channels, img_channels=3, classes=10):\n",
    "        super(Generator, self).__init__()\n",
    "        self.embedding = nn.Linear(classes, 4*4)\n",
    "\n",
    "        self.starting_constant = nn.Parameter(torch.ones((1, in_channels, 4, 4)))\n",
    "        self.map = NoiseMappingNetwork(z_dim, w_dim)\n",
    "        self.initial_adain1 = AdaIN(in_channels, w_dim)\n",
    "        self.initial_adain2 = AdaIN(in_channels, w_dim)\n",
    "        self.initial_noise1 = NoiseInjectNet(in_channels)\n",
    "        self.initial_noise2 = NoiseInjectNet(in_channels)\n",
    "        self.initial_conv = nn.Conv2d(in_channels, in_channels, kernel_size=3, stride=1, padding=1)\n",
    "        self.leaky = nn.LeakyReLU(0.2, inplace=True)\n",
    "\n",
    "        self.initial_rgb = WSConv2d(\n",
    "            in_channels, img_channels, kernel_size=1, stride=1, padding=0\n",
    "        )\n",
    "        self.prog_blocks, self.rgb_layers = (\n",
    "            nn.ModuleList([]),\n",
    "            nn.ModuleList([self.initial_rgb]),\n",
    "        )\n",
    "\n",
    "        for i in range(len(image_factors) - 1):  # -1 to prevent index error because of factors[i+1]\n",
    "            conv_in_c = int(in_channels * image_factors[i])\n",
    "            conv_out_c = int(in_channels * image_factors[i + 1])\n",
    "            self.prog_blocks.append(GenBlock(conv_in_c, conv_out_c, w_dim))\n",
    "            self.rgb_layers.append(\n",
    "                WSConv2d(conv_out_c, img_channels, kernel_size=1, stride=1, padding=0)\n",
    "            )\n",
    "\n",
    "    def fade_in(self, alpha, upscaled, generated):\n",
    "        # alpha should be scalar within [0, 1], and upscale.shape == generated.shape\n",
    "        return torch.tanh(alpha * generated + (1 - alpha) * upscaled)\n",
    "\n",
    "    def forward(self, noise, label, alpha, steps):\n",
    "#         print(label.shape)\n",
    "        w = self.map(noise)\n",
    "        x = self.initial_adain1(self.initial_noise1(self.starting_constant), w)\n",
    "        label_embedding = self.embedding(label).view(-1, 1, 4, 4)\n",
    "        factor = x.shape[-1]//label_embedding.shape[-1]\n",
    "        a, b, c, d = label_embedding.shape\n",
    "        label_embedding = label_embedding.view(a, b, c, 1, d, 1)\n",
    "        label_embedding = label_embedding.repeat(1, 1, 1, factor, 1, factor)\n",
    "        label_embedding = label_embedding.reshape(a, b, x.shape[-1], x.shape[-1])\n",
    "#         print(x.shape, label_embedding.shape)\n",
    "#         x = torch.concat((x, label_embedding), dim = 1)\n",
    "        x = x + label_embedding\n",
    "        x = self.initial_conv(x)\n",
    "        out = self.initial_adain2(self.leaky(self.initial_noise2(x)), w)\n",
    "\n",
    "        if steps == 0:\n",
    "            return self.initial_rgb(x)\n",
    "\n",
    "        for step in range(steps):\n",
    "            upscaled = F.interpolate(out, scale_factor=2, mode=\"bilinear\")\n",
    "            out = self.prog_blocks[step](upscaled, w)\n",
    "\n",
    "        # The number of channels in upscale will stay the same, while\n",
    "        # out which has moved through prog_blocks might change. To ensure\n",
    "        # we can convert both to rgb we use different rgb_layers\n",
    "        # (steps-1) and steps for upscaled, out respectively\n",
    "        final_upscaled = self.rgb_layers[steps - 1](upscaled)\n",
    "        final_out = self.rgb_layers[steps](out)\n",
    "        return self.fade_in(alpha, final_upscaled, final_out)\n",
    "\n"
   ]
  },
  {
   "cell_type": "code",
   "execution_count": 4,
   "id": "91ec0f22",
   "metadata": {
    "execution": {
     "iopub.execute_input": "2024-06-09T19:30:31.840948Z",
     "iopub.status.busy": "2024-06-09T19:30:31.840623Z",
     "iopub.status.idle": "2024-06-10T00:04:45.711933Z",
     "shell.execute_reply": "2024-06-10T00:04:45.711094Z"
    },
    "papermill": {
     "duration": 16453.877896,
     "end_time": "2024-06-10T00:04:45.714277",
     "exception": false,
     "start_time": "2024-06-09T19:30:31.836381",
     "status": "completed"
    },
    "tags": []
   },
   "outputs": [
    {
     "name": "stdout",
     "output_type": "stream",
     "text": [
      "Curent image size: 4\n"
     ]
    },
    {
     "name": "stderr",
     "output_type": "stream",
     "text": [
      "  1%|          | 1/83 [00:03<04:07,  3.01s/it, disc_loss=-0.14, grad_penalty=0.0676]"
     ]
    },
    {
     "name": "stdout",
     "output_type": "stream",
     "text": [
      "[0/5][0/83]\tLoss_D: -0.1399165689945221\tLoss_G: 2.8845038414001465\n"
     ]
    },
    {
     "name": "stderr",
     "output_type": "stream",
     "text": [
      " 61%|██████▏   | 51/83 [01:17<00:48,  1.51s/it, disc_loss=-69.3, grad_penalty=2.89]"
     ]
    },
    {
     "name": "stdout",
     "output_type": "stream",
     "text": [
      "[0/5][50/83]\tLoss_D: -69.2576904296875\tLoss_G: 109.96463012695312\n"
     ]
    },
    {
     "name": "stderr",
     "output_type": "stream",
     "text": [
      "100%|██████████| 83/83 [02:02<00:00,  1.48s/it, disc_loss=-31.7, grad_penalty=2.03]\n",
      "  1%|          | 1/83 [00:00<00:53,  1.52it/s, disc_loss=-62.3, grad_penalty=2.33]"
     ]
    },
    {
     "name": "stdout",
     "output_type": "stream",
     "text": [
      "[1/5][0/83]\tLoss_D: -62.32175827026367\tLoss_G: 91.36253356933594\n"
     ]
    },
    {
     "name": "stderr",
     "output_type": "stream",
     "text": [
      " 61%|██████▏   | 51/83 [00:33<00:21,  1.48it/s, disc_loss=-12.5, grad_penalty=1.08]"
     ]
    },
    {
     "name": "stdout",
     "output_type": "stream",
     "text": [
      "[1/5][50/83]\tLoss_D: -12.482245445251465\tLoss_G: 25.108741760253906\n"
     ]
    },
    {
     "name": "stderr",
     "output_type": "stream",
     "text": [
      "100%|██████████| 83/83 [00:53<00:00,  1.54it/s, disc_loss=-15.7, grad_penalty=0.707]\n",
      "  1%|          | 1/83 [00:00<00:55,  1.48it/s, disc_loss=-44.3, grad_penalty=0.821]"
     ]
    },
    {
     "name": "stdout",
     "output_type": "stream",
     "text": [
      "[2/5][0/83]\tLoss_D: -44.267578125\tLoss_G: 55.9426155090332\n"
     ]
    },
    {
     "name": "stderr",
     "output_type": "stream",
     "text": [
      " 61%|██████▏   | 51/83 [00:34<00:21,  1.50it/s, disc_loss=-14.3, grad_penalty=0.565]"
     ]
    },
    {
     "name": "stdout",
     "output_type": "stream",
     "text": [
      "[2/5][50/83]\tLoss_D: -14.30292797088623\tLoss_G: 20.248239517211914\n"
     ]
    },
    {
     "name": "stderr",
     "output_type": "stream",
     "text": [
      "100%|██████████| 83/83 [00:54<00:00,  1.52it/s, disc_loss=-15.3, grad_penalty=0.497]\n",
      "  1%|          | 1/83 [00:00<00:54,  1.51it/s, disc_loss=-46.3, grad_penalty=0.544]"
     ]
    },
    {
     "name": "stdout",
     "output_type": "stream",
     "text": [
      "[3/5][0/83]\tLoss_D: -46.330875396728516\tLoss_G: 54.92543029785156\n"
     ]
    },
    {
     "name": "stderr",
     "output_type": "stream",
     "text": [
      " 61%|██████▏   | 51/83 [00:33<00:21,  1.46it/s, disc_loss=-13.6, grad_penalty=0.479]"
     ]
    },
    {
     "name": "stdout",
     "output_type": "stream",
     "text": [
      "[3/5][50/83]\tLoss_D: -13.592843055725098\tLoss_G: 17.614442825317383\n"
     ]
    },
    {
     "name": "stderr",
     "output_type": "stream",
     "text": [
      "100%|██████████| 83/83 [00:54<00:00,  1.53it/s, disc_loss=-16.5, grad_penalty=0.485]\n",
      "  1%|          | 1/83 [00:00<00:53,  1.55it/s, disc_loss=-44.2, grad_penalty=0.457]"
     ]
    },
    {
     "name": "stdout",
     "output_type": "stream",
     "text": [
      "[4/5][0/83]\tLoss_D: -44.185977935791016\tLoss_G: 53.89088821411133\n"
     ]
    },
    {
     "name": "stderr",
     "output_type": "stream",
     "text": [
      " 61%|██████▏   | 51/83 [00:33<00:22,  1.45it/s, disc_loss=-17.2, grad_penalty=0.554]"
     ]
    },
    {
     "name": "stdout",
     "output_type": "stream",
     "text": [
      "[4/5][50/83]\tLoss_D: -17.18231201171875\tLoss_G: 22.08635711669922\n"
     ]
    },
    {
     "name": "stderr",
     "output_type": "stream",
     "text": [
      "100%|██████████| 83/83 [00:54<00:00,  1.53it/s, disc_loss=-14.8, grad_penalty=0.551]\n"
     ]
    },
    {
     "name": "stdout",
     "output_type": "stream",
     "text": [
      "Curent image size: 8\n"
     ]
    },
    {
     "name": "stderr",
     "output_type": "stream",
     "text": [
      "  1%|          | 1/165 [00:00<01:38,  1.67it/s, disc_loss=-8.14, grad_penalty=0.0251]"
     ]
    },
    {
     "name": "stdout",
     "output_type": "stream",
     "text": [
      "[0/5][0/165]\tLoss_D: -8.136428833007812\tLoss_G: 8.547213554382324\n"
     ]
    },
    {
     "name": "stderr",
     "output_type": "stream",
     "text": [
      " 31%|███       | 51/165 [00:29<01:04,  1.76it/s, disc_loss=-3.41, grad_penalty=0.0561]"
     ]
    },
    {
     "name": "stdout",
     "output_type": "stream",
     "text": [
      "[0/5][50/165]\tLoss_D: -3.4080257415771484\tLoss_G: 4.565030097961426\n"
     ]
    },
    {
     "name": "stderr",
     "output_type": "stream",
     "text": [
      " 61%|██████    | 101/165 [00:59<00:37,  1.71it/s, disc_loss=-3.13, grad_penalty=0.0421]"
     ]
    },
    {
     "name": "stdout",
     "output_type": "stream",
     "text": [
      "[0/5][100/165]\tLoss_D: -3.1273763179779053\tLoss_G: 4.718770980834961\n"
     ]
    },
    {
     "name": "stderr",
     "output_type": "stream",
     "text": [
      " 92%|█████████▏| 151/165 [01:28<00:08,  1.70it/s, disc_loss=-3.07, grad_penalty=0.0674]"
     ]
    },
    {
     "name": "stdout",
     "output_type": "stream",
     "text": [
      "[0/5][150/165]\tLoss_D: -3.0673344135284424\tLoss_G: 3.9579343795776367\n"
     ]
    },
    {
     "name": "stderr",
     "output_type": "stream",
     "text": [
      "100%|██████████| 165/165 [01:35<00:00,  1.72it/s, disc_loss=-3.14, grad_penalty=0.0449]\n",
      "  1%|          | 1/165 [00:00<01:39,  1.65it/s, disc_loss=-2.99, grad_penalty=0.0284]"
     ]
    },
    {
     "name": "stdout",
     "output_type": "stream",
     "text": [
      "[1/5][0/165]\tLoss_D: -2.990499496459961\tLoss_G: 4.147791385650635\n"
     ]
    },
    {
     "name": "stderr",
     "output_type": "stream",
     "text": [
      " 31%|███       | 51/165 [00:29<01:06,  1.72it/s, disc_loss=-2.79, grad_penalty=0.047]"
     ]
    },
    {
     "name": "stdout",
     "output_type": "stream",
     "text": [
      "[1/5][50/165]\tLoss_D: -2.7873358726501465\tLoss_G: 3.884664535522461\n"
     ]
    },
    {
     "name": "stderr",
     "output_type": "stream",
     "text": [
      " 61%|██████    | 101/165 [00:58<00:37,  1.71it/s, disc_loss=-2.52, grad_penalty=0.0165]"
     ]
    },
    {
     "name": "stdout",
     "output_type": "stream",
     "text": [
      "[1/5][100/165]\tLoss_D: -2.518185615539551\tLoss_G: 4.759736061096191\n"
     ]
    },
    {
     "name": "stderr",
     "output_type": "stream",
     "text": [
      " 92%|█████████▏| 151/165 [01:28<00:08,  1.72it/s, disc_loss=-2.98, grad_penalty=0.0348]"
     ]
    },
    {
     "name": "stdout",
     "output_type": "stream",
     "text": [
      "[1/5][150/165]\tLoss_D: -2.981520891189575\tLoss_G: 5.361316204071045\n"
     ]
    },
    {
     "name": "stderr",
     "output_type": "stream",
     "text": [
      "100%|██████████| 165/165 [01:36<00:00,  1.71it/s, disc_loss=-2.83, grad_penalty=0.0624]\n",
      "  1%|          | 1/165 [00:00<01:33,  1.75it/s, disc_loss=-2.59, grad_penalty=0.0245]"
     ]
    },
    {
     "name": "stdout",
     "output_type": "stream",
     "text": [
      "[2/5][0/165]\tLoss_D: -2.5933942794799805\tLoss_G: 7.65777063369751\n"
     ]
    },
    {
     "name": "stderr",
     "output_type": "stream",
     "text": [
      " 31%|███       | 51/165 [00:30<01:09,  1.64it/s, disc_loss=-2.5, grad_penalty=0.0143]"
     ]
    },
    {
     "name": "stdout",
     "output_type": "stream",
     "text": [
      "[2/5][50/165]\tLoss_D: -2.4973621368408203\tLoss_G: 5.362349987030029\n"
     ]
    },
    {
     "name": "stderr",
     "output_type": "stream",
     "text": [
      " 61%|██████    | 101/165 [00:59<00:37,  1.69it/s, disc_loss=-3, grad_penalty=0.0278]"
     ]
    },
    {
     "name": "stdout",
     "output_type": "stream",
     "text": [
      "[2/5][100/165]\tLoss_D: -2.997795820236206\tLoss_G: 4.965590000152588\n"
     ]
    },
    {
     "name": "stderr",
     "output_type": "stream",
     "text": [
      " 92%|█████████▏| 151/165 [01:29<00:08,  1.64it/s, disc_loss=-3.28, grad_penalty=0.0627]"
     ]
    },
    {
     "name": "stdout",
     "output_type": "stream",
     "text": [
      "[2/5][150/165]\tLoss_D: -3.278723955154419\tLoss_G: 4.1753950119018555\n"
     ]
    },
    {
     "name": "stderr",
     "output_type": "stream",
     "text": [
      "100%|██████████| 165/165 [01:37<00:00,  1.69it/s, disc_loss=-2.78, grad_penalty=0.0537]\n",
      "  1%|          | 1/165 [00:00<01:38,  1.67it/s, disc_loss=-3.07, grad_penalty=0.0192]"
     ]
    },
    {
     "name": "stdout",
     "output_type": "stream",
     "text": [
      "[3/5][0/165]\tLoss_D: -3.067333698272705\tLoss_G: 7.125545024871826\n"
     ]
    },
    {
     "name": "stderr",
     "output_type": "stream",
     "text": [
      " 31%|███       | 51/165 [00:29<01:05,  1.74it/s, disc_loss=-2.51, grad_penalty=0.0504]"
     ]
    },
    {
     "name": "stdout",
     "output_type": "stream",
     "text": [
      "[3/5][50/165]\tLoss_D: -2.5101330280303955\tLoss_G: 2.4256558418273926\n"
     ]
    },
    {
     "name": "stderr",
     "output_type": "stream",
     "text": [
      " 61%|██████    | 101/165 [00:59<00:38,  1.66it/s, disc_loss=-1.97, grad_penalty=0.0197]"
     ]
    },
    {
     "name": "stdout",
     "output_type": "stream",
     "text": [
      "[3/5][100/165]\tLoss_D: -1.9686692953109741\tLoss_G: 3.2664432525634766\n"
     ]
    },
    {
     "name": "stderr",
     "output_type": "stream",
     "text": [
      " 92%|█████████▏| 151/165 [01:28<00:08,  1.72it/s, disc_loss=-2.81, grad_penalty=0.0162]"
     ]
    },
    {
     "name": "stdout",
     "output_type": "stream",
     "text": [
      "[3/5][150/165]\tLoss_D: -2.809880495071411\tLoss_G: 6.001030921936035\n"
     ]
    },
    {
     "name": "stderr",
     "output_type": "stream",
     "text": [
      "100%|██████████| 165/165 [01:36<00:00,  1.72it/s, disc_loss=-1.51, grad_penalty=0.0051]\n",
      "  1%|          | 1/165 [00:00<01:33,  1.76it/s, disc_loss=-2.01, grad_penalty=0.0499]"
     ]
    },
    {
     "name": "stdout",
     "output_type": "stream",
     "text": [
      "[4/5][0/165]\tLoss_D: -2.0106279850006104\tLoss_G: 1.5008400678634644\n"
     ]
    },
    {
     "name": "stderr",
     "output_type": "stream",
     "text": [
      " 31%|███       | 51/165 [00:30<01:06,  1.72it/s, disc_loss=-2.19, grad_penalty=0.0429]"
     ]
    },
    {
     "name": "stdout",
     "output_type": "stream",
     "text": [
      "[4/5][50/165]\tLoss_D: -2.1868844032287598\tLoss_G: 2.3148393630981445\n"
     ]
    },
    {
     "name": "stderr",
     "output_type": "stream",
     "text": [
      " 61%|██████    | 101/165 [00:59<00:38,  1.67it/s, disc_loss=-1.58, grad_penalty=0.0418]"
     ]
    },
    {
     "name": "stdout",
     "output_type": "stream",
     "text": [
      "[4/5][100/165]\tLoss_D: -1.5788776874542236\tLoss_G: 1.3207519054412842\n"
     ]
    },
    {
     "name": "stderr",
     "output_type": "stream",
     "text": [
      " 92%|█████████▏| 151/165 [01:30<00:08,  1.63it/s, disc_loss=-2.51, grad_penalty=0.0122]"
     ]
    },
    {
     "name": "stdout",
     "output_type": "stream",
     "text": [
      "[4/5][150/165]\tLoss_D: -2.513936996459961\tLoss_G: 5.385124206542969\n"
     ]
    },
    {
     "name": "stderr",
     "output_type": "stream",
     "text": [
      "100%|██████████| 165/165 [01:38<00:00,  1.67it/s, disc_loss=-2.57, grad_penalty=0.0362]\n"
     ]
    },
    {
     "name": "stdout",
     "output_type": "stream",
     "text": [
      "Curent image size: 16\n"
     ]
    },
    {
     "name": "stderr",
     "output_type": "stream",
     "text": [
      "  0%|          | 1/329 [00:00<04:06,  1.33it/s, disc_loss=0.55, grad_penalty=0.261]"
     ]
    },
    {
     "name": "stdout",
     "output_type": "stream",
     "text": [
      "[0/5][0/329]\tLoss_D: 0.5503354668617249\tLoss_G: 7.506278991699219\n"
     ]
    },
    {
     "name": "stderr",
     "output_type": "stream",
     "text": [
      " 16%|█▌        | 51/329 [00:38<03:28,  1.33it/s, disc_loss=-4.98, grad_penalty=0.0289]"
     ]
    },
    {
     "name": "stdout",
     "output_type": "stream",
     "text": [
      "[0/5][50/329]\tLoss_D: -4.975086212158203\tLoss_G: 8.567410469055176\n"
     ]
    },
    {
     "name": "stderr",
     "output_type": "stream",
     "text": [
      " 31%|███       | 101/329 [01:15<02:44,  1.39it/s, disc_loss=-4, grad_penalty=0.0641]"
     ]
    },
    {
     "name": "stdout",
     "output_type": "stream",
     "text": [
      "[0/5][100/329]\tLoss_D: -3.9953713417053223\tLoss_G: 5.723597526550293\n"
     ]
    },
    {
     "name": "stderr",
     "output_type": "stream",
     "text": [
      " 46%|████▌     | 151/329 [01:51<02:08,  1.38it/s, disc_loss=-3.72, grad_penalty=0.0192]"
     ]
    },
    {
     "name": "stdout",
     "output_type": "stream",
     "text": [
      "[0/5][150/329]\tLoss_D: -3.722795248031616\tLoss_G: 7.488314628601074\n"
     ]
    },
    {
     "name": "stderr",
     "output_type": "stream",
     "text": [
      " 61%|██████    | 201/329 [02:28<01:34,  1.36it/s, disc_loss=-3.55, grad_penalty=0.0291]"
     ]
    },
    {
     "name": "stdout",
     "output_type": "stream",
     "text": [
      "[0/5][200/329]\tLoss_D: -3.54965877532959\tLoss_G: 5.498006820678711\n"
     ]
    },
    {
     "name": "stderr",
     "output_type": "stream",
     "text": [
      " 76%|███████▋  | 251/329 [03:04<00:56,  1.39it/s, disc_loss=-2.36, grad_penalty=0.0395]"
     ]
    },
    {
     "name": "stdout",
     "output_type": "stream",
     "text": [
      "[0/5][250/329]\tLoss_D: -2.3610501289367676\tLoss_G: 3.706728458404541\n"
     ]
    },
    {
     "name": "stderr",
     "output_type": "stream",
     "text": [
      " 91%|█████████▏| 301/329 [03:41<00:20,  1.37it/s, disc_loss=-2.59, grad_penalty=0.0172]"
     ]
    },
    {
     "name": "stdout",
     "output_type": "stream",
     "text": [
      "[0/5][300/329]\tLoss_D: -2.590608596801758\tLoss_G: 8.116747856140137\n"
     ]
    },
    {
     "name": "stderr",
     "output_type": "stream",
     "text": [
      "100%|██████████| 329/329 [04:01<00:00,  1.36it/s, disc_loss=-3.55, grad_penalty=0.045]\n",
      "  0%|          | 1/329 [00:00<03:59,  1.37it/s, disc_loss=-3.3, grad_penalty=0.0334]"
     ]
    },
    {
     "name": "stdout",
     "output_type": "stream",
     "text": [
      "[1/5][0/329]\tLoss_D: -3.304828643798828\tLoss_G: 5.559389591217041\n"
     ]
    },
    {
     "name": "stderr",
     "output_type": "stream",
     "text": [
      " 16%|█▌        | 51/329 [00:37<03:22,  1.37it/s, disc_loss=-3.6, grad_penalty=0.0396]"
     ]
    },
    {
     "name": "stdout",
     "output_type": "stream",
     "text": [
      "[1/5][50/329]\tLoss_D: -3.5982859134674072\tLoss_G: 5.079610824584961\n"
     ]
    },
    {
     "name": "stderr",
     "output_type": "stream",
     "text": [
      " 31%|███       | 101/329 [01:13<02:44,  1.38it/s, disc_loss=-2.79, grad_penalty=0.0785]"
     ]
    },
    {
     "name": "stdout",
     "output_type": "stream",
     "text": [
      "[1/5][100/329]\tLoss_D: -2.789401054382324\tLoss_G: 1.2952710390090942\n"
     ]
    },
    {
     "name": "stderr",
     "output_type": "stream",
     "text": [
      " 46%|████▌     | 151/329 [01:50<02:09,  1.38it/s, disc_loss=-2.95, grad_penalty=0.0652]"
     ]
    },
    {
     "name": "stdout",
     "output_type": "stream",
     "text": [
      "[1/5][150/329]\tLoss_D: -2.9510600566864014\tLoss_G: 1.101183533668518\n"
     ]
    },
    {
     "name": "stderr",
     "output_type": "stream",
     "text": [
      " 61%|██████    | 201/329 [02:26<01:34,  1.35it/s, disc_loss=-3.36, grad_penalty=0.0777]"
     ]
    },
    {
     "name": "stdout",
     "output_type": "stream",
     "text": [
      "[1/5][200/329]\tLoss_D: -3.364341974258423\tLoss_G: 0.47656774520874023\n"
     ]
    },
    {
     "name": "stderr",
     "output_type": "stream",
     "text": [
      " 76%|███████▋  | 251/329 [03:03<00:57,  1.36it/s, disc_loss=-2.77, grad_penalty=0.0225]"
     ]
    },
    {
     "name": "stdout",
     "output_type": "stream",
     "text": [
      "[1/5][250/329]\tLoss_D: -2.7716825008392334\tLoss_G: 7.102444648742676\n"
     ]
    },
    {
     "name": "stderr",
     "output_type": "stream",
     "text": [
      " 91%|█████████▏| 301/329 [03:41<00:20,  1.35it/s, disc_loss=-3.43, grad_penalty=0.0379]"
     ]
    },
    {
     "name": "stdout",
     "output_type": "stream",
     "text": [
      "[1/5][300/329]\tLoss_D: -3.425302028656006\tLoss_G: 8.344606399536133\n"
     ]
    },
    {
     "name": "stderr",
     "output_type": "stream",
     "text": [
      "100%|██████████| 329/329 [04:01<00:00,  1.36it/s, disc_loss=-2.71, grad_penalty=0.0818]\n",
      "  0%|          | 1/329 [00:00<03:58,  1.37it/s, disc_loss=-2.38, grad_penalty=0.0119]"
     ]
    },
    {
     "name": "stdout",
     "output_type": "stream",
     "text": [
      "[2/5][0/329]\tLoss_D: -2.3838658332824707\tLoss_G: 7.739593505859375\n"
     ]
    },
    {
     "name": "stderr",
     "output_type": "stream",
     "text": [
      " 16%|█▌        | 51/329 [00:37<03:27,  1.34it/s, disc_loss=-2.37, grad_penalty=0.0209]"
     ]
    },
    {
     "name": "stdout",
     "output_type": "stream",
     "text": [
      "[2/5][50/329]\tLoss_D: -2.370419502258301\tLoss_G: 6.0700297355651855\n"
     ]
    },
    {
     "name": "stderr",
     "output_type": "stream",
     "text": [
      " 31%|███       | 101/329 [01:13<02:45,  1.37it/s, disc_loss=-2.73, grad_penalty=0.0218]"
     ]
    },
    {
     "name": "stdout",
     "output_type": "stream",
     "text": [
      "[2/5][100/329]\tLoss_D: -2.733919382095337\tLoss_G: 7.121811866760254\n"
     ]
    },
    {
     "name": "stderr",
     "output_type": "stream",
     "text": [
      " 46%|████▌     | 151/329 [01:50<02:10,  1.37it/s, disc_loss=-3.99, grad_penalty=0.0336]"
     ]
    },
    {
     "name": "stdout",
     "output_type": "stream",
     "text": [
      "[2/5][150/329]\tLoss_D: -3.9880406856536865\tLoss_G: 9.255855560302734\n"
     ]
    },
    {
     "name": "stderr",
     "output_type": "stream",
     "text": [
      " 61%|██████    | 201/329 [02:27<01:33,  1.36it/s, disc_loss=-2.85, grad_penalty=0.0761]"
     ]
    },
    {
     "name": "stdout",
     "output_type": "stream",
     "text": [
      "[2/5][200/329]\tLoss_D: -2.8506369590759277\tLoss_G: 3.40151309967041\n"
     ]
    },
    {
     "name": "stderr",
     "output_type": "stream",
     "text": [
      " 76%|███████▋  | 251/329 [03:04<00:56,  1.38it/s, disc_loss=-2.92, grad_penalty=0.0308]"
     ]
    },
    {
     "name": "stdout",
     "output_type": "stream",
     "text": [
      "[2/5][250/329]\tLoss_D: -2.9213004112243652\tLoss_G: 6.271657943725586\n"
     ]
    },
    {
     "name": "stderr",
     "output_type": "stream",
     "text": [
      " 91%|█████████▏| 301/329 [03:40<00:20,  1.36it/s, disc_loss=-2.76, grad_penalty=0.0469]"
     ]
    },
    {
     "name": "stdout",
     "output_type": "stream",
     "text": [
      "[2/5][300/329]\tLoss_D: -2.7629928588867188\tLoss_G: 5.768711566925049\n"
     ]
    },
    {
     "name": "stderr",
     "output_type": "stream",
     "text": [
      "100%|██████████| 329/329 [04:00<00:00,  1.37it/s, disc_loss=-1.63, grad_penalty=0.0396]\n",
      "  0%|          | 1/329 [00:00<04:01,  1.36it/s, disc_loss=-2.67, grad_penalty=0.0172]"
     ]
    },
    {
     "name": "stdout",
     "output_type": "stream",
     "text": [
      "[3/5][0/329]\tLoss_D: -2.6680684089660645\tLoss_G: 9.87090015411377\n"
     ]
    },
    {
     "name": "stderr",
     "output_type": "stream",
     "text": [
      " 16%|█▌        | 51/329 [00:37<03:24,  1.36it/s, disc_loss=-2.42, grad_penalty=0.0422]"
     ]
    },
    {
     "name": "stdout",
     "output_type": "stream",
     "text": [
      "[3/5][50/329]\tLoss_D: -2.4208381175994873\tLoss_G: 2.300053358078003\n"
     ]
    },
    {
     "name": "stderr",
     "output_type": "stream",
     "text": [
      " 31%|███       | 101/329 [01:14<02:48,  1.35it/s, disc_loss=-2.27, grad_penalty=0.017]"
     ]
    },
    {
     "name": "stdout",
     "output_type": "stream",
     "text": [
      "[3/5][100/329]\tLoss_D: -2.272986650466919\tLoss_G: 4.6488356590271\n"
     ]
    },
    {
     "name": "stderr",
     "output_type": "stream",
     "text": [
      " 46%|████▌     | 151/329 [01:51<02:11,  1.36it/s, disc_loss=-2.65, grad_penalty=0.0272]"
     ]
    },
    {
     "name": "stdout",
     "output_type": "stream",
     "text": [
      "[3/5][150/329]\tLoss_D: -2.6499955654144287\tLoss_G: 3.889798164367676\n"
     ]
    },
    {
     "name": "stderr",
     "output_type": "stream",
     "text": [
      " 61%|██████    | 201/329 [02:28<01:35,  1.34it/s, disc_loss=-2.55, grad_penalty=0.0278]"
     ]
    },
    {
     "name": "stdout",
     "output_type": "stream",
     "text": [
      "[3/5][200/329]\tLoss_D: -2.5464093685150146\tLoss_G: 4.833525657653809\n"
     ]
    },
    {
     "name": "stderr",
     "output_type": "stream",
     "text": [
      " 76%|███████▋  | 251/329 [03:05<00:56,  1.37it/s, disc_loss=-2.15, grad_penalty=0.0186]"
     ]
    },
    {
     "name": "stdout",
     "output_type": "stream",
     "text": [
      "[3/5][250/329]\tLoss_D: -2.1474833488464355\tLoss_G: 3.9400596618652344\n"
     ]
    },
    {
     "name": "stderr",
     "output_type": "stream",
     "text": [
      " 91%|█████████▏| 301/329 [03:41<00:20,  1.37it/s, disc_loss=-3.3, grad_penalty=0.0378]"
     ]
    },
    {
     "name": "stdout",
     "output_type": "stream",
     "text": [
      "[3/5][300/329]\tLoss_D: -3.3048336505889893\tLoss_G: 5.121185302734375\n"
     ]
    },
    {
     "name": "stderr",
     "output_type": "stream",
     "text": [
      "100%|██████████| 329/329 [04:01<00:00,  1.36it/s, disc_loss=-1.61, grad_penalty=0.0357]\n",
      "  0%|          | 1/329 [00:00<03:57,  1.38it/s, disc_loss=-1.22, grad_penalty=0.0155]"
     ]
    },
    {
     "name": "stdout",
     "output_type": "stream",
     "text": [
      "[4/5][0/329]\tLoss_D: -1.216317892074585\tLoss_G: 6.698052406311035\n"
     ]
    },
    {
     "name": "stderr",
     "output_type": "stream",
     "text": [
      " 16%|█▌        | 51/329 [00:37<03:24,  1.36it/s, disc_loss=-2.2, grad_penalty=0.0626]"
     ]
    },
    {
     "name": "stdout",
     "output_type": "stream",
     "text": [
      "[4/5][50/329]\tLoss_D: -2.200918197631836\tLoss_G: 0.08952251076698303\n"
     ]
    },
    {
     "name": "stderr",
     "output_type": "stream",
     "text": [
      " 31%|███       | 101/329 [01:13<02:47,  1.37it/s, disc_loss=-4.09, grad_penalty=0.0712]"
     ]
    },
    {
     "name": "stdout",
     "output_type": "stream",
     "text": [
      "[4/5][100/329]\tLoss_D: -4.093230724334717\tLoss_G: 3.9524331092834473\n"
     ]
    },
    {
     "name": "stderr",
     "output_type": "stream",
     "text": [
      " 46%|████▌     | 151/329 [01:51<02:10,  1.37it/s, disc_loss=-1.35, grad_penalty=0.0191]"
     ]
    },
    {
     "name": "stdout",
     "output_type": "stream",
     "text": [
      "[4/5][150/329]\tLoss_D: -1.3454313278198242\tLoss_G: 2.3684134483337402\n"
     ]
    },
    {
     "name": "stderr",
     "output_type": "stream",
     "text": [
      " 61%|██████    | 201/329 [02:27<01:35,  1.34it/s, disc_loss=-1.27, grad_penalty=0.0446]"
     ]
    },
    {
     "name": "stdout",
     "output_type": "stream",
     "text": [
      "[4/5][200/329]\tLoss_D: -1.2721588611602783\tLoss_G: 2.2706403732299805\n"
     ]
    },
    {
     "name": "stderr",
     "output_type": "stream",
     "text": [
      " 76%|███████▋  | 251/329 [03:04<00:57,  1.37it/s, disc_loss=-1.4, grad_penalty=0.0189]"
     ]
    },
    {
     "name": "stdout",
     "output_type": "stream",
     "text": [
      "[4/5][250/329]\tLoss_D: -1.396483302116394\tLoss_G: 1.6284234523773193\n"
     ]
    },
    {
     "name": "stderr",
     "output_type": "stream",
     "text": [
      " 91%|█████████▏| 301/329 [03:41<00:20,  1.35it/s, disc_loss=-3, grad_penalty=0.0218]"
     ]
    },
    {
     "name": "stdout",
     "output_type": "stream",
     "text": [
      "[4/5][300/329]\tLoss_D: -2.9956650733947754\tLoss_G: 6.545117378234863\n"
     ]
    },
    {
     "name": "stderr",
     "output_type": "stream",
     "text": [
      "100%|██████████| 329/329 [04:01<00:00,  1.36it/s, disc_loss=-2.02, grad_penalty=0.0517]\n"
     ]
    },
    {
     "name": "stdout",
     "output_type": "stream",
     "text": [
      "Curent image size: 32\n"
     ]
    },
    {
     "name": "stderr",
     "output_type": "stream",
     "text": [
      "  0%|          | 1/657 [00:01<12:14,  1.12s/it, disc_loss=0.892, grad_penalty=0.225]"
     ]
    },
    {
     "name": "stdout",
     "output_type": "stream",
     "text": [
      "[0/5][0/657]\tLoss_D: 0.8923386335372925\tLoss_G: 4.092732906341553\n"
     ]
    },
    {
     "name": "stderr",
     "output_type": "stream",
     "text": [
      "  8%|▊         | 51/657 [00:56<11:13,  1.11s/it, disc_loss=-4.63, grad_penalty=0.0708]"
     ]
    },
    {
     "name": "stdout",
     "output_type": "stream",
     "text": [
      "[0/5][50/657]\tLoss_D: -4.632926940917969\tLoss_G: 6.566291809082031\n"
     ]
    },
    {
     "name": "stderr",
     "output_type": "stream",
     "text": [
      " 15%|█▌        | 101/657 [01:52<10:15,  1.11s/it, disc_loss=-3.87, grad_penalty=0.0626]"
     ]
    },
    {
     "name": "stdout",
     "output_type": "stream",
     "text": [
      "[0/5][100/657]\tLoss_D: -3.8697078227996826\tLoss_G: 4.1482086181640625\n"
     ]
    },
    {
     "name": "stderr",
     "output_type": "stream",
     "text": [
      " 23%|██▎       | 151/657 [02:48<09:21,  1.11s/it, disc_loss=-4.61, grad_penalty=0.0739]"
     ]
    },
    {
     "name": "stdout",
     "output_type": "stream",
     "text": [
      "[0/5][150/657]\tLoss_D: -4.6147637367248535\tLoss_G: 4.386575698852539\n"
     ]
    },
    {
     "name": "stderr",
     "output_type": "stream",
     "text": [
      " 31%|███       | 201/657 [03:44<08:25,  1.11s/it, disc_loss=-2.69, grad_penalty=0.0484]"
     ]
    },
    {
     "name": "stdout",
     "output_type": "stream",
     "text": [
      "[0/5][200/657]\tLoss_D: -2.6940009593963623\tLoss_G: 3.6913623809814453\n"
     ]
    },
    {
     "name": "stderr",
     "output_type": "stream",
     "text": [
      " 38%|███▊      | 251/657 [04:39<07:29,  1.11s/it, disc_loss=-3.36, grad_penalty=0.0462]"
     ]
    },
    {
     "name": "stdout",
     "output_type": "stream",
     "text": [
      "[0/5][250/657]\tLoss_D: -3.3591315746307373\tLoss_G: 3.670105218887329\n"
     ]
    },
    {
     "name": "stderr",
     "output_type": "stream",
     "text": [
      " 46%|████▌     | 301/657 [05:35<06:37,  1.12s/it, disc_loss=-1.45, grad_penalty=0.0614]"
     ]
    },
    {
     "name": "stdout",
     "output_type": "stream",
     "text": [
      "[0/5][300/657]\tLoss_D: -1.4481831789016724\tLoss_G: 2.7185816764831543\n"
     ]
    },
    {
     "name": "stderr",
     "output_type": "stream",
     "text": [
      " 53%|█████▎    | 351/657 [06:31<05:40,  1.11s/it, disc_loss=-3.89, grad_penalty=0.0455]"
     ]
    },
    {
     "name": "stdout",
     "output_type": "stream",
     "text": [
      "[0/5][350/657]\tLoss_D: -3.8934671878814697\tLoss_G: 4.715343475341797\n"
     ]
    },
    {
     "name": "stderr",
     "output_type": "stream",
     "text": [
      " 61%|██████    | 401/657 [07:27<04:45,  1.12s/it, disc_loss=-1.86, grad_penalty=0.133]"
     ]
    },
    {
     "name": "stdout",
     "output_type": "stream",
     "text": [
      "[0/5][400/657]\tLoss_D: -1.8589195013046265\tLoss_G: -3.1934242248535156\n"
     ]
    },
    {
     "name": "stderr",
     "output_type": "stream",
     "text": [
      " 69%|██████▊   | 451/657 [08:22<03:51,  1.13s/it, disc_loss=-4.7, grad_penalty=0.0968]"
     ]
    },
    {
     "name": "stdout",
     "output_type": "stream",
     "text": [
      "[0/5][450/657]\tLoss_D: -4.69870662689209\tLoss_G: 5.772359848022461\n"
     ]
    },
    {
     "name": "stderr",
     "output_type": "stream",
     "text": [
      " 76%|███████▋  | 501/657 [09:18<02:54,  1.12s/it, disc_loss=-3.66, grad_penalty=0.0196]"
     ]
    },
    {
     "name": "stdout",
     "output_type": "stream",
     "text": [
      "[0/5][500/657]\tLoss_D: -3.6639394760131836\tLoss_G: 10.977951049804688\n"
     ]
    },
    {
     "name": "stderr",
     "output_type": "stream",
     "text": [
      " 84%|████████▍ | 551/657 [10:15<01:59,  1.13s/it, disc_loss=-2.28, grad_penalty=0.0285]"
     ]
    },
    {
     "name": "stdout",
     "output_type": "stream",
     "text": [
      "[0/5][550/657]\tLoss_D: -2.283114433288574\tLoss_G: 5.766368865966797\n"
     ]
    },
    {
     "name": "stderr",
     "output_type": "stream",
     "text": [
      " 91%|█████████▏| 601/657 [11:11<01:03,  1.14s/it, disc_loss=-3.52, grad_penalty=0.0627]"
     ]
    },
    {
     "name": "stdout",
     "output_type": "stream",
     "text": [
      "[0/5][600/657]\tLoss_D: -3.523378372192383\tLoss_G: 3.3309848308563232\n"
     ]
    },
    {
     "name": "stderr",
     "output_type": "stream",
     "text": [
      " 99%|█████████▉| 651/657 [12:09<00:06,  1.14s/it, disc_loss=-1.97, grad_penalty=0.0228]"
     ]
    },
    {
     "name": "stdout",
     "output_type": "stream",
     "text": [
      "[0/5][650/657]\tLoss_D: -1.970436930656433\tLoss_G: 3.6637606620788574\n"
     ]
    },
    {
     "name": "stderr",
     "output_type": "stream",
     "text": [
      "100%|██████████| 657/657 [12:15<00:00,  1.12s/it, disc_loss=-4.01, grad_penalty=0.0304]\n",
      "  0%|          | 1/657 [00:01<12:09,  1.11s/it, disc_loss=-4.49, grad_penalty=0.0627]"
     ]
    },
    {
     "name": "stdout",
     "output_type": "stream",
     "text": [
      "[1/5][0/657]\tLoss_D: -4.491513252258301\tLoss_G: 7.718142986297607\n"
     ]
    },
    {
     "name": "stderr",
     "output_type": "stream",
     "text": [
      "  8%|▊         | 51/657 [00:57<11:16,  1.12s/it, disc_loss=-2.83, grad_penalty=0.0478]"
     ]
    },
    {
     "name": "stdout",
     "output_type": "stream",
     "text": [
      "[1/5][50/657]\tLoss_D: -2.825986385345459\tLoss_G: 8.903342247009277\n"
     ]
    },
    {
     "name": "stderr",
     "output_type": "stream",
     "text": [
      " 15%|█▌        | 101/657 [01:53<10:21,  1.12s/it, disc_loss=-1.97, grad_penalty=0.0239]"
     ]
    },
    {
     "name": "stdout",
     "output_type": "stream",
     "text": [
      "[1/5][100/657]\tLoss_D: -1.9688359498977661\tLoss_G: 1.8629249334335327\n"
     ]
    },
    {
     "name": "stderr",
     "output_type": "stream",
     "text": [
      " 23%|██▎       | 151/657 [02:49<09:29,  1.13s/it, disc_loss=-3.19, grad_penalty=0.066]"
     ]
    },
    {
     "name": "stdout",
     "output_type": "stream",
     "text": [
      "[1/5][150/657]\tLoss_D: -3.1866390705108643\tLoss_G: 1.9275368452072144\n"
     ]
    },
    {
     "name": "stderr",
     "output_type": "stream",
     "text": [
      " 31%|███       | 201/657 [03:46<08:35,  1.13s/it, disc_loss=-2.18, grad_penalty=0.117]"
     ]
    },
    {
     "name": "stdout",
     "output_type": "stream",
     "text": [
      "[1/5][200/657]\tLoss_D: -2.183781623840332\tLoss_G: 2.845728874206543\n"
     ]
    },
    {
     "name": "stderr",
     "output_type": "stream",
     "text": [
      " 38%|███▊      | 251/657 [04:42<07:37,  1.13s/it, disc_loss=-2.39, grad_penalty=0.0369]"
     ]
    },
    {
     "name": "stdout",
     "output_type": "stream",
     "text": [
      "[1/5][250/657]\tLoss_D: -2.3871586322784424\tLoss_G: 5.971926689147949\n"
     ]
    },
    {
     "name": "stderr",
     "output_type": "stream",
     "text": [
      " 46%|████▌     | 301/657 [05:39<06:43,  1.13s/it, disc_loss=-5.2, grad_penalty=0.0674]"
     ]
    },
    {
     "name": "stdout",
     "output_type": "stream",
     "text": [
      "[1/5][300/657]\tLoss_D: -5.2011189460754395\tLoss_G: 5.7805609703063965\n"
     ]
    },
    {
     "name": "stderr",
     "output_type": "stream",
     "text": [
      " 53%|█████▎    | 351/657 [06:36<05:47,  1.14s/it, disc_loss=-4.35, grad_penalty=0.097]"
     ]
    },
    {
     "name": "stdout",
     "output_type": "stream",
     "text": [
      "[1/5][350/657]\tLoss_D: -4.3493194580078125\tLoss_G: 4.980423927307129\n"
     ]
    },
    {
     "name": "stderr",
     "output_type": "stream",
     "text": [
      " 61%|██████    | 401/657 [07:34<04:52,  1.14s/it, disc_loss=-1.87, grad_penalty=0.0234]"
     ]
    },
    {
     "name": "stdout",
     "output_type": "stream",
     "text": [
      "[1/5][400/657]\tLoss_D: -1.874881386756897\tLoss_G: 5.309877395629883\n"
     ]
    },
    {
     "name": "stderr",
     "output_type": "stream",
     "text": [
      " 69%|██████▊   | 451/657 [08:31<03:55,  1.15s/it, disc_loss=-2.57, grad_penalty=0.05]"
     ]
    },
    {
     "name": "stdout",
     "output_type": "stream",
     "text": [
      "[1/5][450/657]\tLoss_D: -2.569497585296631\tLoss_G: 4.718005180358887\n"
     ]
    },
    {
     "name": "stderr",
     "output_type": "stream",
     "text": [
      " 76%|███████▋  | 501/657 [09:29<02:59,  1.15s/it, disc_loss=-2.08, grad_penalty=0.0148]"
     ]
    },
    {
     "name": "stdout",
     "output_type": "stream",
     "text": [
      "[1/5][500/657]\tLoss_D: -2.084160089492798\tLoss_G: 3.0486412048339844\n"
     ]
    },
    {
     "name": "stderr",
     "output_type": "stream",
     "text": [
      " 84%|████████▍ | 551/657 [10:27<02:02,  1.16s/it, disc_loss=-4.47, grad_penalty=0.0394]"
     ]
    },
    {
     "name": "stdout",
     "output_type": "stream",
     "text": [
      "[1/5][550/657]\tLoss_D: -4.47437858581543\tLoss_G: 8.399968147277832\n"
     ]
    },
    {
     "name": "stderr",
     "output_type": "stream",
     "text": [
      " 91%|█████████▏| 601/657 [11:25<01:04,  1.15s/it, disc_loss=-2.34, grad_penalty=0.0744]"
     ]
    },
    {
     "name": "stdout",
     "output_type": "stream",
     "text": [
      "[1/5][600/657]\tLoss_D: -2.3352954387664795\tLoss_G: -0.48879894614219666\n"
     ]
    },
    {
     "name": "stderr",
     "output_type": "stream",
     "text": [
      " 99%|█████████▉| 651/657 [12:23<00:06,  1.16s/it, disc_loss=-2.66, grad_penalty=0.0219]"
     ]
    },
    {
     "name": "stdout",
     "output_type": "stream",
     "text": [
      "[1/5][650/657]\tLoss_D: -2.6627442836761475\tLoss_G: 4.003164291381836\n"
     ]
    },
    {
     "name": "stderr",
     "output_type": "stream",
     "text": [
      "100%|██████████| 657/657 [12:29<00:00,  1.14s/it, disc_loss=-3.38, grad_penalty=0.121]\n",
      "  0%|          | 1/657 [00:01<12:13,  1.12s/it, disc_loss=-1.44, grad_penalty=0.0159]"
     ]
    },
    {
     "name": "stdout",
     "output_type": "stream",
     "text": [
      "[2/5][0/657]\tLoss_D: -1.4383646249771118\tLoss_G: 2.5494918823242188\n"
     ]
    },
    {
     "name": "stderr",
     "output_type": "stream",
     "text": [
      "  8%|▊         | 51/657 [00:57<11:18,  1.12s/it, disc_loss=-3.78, grad_penalty=0.108]"
     ]
    },
    {
     "name": "stdout",
     "output_type": "stream",
     "text": [
      "[2/5][50/657]\tLoss_D: -3.7750589847564697\tLoss_G: 3.23333477973938\n"
     ]
    },
    {
     "name": "stderr",
     "output_type": "stream",
     "text": [
      " 15%|█▌        | 101/657 [01:53<10:22,  1.12s/it, disc_loss=-1.51, grad_penalty=0.0231]"
     ]
    },
    {
     "name": "stdout",
     "output_type": "stream",
     "text": [
      "[2/5][100/657]\tLoss_D: -1.5132472515106201\tLoss_G: 6.902729034423828\n"
     ]
    },
    {
     "name": "stderr",
     "output_type": "stream",
     "text": [
      " 23%|██▎       | 151/657 [02:50<09:30,  1.13s/it, disc_loss=-2.5, grad_penalty=0.0525]"
     ]
    },
    {
     "name": "stdout",
     "output_type": "stream",
     "text": [
      "[2/5][150/657]\tLoss_D: -2.5040934085845947\tLoss_G: 2.485631227493286\n"
     ]
    },
    {
     "name": "stderr",
     "output_type": "stream",
     "text": [
      " 31%|███       | 201/657 [03:46<08:34,  1.13s/it, disc_loss=-2.54, grad_penalty=0.049]"
     ]
    },
    {
     "name": "stdout",
     "output_type": "stream",
     "text": [
      "[2/5][200/657]\tLoss_D: -2.542914628982544\tLoss_G: 0.6965547800064087\n"
     ]
    },
    {
     "name": "stderr",
     "output_type": "stream",
     "text": [
      " 38%|███▊      | 251/657 [04:43<07:40,  1.14s/it, disc_loss=-2.35, grad_penalty=0.0152]"
     ]
    },
    {
     "name": "stdout",
     "output_type": "stream",
     "text": [
      "[2/5][250/657]\tLoss_D: -2.345109224319458\tLoss_G: 3.681934356689453\n"
     ]
    },
    {
     "name": "stderr",
     "output_type": "stream",
     "text": [
      " 46%|████▌     | 301/657 [05:40<06:42,  1.13s/it, disc_loss=-5.27, grad_penalty=0.118]"
     ]
    },
    {
     "name": "stdout",
     "output_type": "stream",
     "text": [
      "[2/5][300/657]\tLoss_D: -5.265710353851318\tLoss_G: 0.6665864586830139\n"
     ]
    },
    {
     "name": "stderr",
     "output_type": "stream",
     "text": [
      " 53%|█████▎    | 351/657 [06:37<05:49,  1.14s/it, disc_loss=-3.76, grad_penalty=0.0993]"
     ]
    },
    {
     "name": "stdout",
     "output_type": "stream",
     "text": [
      "[2/5][350/657]\tLoss_D: -3.7558441162109375\tLoss_G: 2.3755476474761963\n"
     ]
    },
    {
     "name": "stderr",
     "output_type": "stream",
     "text": [
      " 61%|██████    | 401/657 [07:34<04:55,  1.15s/it, disc_loss=-1.56, grad_penalty=0.0196]"
     ]
    },
    {
     "name": "stdout",
     "output_type": "stream",
     "text": [
      "[2/5][400/657]\tLoss_D: -1.5605800151824951\tLoss_G: 2.9326725006103516\n"
     ]
    },
    {
     "name": "stderr",
     "output_type": "stream",
     "text": [
      " 69%|██████▊   | 451/657 [08:31<03:58,  1.16s/it, disc_loss=-3.4, grad_penalty=0.0314]"
     ]
    },
    {
     "name": "stdout",
     "output_type": "stream",
     "text": [
      "[2/5][450/657]\tLoss_D: -3.395547389984131\tLoss_G: 4.797965049743652\n"
     ]
    },
    {
     "name": "stderr",
     "output_type": "stream",
     "text": [
      " 76%|███████▋  | 501/657 [09:29<02:59,  1.15s/it, disc_loss=-1.65, grad_penalty=0.0232]"
     ]
    },
    {
     "name": "stdout",
     "output_type": "stream",
     "text": [
      "[2/5][500/657]\tLoss_D: -1.6501262187957764\tLoss_G: 1.7418229579925537\n"
     ]
    },
    {
     "name": "stderr",
     "output_type": "stream",
     "text": [
      " 84%|████████▍ | 551/657 [10:27<02:02,  1.16s/it, disc_loss=-2.49, grad_penalty=0.0847]"
     ]
    },
    {
     "name": "stdout",
     "output_type": "stream",
     "text": [
      "[2/5][550/657]\tLoss_D: -2.488321304321289\tLoss_G: 3.8994011878967285\n"
     ]
    },
    {
     "name": "stderr",
     "output_type": "stream",
     "text": [
      " 91%|█████████▏| 601/657 [11:25<01:04,  1.15s/it, disc_loss=-3.2, grad_penalty=0.0505]"
     ]
    },
    {
     "name": "stdout",
     "output_type": "stream",
     "text": [
      "[2/5][600/657]\tLoss_D: -3.1972157955169678\tLoss_G: 3.211590051651001\n"
     ]
    },
    {
     "name": "stderr",
     "output_type": "stream",
     "text": [
      " 99%|█████████▉| 651/657 [12:23<00:06,  1.16s/it, disc_loss=-3.31, grad_penalty=0.047]"
     ]
    },
    {
     "name": "stdout",
     "output_type": "stream",
     "text": [
      "[2/5][650/657]\tLoss_D: -3.3057944774627686\tLoss_G: 3.94626522064209\n"
     ]
    },
    {
     "name": "stderr",
     "output_type": "stream",
     "text": [
      "100%|██████████| 657/657 [12:29<00:00,  1.14s/it, disc_loss=-3.05, grad_penalty=0.0138]\n",
      "  0%|          | 1/657 [00:01<12:20,  1.13s/it, disc_loss=-3.25, grad_penalty=0.144]"
     ]
    },
    {
     "name": "stdout",
     "output_type": "stream",
     "text": [
      "[3/5][0/657]\tLoss_D: -3.2537031173706055\tLoss_G: -2.4059648513793945\n"
     ]
    },
    {
     "name": "stderr",
     "output_type": "stream",
     "text": [
      "  8%|▊         | 51/657 [00:57<11:22,  1.13s/it, disc_loss=-2.49, grad_penalty=0.0547]"
     ]
    },
    {
     "name": "stdout",
     "output_type": "stream",
     "text": [
      "[3/5][50/657]\tLoss_D: -2.486983299255371\tLoss_G: 0.37726253271102905\n"
     ]
    },
    {
     "name": "stderr",
     "output_type": "stream",
     "text": [
      " 15%|█▌        | 101/657 [01:53<10:27,  1.13s/it, disc_loss=-2.51, grad_penalty=0.031]"
     ]
    },
    {
     "name": "stdout",
     "output_type": "stream",
     "text": [
      "[3/5][100/657]\tLoss_D: -2.510018825531006\tLoss_G: 1.6342196464538574\n"
     ]
    },
    {
     "name": "stderr",
     "output_type": "stream",
     "text": [
      " 23%|██▎       | 151/657 [02:50<09:31,  1.13s/it, disc_loss=-3.32, grad_penalty=0.0653]"
     ]
    },
    {
     "name": "stdout",
     "output_type": "stream",
     "text": [
      "[3/5][150/657]\tLoss_D: -3.3197433948516846\tLoss_G: 3.0152745246887207\n"
     ]
    },
    {
     "name": "stderr",
     "output_type": "stream",
     "text": [
      " 31%|███       | 201/657 [03:46<08:38,  1.14s/it, disc_loss=-2.52, grad_penalty=0.0226]"
     ]
    },
    {
     "name": "stdout",
     "output_type": "stream",
     "text": [
      "[3/5][200/657]\tLoss_D: -2.5166850090026855\tLoss_G: 4.070459842681885\n"
     ]
    },
    {
     "name": "stderr",
     "output_type": "stream",
     "text": [
      " 38%|███▊      | 251/657 [04:43<07:40,  1.13s/it, disc_loss=-2.05, grad_penalty=0.0592]"
     ]
    },
    {
     "name": "stdout",
     "output_type": "stream",
     "text": [
      "[3/5][250/657]\tLoss_D: -2.0480406284332275\tLoss_G: 3.722705841064453\n"
     ]
    },
    {
     "name": "stderr",
     "output_type": "stream",
     "text": [
      " 46%|████▌     | 301/657 [05:40<06:46,  1.14s/it, disc_loss=-2.55, grad_penalty=0.0245]"
     ]
    },
    {
     "name": "stdout",
     "output_type": "stream",
     "text": [
      "[3/5][300/657]\tLoss_D: -2.5530266761779785\tLoss_G: 2.359067440032959\n"
     ]
    },
    {
     "name": "stderr",
     "output_type": "stream",
     "text": [
      " 53%|█████▎    | 351/657 [06:37<05:50,  1.15s/it, disc_loss=-1.12, grad_penalty=0.0187]"
     ]
    },
    {
     "name": "stdout",
     "output_type": "stream",
     "text": [
      "[3/5][350/657]\tLoss_D: -1.1182773113250732\tLoss_G: -0.13071691989898682\n"
     ]
    },
    {
     "name": "stderr",
     "output_type": "stream",
     "text": [
      " 61%|██████    | 401/657 [07:35<04:54,  1.15s/it, disc_loss=-3.29, grad_penalty=0.0852]"
     ]
    },
    {
     "name": "stdout",
     "output_type": "stream",
     "text": [
      "[3/5][400/657]\tLoss_D: -3.291703701019287\tLoss_G: 0.9369231462478638\n"
     ]
    },
    {
     "name": "stderr",
     "output_type": "stream",
     "text": [
      " 69%|██████▊   | 451/657 [08:33<03:57,  1.15s/it, disc_loss=-4.01, grad_penalty=0.0251]"
     ]
    },
    {
     "name": "stdout",
     "output_type": "stream",
     "text": [
      "[3/5][450/657]\tLoss_D: -4.008098602294922\tLoss_G: 8.946870803833008\n"
     ]
    },
    {
     "name": "stderr",
     "output_type": "stream",
     "text": [
      " 76%|███████▋  | 501/657 [09:30<02:59,  1.15s/it, disc_loss=-2.77, grad_penalty=0.06]"
     ]
    },
    {
     "name": "stdout",
     "output_type": "stream",
     "text": [
      "[3/5][500/657]\tLoss_D: -2.7679479122161865\tLoss_G: 3.859801769256592\n"
     ]
    },
    {
     "name": "stderr",
     "output_type": "stream",
     "text": [
      " 84%|████████▍ | 551/657 [10:28<02:02,  1.16s/it, disc_loss=-1.87, grad_penalty=0.0184]"
     ]
    },
    {
     "name": "stdout",
     "output_type": "stream",
     "text": [
      "[3/5][550/657]\tLoss_D: -1.874983549118042\tLoss_G: 2.0296802520751953\n"
     ]
    },
    {
     "name": "stderr",
     "output_type": "stream",
     "text": [
      " 91%|█████████▏| 601/657 [11:26<01:04,  1.16s/it, disc_loss=-2.77, grad_penalty=0.0401]"
     ]
    },
    {
     "name": "stdout",
     "output_type": "stream",
     "text": [
      "[3/5][600/657]\tLoss_D: -2.7693073749542236\tLoss_G: 1.8759616613388062\n"
     ]
    },
    {
     "name": "stderr",
     "output_type": "stream",
     "text": [
      " 99%|█████████▉| 651/657 [12:24<00:06,  1.16s/it, disc_loss=-3.26, grad_penalty=0.0491]"
     ]
    },
    {
     "name": "stdout",
     "output_type": "stream",
     "text": [
      "[3/5][650/657]\tLoss_D: -3.2581429481506348\tLoss_G: 2.1993355751037598\n"
     ]
    },
    {
     "name": "stderr",
     "output_type": "stream",
     "text": [
      "100%|██████████| 657/657 [12:30<00:00,  1.14s/it, disc_loss=-2.15, grad_penalty=0.0506]\n",
      "  0%|          | 1/657 [00:01<12:05,  1.11s/it, disc_loss=-2.04, grad_penalty=0.0246]"
     ]
    },
    {
     "name": "stdout",
     "output_type": "stream",
     "text": [
      "[4/5][0/657]\tLoss_D: -2.044639825820923\tLoss_G: 4.639095783233643\n"
     ]
    },
    {
     "name": "stderr",
     "output_type": "stream",
     "text": [
      "  8%|▊         | 51/657 [00:56<11:12,  1.11s/it, disc_loss=-2.57, grad_penalty=0.0237]"
     ]
    },
    {
     "name": "stdout",
     "output_type": "stream",
     "text": [
      "[4/5][50/657]\tLoss_D: -2.566417694091797\tLoss_G: 2.701763153076172\n"
     ]
    },
    {
     "name": "stderr",
     "output_type": "stream",
     "text": [
      " 15%|█▌        | 101/657 [01:52<10:18,  1.11s/it, disc_loss=-2.14, grad_penalty=0.0325]"
     ]
    },
    {
     "name": "stdout",
     "output_type": "stream",
     "text": [
      "[4/5][100/657]\tLoss_D: -2.141523838043213\tLoss_G: 3.278015613555908\n"
     ]
    },
    {
     "name": "stderr",
     "output_type": "stream",
     "text": [
      " 23%|██▎       | 151/657 [02:48<09:24,  1.12s/it, disc_loss=-3.11, grad_penalty=0.0298]"
     ]
    },
    {
     "name": "stdout",
     "output_type": "stream",
     "text": [
      "[4/5][150/657]\tLoss_D: -3.11308217048645\tLoss_G: 5.108820915222168\n"
     ]
    },
    {
     "name": "stderr",
     "output_type": "stream",
     "text": [
      " 31%|███       | 201/657 [03:44<08:29,  1.12s/it, disc_loss=-3.51, grad_penalty=0.0229]"
     ]
    },
    {
     "name": "stdout",
     "output_type": "stream",
     "text": [
      "[4/5][200/657]\tLoss_D: -3.509037733078003\tLoss_G: 5.012468338012695\n"
     ]
    },
    {
     "name": "stderr",
     "output_type": "stream",
     "text": [
      " 38%|███▊      | 251/657 [04:40<07:35,  1.12s/it, disc_loss=-2.11, grad_penalty=0.0103]"
     ]
    },
    {
     "name": "stdout",
     "output_type": "stream",
     "text": [
      "[4/5][250/657]\tLoss_D: -2.1078803539276123\tLoss_G: 5.956567764282227\n"
     ]
    },
    {
     "name": "stderr",
     "output_type": "stream",
     "text": [
      " 46%|████▌     | 301/657 [05:36<06:40,  1.12s/it, disc_loss=-1.43, grad_penalty=0.0466]"
     ]
    },
    {
     "name": "stdout",
     "output_type": "stream",
     "text": [
      "[4/5][300/657]\tLoss_D: -1.4272390604019165\tLoss_G: 3.009617805480957\n"
     ]
    },
    {
     "name": "stderr",
     "output_type": "stream",
     "text": [
      " 53%|█████▎    | 351/657 [06:33<05:47,  1.13s/it, disc_loss=-1.77, grad_penalty=0.0237]"
     ]
    },
    {
     "name": "stdout",
     "output_type": "stream",
     "text": [
      "[4/5][350/657]\tLoss_D: -1.7684615850448608\tLoss_G: 2.9707987308502197\n"
     ]
    },
    {
     "name": "stderr",
     "output_type": "stream",
     "text": [
      " 61%|██████    | 401/657 [07:29<04:49,  1.13s/it, disc_loss=-3.15, grad_penalty=0.0227]"
     ]
    },
    {
     "name": "stdout",
     "output_type": "stream",
     "text": [
      "[4/5][400/657]\tLoss_D: -3.1542861461639404\tLoss_G: 6.74951171875\n"
     ]
    },
    {
     "name": "stderr",
     "output_type": "stream",
     "text": [
      " 69%|██████▊   | 451/657 [08:26<03:53,  1.14s/it, disc_loss=-3.25, grad_penalty=0.0218]"
     ]
    },
    {
     "name": "stdout",
     "output_type": "stream",
     "text": [
      "[4/5][450/657]\tLoss_D: -3.2506089210510254\tLoss_G: 5.473629474639893\n"
     ]
    },
    {
     "name": "stderr",
     "output_type": "stream",
     "text": [
      " 76%|███████▋  | 501/657 [09:23<02:56,  1.13s/it, disc_loss=-1.9, grad_penalty=0.0849]"
     ]
    },
    {
     "name": "stdout",
     "output_type": "stream",
     "text": [
      "[4/5][500/657]\tLoss_D: -1.8977371454238892\tLoss_G: -0.23855748772621155\n"
     ]
    },
    {
     "name": "stderr",
     "output_type": "stream",
     "text": [
      " 84%|████████▍ | 551/657 [10:20<02:01,  1.14s/it, disc_loss=-0.833, grad_penalty=0.0461]"
     ]
    },
    {
     "name": "stdout",
     "output_type": "stream",
     "text": [
      "[4/5][550/657]\tLoss_D: -0.8334042429924011\tLoss_G: 1.4183604717254639\n"
     ]
    },
    {
     "name": "stderr",
     "output_type": "stream",
     "text": [
      " 91%|█████████▏| 601/657 [11:17<01:03,  1.14s/it, disc_loss=-2.93, grad_penalty=0.0562]"
     ]
    },
    {
     "name": "stdout",
     "output_type": "stream",
     "text": [
      "[4/5][600/657]\tLoss_D: -2.9280734062194824\tLoss_G: 3.1021957397460938\n"
     ]
    },
    {
     "name": "stderr",
     "output_type": "stream",
     "text": [
      " 99%|█████████▉| 651/657 [12:15<00:06,  1.15s/it, disc_loss=-2.88, grad_penalty=0.0211]"
     ]
    },
    {
     "name": "stdout",
     "output_type": "stream",
     "text": [
      "[4/5][650/657]\tLoss_D: -2.8840558528900146\tLoss_G: 5.5104265213012695\n"
     ]
    },
    {
     "name": "stderr",
     "output_type": "stream",
     "text": [
      "100%|██████████| 657/657 [12:21<00:00,  1.13s/it, disc_loss=-2.81, grad_penalty=0.016]\n"
     ]
    },
    {
     "name": "stdout",
     "output_type": "stream",
     "text": [
      "Curent image size: 64\n"
     ]
    },
    {
     "name": "stderr",
     "output_type": "stream",
     "text": [
      "  0%|          | 1/1313 [00:01<35:15,  1.61s/it, disc_loss=-0.919, grad_penalty=0.199]"
     ]
    },
    {
     "name": "stdout",
     "output_type": "stream",
     "text": [
      "[0/5][0/1313]\tLoss_D: -0.9194991588592529\tLoss_G: 6.7491044998168945\n"
     ]
    },
    {
     "name": "stderr",
     "output_type": "stream",
     "text": [
      "  4%|▍         | 51/1313 [01:21<33:15,  1.58s/it, disc_loss=-7.2, grad_penalty=0.116]"
     ]
    },
    {
     "name": "stdout",
     "output_type": "stream",
     "text": [
      "[0/5][50/1313]\tLoss_D: -7.195332050323486\tLoss_G: 9.671696662902832\n"
     ]
    },
    {
     "name": "stderr",
     "output_type": "stream",
     "text": [
      "  8%|▊         | 101/1313 [02:40<31:54,  1.58s/it, disc_loss=-6.08, grad_penalty=0.0777]"
     ]
    },
    {
     "name": "stdout",
     "output_type": "stream",
     "text": [
      "[0/5][100/1313]\tLoss_D: -6.082794666290283\tLoss_G: 7.9320292472839355\n"
     ]
    },
    {
     "name": "stderr",
     "output_type": "stream",
     "text": [
      " 12%|█▏        | 151/1313 [04:00<30:39,  1.58s/it, disc_loss=-3.79, grad_penalty=0.028]"
     ]
    },
    {
     "name": "stdout",
     "output_type": "stream",
     "text": [
      "[0/5][150/1313]\tLoss_D: -3.788926124572754\tLoss_G: 6.206377983093262\n"
     ]
    },
    {
     "name": "stderr",
     "output_type": "stream",
     "text": [
      " 15%|█▌        | 201/1313 [05:19<29:21,  1.58s/it, disc_loss=-7.25, grad_penalty=0.0393]"
     ]
    },
    {
     "name": "stdout",
     "output_type": "stream",
     "text": [
      "[0/5][200/1313]\tLoss_D: -7.246049404144287\tLoss_G: 17.419635772705078\n"
     ]
    },
    {
     "name": "stderr",
     "output_type": "stream",
     "text": [
      " 19%|█▉        | 251/1313 [06:39<28:02,  1.58s/it, disc_loss=-0.552, grad_penalty=0.0892]"
     ]
    },
    {
     "name": "stdout",
     "output_type": "stream",
     "text": [
      "[0/5][250/1313]\tLoss_D: -0.5518884658813477\tLoss_G: 6.852331161499023\n"
     ]
    },
    {
     "name": "stderr",
     "output_type": "stream",
     "text": [
      " 23%|██▎       | 301/1313 [07:58<26:45,  1.59s/it, disc_loss=-5.7, grad_penalty=0.145]"
     ]
    },
    {
     "name": "stdout",
     "output_type": "stream",
     "text": [
      "[0/5][300/1313]\tLoss_D: -5.695877552032471\tLoss_G: 2.3981854915618896\n"
     ]
    },
    {
     "name": "stderr",
     "output_type": "stream",
     "text": [
      " 27%|██▋       | 351/1313 [09:18<25:25,  1.59s/it, disc_loss=-4.39, grad_penalty=0.0192]"
     ]
    },
    {
     "name": "stdout",
     "output_type": "stream",
     "text": [
      "[0/5][350/1313]\tLoss_D: -4.388059139251709\tLoss_G: 7.74056339263916\n"
     ]
    },
    {
     "name": "stderr",
     "output_type": "stream",
     "text": [
      " 31%|███       | 401/1313 [10:38<24:12,  1.59s/it, disc_loss=-3.16, grad_penalty=0.0194]"
     ]
    },
    {
     "name": "stdout",
     "output_type": "stream",
     "text": [
      "[0/5][400/1313]\tLoss_D: -3.1552412509918213\tLoss_G: 7.280133247375488\n"
     ]
    },
    {
     "name": "stderr",
     "output_type": "stream",
     "text": [
      " 34%|███▍      | 451/1313 [11:58<23:00,  1.60s/it, disc_loss=-4.84, grad_penalty=0.00936]"
     ]
    },
    {
     "name": "stdout",
     "output_type": "stream",
     "text": [
      "[0/5][450/1313]\tLoss_D: -4.835569381713867\tLoss_G: 8.462628364562988\n"
     ]
    },
    {
     "name": "stderr",
     "output_type": "stream",
     "text": [
      " 38%|███▊      | 501/1313 [13:19<21:45,  1.61s/it, disc_loss=-4.37, grad_penalty=0.0487]"
     ]
    },
    {
     "name": "stdout",
     "output_type": "stream",
     "text": [
      "[0/5][500/1313]\tLoss_D: -4.370304584503174\tLoss_G: 5.122922897338867\n"
     ]
    },
    {
     "name": "stderr",
     "output_type": "stream",
     "text": [
      " 42%|████▏     | 551/1313 [14:39<20:24,  1.61s/it, disc_loss=-1.64, grad_penalty=0.0527]"
     ]
    },
    {
     "name": "stdout",
     "output_type": "stream",
     "text": [
      "[0/5][550/1313]\tLoss_D: -1.6394834518432617\tLoss_G: 8.293498992919922\n"
     ]
    },
    {
     "name": "stderr",
     "output_type": "stream",
     "text": [
      " 46%|████▌     | 601/1313 [16:00<19:03,  1.61s/it, disc_loss=-6.08, grad_penalty=0.0194]"
     ]
    },
    {
     "name": "stdout",
     "output_type": "stream",
     "text": [
      "[0/5][600/1313]\tLoss_D: -6.083760738372803\tLoss_G: 16.468502044677734\n"
     ]
    },
    {
     "name": "stderr",
     "output_type": "stream",
     "text": [
      " 50%|████▉     | 651/1313 [17:21<17:41,  1.60s/it, disc_loss=-3.95, grad_penalty=0.0352]"
     ]
    },
    {
     "name": "stdout",
     "output_type": "stream",
     "text": [
      "[0/5][650/1313]\tLoss_D: -3.9512946605682373\tLoss_G: 8.31405258178711\n"
     ]
    },
    {
     "name": "stderr",
     "output_type": "stream",
     "text": [
      " 53%|█████▎    | 701/1313 [18:42<16:22,  1.61s/it, disc_loss=-6.13, grad_penalty=0.0696]"
     ]
    },
    {
     "name": "stdout",
     "output_type": "stream",
     "text": [
      "[0/5][700/1313]\tLoss_D: -6.128113746643066\tLoss_G: 9.624916076660156\n"
     ]
    },
    {
     "name": "stderr",
     "output_type": "stream",
     "text": [
      " 57%|█████▋    | 751/1313 [20:02<15:02,  1.61s/it, disc_loss=-3.23, grad_penalty=0.0653]"
     ]
    },
    {
     "name": "stdout",
     "output_type": "stream",
     "text": [
      "[0/5][750/1313]\tLoss_D: -3.2345006465911865\tLoss_G: 3.5400660037994385\n"
     ]
    },
    {
     "name": "stderr",
     "output_type": "stream",
     "text": [
      " 61%|██████    | 801/1313 [21:23<13:42,  1.61s/it, disc_loss=-4.81, grad_penalty=0.061]"
     ]
    },
    {
     "name": "stdout",
     "output_type": "stream",
     "text": [
      "[0/5][800/1313]\tLoss_D: -4.812016010284424\tLoss_G: 6.264582633972168\n"
     ]
    },
    {
     "name": "stderr",
     "output_type": "stream",
     "text": [
      " 65%|██████▍   | 851/1313 [22:44<12:21,  1.60s/it, disc_loss=-5.34, grad_penalty=0.0989]"
     ]
    },
    {
     "name": "stdout",
     "output_type": "stream",
     "text": [
      "[0/5][850/1313]\tLoss_D: -5.337520599365234\tLoss_G: 9.292865753173828\n"
     ]
    },
    {
     "name": "stderr",
     "output_type": "stream",
     "text": [
      " 69%|██████▊   | 901/1313 [24:04<11:02,  1.61s/it, disc_loss=-3.2, grad_penalty=0.0218]"
     ]
    },
    {
     "name": "stdout",
     "output_type": "stream",
     "text": [
      "[0/5][900/1313]\tLoss_D: -3.1951346397399902\tLoss_G: 1.2884557247161865\n"
     ]
    },
    {
     "name": "stderr",
     "output_type": "stream",
     "text": [
      " 72%|███████▏  | 951/1313 [25:25<09:41,  1.61s/it, disc_loss=-5.28, grad_penalty=0.1]"
     ]
    },
    {
     "name": "stdout",
     "output_type": "stream",
     "text": [
      "[0/5][950/1313]\tLoss_D: -5.284480571746826\tLoss_G: 8.285947799682617\n"
     ]
    },
    {
     "name": "stderr",
     "output_type": "stream",
     "text": [
      " 76%|███████▌  | 1001/1313 [26:46<08:21,  1.61s/it, disc_loss=-3.75, grad_penalty=0.0139]"
     ]
    },
    {
     "name": "stdout",
     "output_type": "stream",
     "text": [
      "[0/5][1000/1313]\tLoss_D: -3.750840187072754\tLoss_G: 7.483142852783203\n"
     ]
    },
    {
     "name": "stderr",
     "output_type": "stream",
     "text": [
      " 80%|████████  | 1051/1313 [28:07<07:05,  1.62s/it, disc_loss=-4.5, grad_penalty=0.025]"
     ]
    },
    {
     "name": "stdout",
     "output_type": "stream",
     "text": [
      "[0/5][1050/1313]\tLoss_D: -4.4990692138671875\tLoss_G: 8.309391021728516\n"
     ]
    },
    {
     "name": "stderr",
     "output_type": "stream",
     "text": [
      " 84%|████████▍ | 1101/1313 [29:28<05:40,  1.61s/it, disc_loss=-6.43, grad_penalty=0.0267]"
     ]
    },
    {
     "name": "stdout",
     "output_type": "stream",
     "text": [
      "[0/5][1100/1313]\tLoss_D: -6.432737350463867\tLoss_G: 14.046314239501953\n"
     ]
    },
    {
     "name": "stderr",
     "output_type": "stream",
     "text": [
      " 88%|████████▊ | 1151/1313 [30:49<04:20,  1.61s/it, disc_loss=-4.22, grad_penalty=0.161]"
     ]
    },
    {
     "name": "stdout",
     "output_type": "stream",
     "text": [
      "[0/5][1150/1313]\tLoss_D: -4.2179155349731445\tLoss_G: -1.1926071643829346\n"
     ]
    },
    {
     "name": "stderr",
     "output_type": "stream",
     "text": [
      " 91%|█████████▏| 1201/1313 [32:09<03:00,  1.62s/it, disc_loss=-4.16, grad_penalty=0.148]"
     ]
    },
    {
     "name": "stdout",
     "output_type": "stream",
     "text": [
      "[0/5][1200/1313]\tLoss_D: -4.163614273071289\tLoss_G: 5.135895729064941\n"
     ]
    },
    {
     "name": "stderr",
     "output_type": "stream",
     "text": [
      " 95%|█████████▌| 1251/1313 [33:30<01:39,  1.61s/it, disc_loss=-6.01, grad_penalty=0.0326]"
     ]
    },
    {
     "name": "stdout",
     "output_type": "stream",
     "text": [
      "[0/5][1250/1313]\tLoss_D: -6.007443428039551\tLoss_G: 12.384698867797852\n"
     ]
    },
    {
     "name": "stderr",
     "output_type": "stream",
     "text": [
      " 99%|█████████▉| 1301/1313 [34:51<00:19,  1.60s/it, disc_loss=-4.57, grad_penalty=0.0642]"
     ]
    },
    {
     "name": "stdout",
     "output_type": "stream",
     "text": [
      "[0/5][1300/1313]\tLoss_D: -4.56608247756958\tLoss_G: 8.692960739135742\n"
     ]
    },
    {
     "name": "stderr",
     "output_type": "stream",
     "text": [
      "100%|██████████| 1313/1313 [35:10<00:00,  1.61s/it, disc_loss=-3.68, grad_penalty=0.0298]\n",
      "  0%|          | 1/1313 [00:01<35:19,  1.62s/it, disc_loss=-5.77, grad_penalty=0.208]"
     ]
    },
    {
     "name": "stdout",
     "output_type": "stream",
     "text": [
      "[1/5][0/1313]\tLoss_D: -5.774267673492432\tLoss_G: 0.20799174904823303\n"
     ]
    },
    {
     "name": "stderr",
     "output_type": "stream",
     "text": [
      "  4%|▍         | 51/1313 [01:21<33:40,  1.60s/it, disc_loss=-3.73, grad_penalty=0.0291]"
     ]
    },
    {
     "name": "stdout",
     "output_type": "stream",
     "text": [
      "[1/5][50/1313]\tLoss_D: -3.7271289825439453\tLoss_G: 8.41771125793457\n"
     ]
    },
    {
     "name": "stderr",
     "output_type": "stream",
     "text": [
      "  8%|▊         | 101/1313 [02:42<32:17,  1.60s/it, disc_loss=-4.27, grad_penalty=0.111]"
     ]
    },
    {
     "name": "stdout",
     "output_type": "stream",
     "text": [
      "[1/5][100/1313]\tLoss_D: -4.27291202545166\tLoss_G: 1.6560285091400146\n"
     ]
    },
    {
     "name": "stderr",
     "output_type": "stream",
     "text": [
      " 12%|█▏        | 151/1313 [04:02<30:53,  1.59s/it, disc_loss=-2.14, grad_penalty=0.0242]"
     ]
    },
    {
     "name": "stdout",
     "output_type": "stream",
     "text": [
      "[1/5][150/1313]\tLoss_D: -2.1369707584381104\tLoss_G: -0.37789928913116455\n"
     ]
    },
    {
     "name": "stderr",
     "output_type": "stream",
     "text": [
      " 15%|█▌        | 201/1313 [05:23<29:40,  1.60s/it, disc_loss=-4.23, grad_penalty=0.434]"
     ]
    },
    {
     "name": "stdout",
     "output_type": "stream",
     "text": [
      "[1/5][200/1313]\tLoss_D: -4.229676246643066\tLoss_G: -9.805052757263184\n"
     ]
    },
    {
     "name": "stderr",
     "output_type": "stream",
     "text": [
      " 19%|█▉        | 251/1313 [06:43<28:16,  1.60s/it, disc_loss=-7.4, grad_penalty=0.0799]"
     ]
    },
    {
     "name": "stdout",
     "output_type": "stream",
     "text": [
      "[1/5][250/1313]\tLoss_D: -7.398396968841553\tLoss_G: 5.305174827575684\n"
     ]
    },
    {
     "name": "stderr",
     "output_type": "stream",
     "text": [
      " 23%|██▎       | 301/1313 [08:04<27:03,  1.60s/it, disc_loss=-6.57, grad_penalty=0.0377]"
     ]
    },
    {
     "name": "stdout",
     "output_type": "stream",
     "text": [
      "[1/5][300/1313]\tLoss_D: -6.565677165985107\tLoss_G: 11.808392524719238\n"
     ]
    },
    {
     "name": "stderr",
     "output_type": "stream",
     "text": [
      " 27%|██▋       | 351/1313 [09:24<25:39,  1.60s/it, disc_loss=-0.96, grad_penalty=0.189]"
     ]
    },
    {
     "name": "stdout",
     "output_type": "stream",
     "text": [
      "[1/5][350/1313]\tLoss_D: -0.9599301815032959\tLoss_G: -7.544107437133789\n"
     ]
    },
    {
     "name": "stderr",
     "output_type": "stream",
     "text": [
      " 31%|███       | 401/1313 [10:45<24:22,  1.60s/it, disc_loss=-3.68, grad_penalty=0.0352]"
     ]
    },
    {
     "name": "stdout",
     "output_type": "stream",
     "text": [
      "[1/5][400/1313]\tLoss_D: -3.68194842338562\tLoss_G: 8.584291458129883\n"
     ]
    },
    {
     "name": "stderr",
     "output_type": "stream",
     "text": [
      " 34%|███▍      | 451/1313 [12:05<23:04,  1.61s/it, disc_loss=-4.32, grad_penalty=0.0355]"
     ]
    },
    {
     "name": "stdout",
     "output_type": "stream",
     "text": [
      "[1/5][450/1313]\tLoss_D: -4.3234992027282715\tLoss_G: 6.812376022338867\n"
     ]
    },
    {
     "name": "stderr",
     "output_type": "stream",
     "text": [
      " 38%|███▊      | 501/1313 [13:26<21:45,  1.61s/it, disc_loss=-5.18, grad_penalty=0.0359]"
     ]
    },
    {
     "name": "stdout",
     "output_type": "stream",
     "text": [
      "[1/5][500/1313]\tLoss_D: -5.178269863128662\tLoss_G: 9.084395408630371\n"
     ]
    },
    {
     "name": "stderr",
     "output_type": "stream",
     "text": [
      " 42%|████▏     | 551/1313 [14:47<20:31,  1.62s/it, disc_loss=-3.41, grad_penalty=0.0218]"
     ]
    },
    {
     "name": "stdout",
     "output_type": "stream",
     "text": [
      "[1/5][550/1313]\tLoss_D: -3.411931276321411\tLoss_G: 12.753942489624023\n"
     ]
    },
    {
     "name": "stderr",
     "output_type": "stream",
     "text": [
      " 46%|████▌     | 601/1313 [16:08<19:03,  1.61s/it, disc_loss=-4.15, grad_penalty=0.0542]"
     ]
    },
    {
     "name": "stdout",
     "output_type": "stream",
     "text": [
      "[1/5][600/1313]\tLoss_D: -4.148687362670898\tLoss_G: 6.112692356109619\n"
     ]
    },
    {
     "name": "stderr",
     "output_type": "stream",
     "text": [
      " 50%|████▉     | 651/1313 [17:28<17:42,  1.60s/it, disc_loss=-3.18, grad_penalty=0.013]"
     ]
    },
    {
     "name": "stdout",
     "output_type": "stream",
     "text": [
      "[1/5][650/1313]\tLoss_D: -3.179194688796997\tLoss_G: 7.045241355895996\n"
     ]
    },
    {
     "name": "stderr",
     "output_type": "stream",
     "text": [
      " 53%|█████▎    | 701/1313 [18:49<16:28,  1.61s/it, disc_loss=-4.46, grad_penalty=0.181]"
     ]
    },
    {
     "name": "stdout",
     "output_type": "stream",
     "text": [
      "[1/5][700/1313]\tLoss_D: -4.4568610191345215\tLoss_G: 2.4331448078155518\n"
     ]
    },
    {
     "name": "stderr",
     "output_type": "stream",
     "text": [
      " 57%|█████▋    | 751/1313 [20:10<15:03,  1.61s/it, disc_loss=-6.2, grad_penalty=0.0864]"
     ]
    },
    {
     "name": "stdout",
     "output_type": "stream",
     "text": [
      "[1/5][750/1313]\tLoss_D: -6.195226669311523\tLoss_G: 7.2991743087768555\n"
     ]
    },
    {
     "name": "stderr",
     "output_type": "stream",
     "text": [
      " 61%|██████    | 801/1313 [21:31<13:43,  1.61s/it, disc_loss=-4.19, grad_penalty=0.0481]"
     ]
    },
    {
     "name": "stdout",
     "output_type": "stream",
     "text": [
      "[1/5][800/1313]\tLoss_D: -4.186081886291504\tLoss_G: 4.061751365661621\n"
     ]
    },
    {
     "name": "stderr",
     "output_type": "stream",
     "text": [
      " 65%|██████▍   | 851/1313 [22:52<12:24,  1.61s/it, disc_loss=-3.09, grad_penalty=0.24]"
     ]
    },
    {
     "name": "stdout",
     "output_type": "stream",
     "text": [
      "[1/5][850/1313]\tLoss_D: -3.0892679691314697\tLoss_G: -4.862908363342285\n"
     ]
    },
    {
     "name": "stderr",
     "output_type": "stream",
     "text": [
      " 69%|██████▊   | 901/1313 [24:12<11:03,  1.61s/it, disc_loss=-5.42, grad_penalty=0.0659]"
     ]
    },
    {
     "name": "stdout",
     "output_type": "stream",
     "text": [
      "[1/5][900/1313]\tLoss_D: -5.416245460510254\tLoss_G: 7.996389389038086\n"
     ]
    },
    {
     "name": "stderr",
     "output_type": "stream",
     "text": [
      " 72%|███████▏  | 951/1313 [25:33<09:40,  1.60s/it, disc_loss=-3.6, grad_penalty=0.0114]"
     ]
    },
    {
     "name": "stdout",
     "output_type": "stream",
     "text": [
      "[1/5][950/1313]\tLoss_D: -3.6037135124206543\tLoss_G: 6.379372596740723\n"
     ]
    },
    {
     "name": "stderr",
     "output_type": "stream",
     "text": [
      " 76%|███████▌  | 1001/1313 [26:54<08:21,  1.61s/it, disc_loss=-3.86, grad_penalty=0.1]"
     ]
    },
    {
     "name": "stdout",
     "output_type": "stream",
     "text": [
      "[1/5][1000/1313]\tLoss_D: -3.857675552368164\tLoss_G: 2.7033987045288086\n"
     ]
    },
    {
     "name": "stderr",
     "output_type": "stream",
     "text": [
      " 80%|████████  | 1051/1313 [28:15<07:03,  1.62s/it, disc_loss=-5.41, grad_penalty=0.105]"
     ]
    },
    {
     "name": "stdout",
     "output_type": "stream",
     "text": [
      "[1/5][1050/1313]\tLoss_D: -5.408169269561768\tLoss_G: 7.932514190673828\n"
     ]
    },
    {
     "name": "stderr",
     "output_type": "stream",
     "text": [
      " 84%|████████▍ | 1101/1313 [29:36<05:44,  1.62s/it, disc_loss=-5.22, grad_penalty=0.112]"
     ]
    },
    {
     "name": "stdout",
     "output_type": "stream",
     "text": [
      "[1/5][1100/1313]\tLoss_D: -5.220566272735596\tLoss_G: 5.903275489807129\n"
     ]
    },
    {
     "name": "stderr",
     "output_type": "stream",
     "text": [
      " 88%|████████▊ | 1151/1313 [30:58<04:24,  1.63s/it, disc_loss=-4.48, grad_penalty=0.0747]"
     ]
    },
    {
     "name": "stdout",
     "output_type": "stream",
     "text": [
      "[1/5][1150/1313]\tLoss_D: -4.483527183532715\tLoss_G: 2.9299404621124268\n"
     ]
    },
    {
     "name": "stderr",
     "output_type": "stream",
     "text": [
      " 91%|█████████▏| 1201/1313 [32:20<03:01,  1.62s/it, disc_loss=-5.06, grad_penalty=0.0335]"
     ]
    },
    {
     "name": "stdout",
     "output_type": "stream",
     "text": [
      "[1/5][1200/1313]\tLoss_D: -5.063762187957764\tLoss_G: 4.6179518699646\n"
     ]
    },
    {
     "name": "stderr",
     "output_type": "stream",
     "text": [
      " 95%|█████████▌| 1251/1313 [33:41<01:40,  1.63s/it, disc_loss=-7.02, grad_penalty=0.0757]"
     ]
    },
    {
     "name": "stdout",
     "output_type": "stream",
     "text": [
      "[1/5][1250/1313]\tLoss_D: -7.017040252685547\tLoss_G: 8.864299774169922\n"
     ]
    },
    {
     "name": "stderr",
     "output_type": "stream",
     "text": [
      " 99%|█████████▉| 1301/1313 [35:03<00:19,  1.63s/it, disc_loss=-4.86, grad_penalty=0.0266]"
     ]
    },
    {
     "name": "stdout",
     "output_type": "stream",
     "text": [
      "[1/5][1300/1313]\tLoss_D: -4.863038063049316\tLoss_G: 8.476160049438477\n"
     ]
    },
    {
     "name": "stderr",
     "output_type": "stream",
     "text": [
      "100%|██████████| 1313/1313 [35:22<00:00,  1.62s/it, disc_loss=-5.9, grad_penalty=0.0332]\n",
      "  0%|          | 1/1313 [00:01<34:53,  1.60s/it, disc_loss=-5.86, grad_penalty=0.0471]"
     ]
    },
    {
     "name": "stdout",
     "output_type": "stream",
     "text": [
      "[2/5][0/1313]\tLoss_D: -5.858144283294678\tLoss_G: 7.826632499694824\n"
     ]
    },
    {
     "name": "stderr",
     "output_type": "stream",
     "text": [
      "  4%|▍         | 51/1313 [01:21<33:26,  1.59s/it, disc_loss=-3.94, grad_penalty=0.0127]"
     ]
    },
    {
     "name": "stdout",
     "output_type": "stream",
     "text": [
      "[2/5][50/1313]\tLoss_D: -3.9435806274414062\tLoss_G: 7.211966514587402\n"
     ]
    },
    {
     "name": "stderr",
     "output_type": "stream",
     "text": [
      "  8%|▊         | 101/1313 [02:42<32:24,  1.60s/it, disc_loss=-4.96, grad_penalty=0.0556]"
     ]
    },
    {
     "name": "stdout",
     "output_type": "stream",
     "text": [
      "[2/5][100/1313]\tLoss_D: -4.9606428146362305\tLoss_G: 6.714975357055664\n"
     ]
    },
    {
     "name": "stderr",
     "output_type": "stream",
     "text": [
      " 12%|█▏        | 151/1313 [04:03<31:01,  1.60s/it, disc_loss=-3.78, grad_penalty=0.0484]"
     ]
    },
    {
     "name": "stdout",
     "output_type": "stream",
     "text": [
      "[2/5][150/1313]\tLoss_D: -3.7816731929779053\tLoss_G: 3.5874598026275635\n"
     ]
    },
    {
     "name": "stderr",
     "output_type": "stream",
     "text": [
      " 15%|█▌        | 201/1313 [05:23<29:47,  1.61s/it, disc_loss=-4.88, grad_penalty=0.101]"
     ]
    },
    {
     "name": "stdout",
     "output_type": "stream",
     "text": [
      "[2/5][200/1313]\tLoss_D: -4.876338481903076\tLoss_G: 5.222820281982422\n"
     ]
    },
    {
     "name": "stderr",
     "output_type": "stream",
     "text": [
      " 19%|█▉        | 251/1313 [06:44<28:26,  1.61s/it, disc_loss=-7.08, grad_penalty=0.0384]"
     ]
    },
    {
     "name": "stdout",
     "output_type": "stream",
     "text": [
      "[2/5][250/1313]\tLoss_D: -7.077458381652832\tLoss_G: 9.9041748046875\n"
     ]
    },
    {
     "name": "stderr",
     "output_type": "stream",
     "text": [
      " 23%|██▎       | 301/1313 [08:05<27:07,  1.61s/it, disc_loss=-5.78, grad_penalty=0.0885]"
     ]
    },
    {
     "name": "stdout",
     "output_type": "stream",
     "text": [
      "[2/5][300/1313]\tLoss_D: -5.780058860778809\tLoss_G: 4.470992565155029\n"
     ]
    },
    {
     "name": "stderr",
     "output_type": "stream",
     "text": [
      " 27%|██▋       | 351/1313 [09:26<25:54,  1.62s/it, disc_loss=-3.9, grad_penalty=0.0172]"
     ]
    },
    {
     "name": "stdout",
     "output_type": "stream",
     "text": [
      "[2/5][350/1313]\tLoss_D: -3.899632692337036\tLoss_G: 4.823811054229736\n"
     ]
    },
    {
     "name": "stderr",
     "output_type": "stream",
     "text": [
      " 31%|███       | 401/1313 [10:47<24:30,  1.61s/it, disc_loss=-3.36, grad_penalty=0.0248]"
     ]
    },
    {
     "name": "stdout",
     "output_type": "stream",
     "text": [
      "[2/5][400/1313]\tLoss_D: -3.361440896987915\tLoss_G: 2.878821849822998\n"
     ]
    },
    {
     "name": "stderr",
     "output_type": "stream",
     "text": [
      " 34%|███▍      | 451/1313 [12:08<23:08,  1.61s/it, disc_loss=-4.79, grad_penalty=0.0256]"
     ]
    },
    {
     "name": "stdout",
     "output_type": "stream",
     "text": [
      "[2/5][450/1313]\tLoss_D: -4.78669548034668\tLoss_G: 6.9138569831848145\n"
     ]
    },
    {
     "name": "stderr",
     "output_type": "stream",
     "text": [
      " 38%|███▊      | 501/1313 [13:29<21:53,  1.62s/it, disc_loss=-4.32, grad_penalty=0.116]"
     ]
    },
    {
     "name": "stdout",
     "output_type": "stream",
     "text": [
      "[2/5][500/1313]\tLoss_D: -4.322328567504883\tLoss_G: -0.28159090876579285\n"
     ]
    },
    {
     "name": "stderr",
     "output_type": "stream",
     "text": [
      " 42%|████▏     | 551/1313 [14:50<20:30,  1.61s/it, disc_loss=-6.47, grad_penalty=0.229]"
     ]
    },
    {
     "name": "stdout",
     "output_type": "stream",
     "text": [
      "[2/5][550/1313]\tLoss_D: -6.4712371826171875\tLoss_G: 1.0719784498214722\n"
     ]
    },
    {
     "name": "stderr",
     "output_type": "stream",
     "text": [
      " 46%|████▌     | 601/1313 [16:11<19:13,  1.62s/it, disc_loss=-4.01, grad_penalty=0.0518]"
     ]
    },
    {
     "name": "stdout",
     "output_type": "stream",
     "text": [
      "[2/5][600/1313]\tLoss_D: -4.0094780921936035\tLoss_G: 3.216236114501953\n"
     ]
    },
    {
     "name": "stderr",
     "output_type": "stream",
     "text": [
      " 50%|████▉     | 651/1313 [17:32<17:54,  1.62s/it, disc_loss=-8.4, grad_penalty=0.167]"
     ]
    },
    {
     "name": "stdout",
     "output_type": "stream",
     "text": [
      "[2/5][650/1313]\tLoss_D: -8.399125099182129\tLoss_G: 7.086151123046875\n"
     ]
    },
    {
     "name": "stderr",
     "output_type": "stream",
     "text": [
      " 53%|█████▎    | 701/1313 [18:54<16:31,  1.62s/it, disc_loss=-8.63, grad_penalty=0.16]"
     ]
    },
    {
     "name": "stdout",
     "output_type": "stream",
     "text": [
      "[2/5][700/1313]\tLoss_D: -8.630655288696289\tLoss_G: 7.684202194213867\n"
     ]
    },
    {
     "name": "stderr",
     "output_type": "stream",
     "text": [
      " 57%|█████▋    | 751/1313 [20:15<15:12,  1.62s/it, disc_loss=-2.35, grad_penalty=0.0189]"
     ]
    },
    {
     "name": "stdout",
     "output_type": "stream",
     "text": [
      "[2/5][750/1313]\tLoss_D: -2.3483965396881104\tLoss_G: 2.4664268493652344\n"
     ]
    },
    {
     "name": "stderr",
     "output_type": "stream",
     "text": [
      " 61%|██████    | 801/1313 [21:37<13:51,  1.62s/it, disc_loss=-1.12, grad_penalty=0.176]"
     ]
    },
    {
     "name": "stdout",
     "output_type": "stream",
     "text": [
      "[2/5][800/1313]\tLoss_D: -1.1172685623168945\tLoss_G: 18.0037841796875\n"
     ]
    },
    {
     "name": "stderr",
     "output_type": "stream",
     "text": [
      " 65%|██████▍   | 851/1313 [22:58<12:31,  1.63s/it, disc_loss=-4.34, grad_penalty=0.0217]"
     ]
    },
    {
     "name": "stdout",
     "output_type": "stream",
     "text": [
      "[2/5][850/1313]\tLoss_D: -4.340645790100098\tLoss_G: 4.755346298217773\n"
     ]
    },
    {
     "name": "stderr",
     "output_type": "stream",
     "text": [
      " 69%|██████▊   | 901/1313 [24:20<11:06,  1.62s/it, disc_loss=-2.76, grad_penalty=0.0694]"
     ]
    },
    {
     "name": "stdout",
     "output_type": "stream",
     "text": [
      "[2/5][900/1313]\tLoss_D: -2.758263111114502\tLoss_G: 10.690427780151367\n"
     ]
    },
    {
     "name": "stderr",
     "output_type": "stream",
     "text": [
      " 72%|███████▏  | 951/1313 [25:42<09:49,  1.63s/it, disc_loss=-4.82, grad_penalty=0.0262]"
     ]
    },
    {
     "name": "stdout",
     "output_type": "stream",
     "text": [
      "[2/5][950/1313]\tLoss_D: -4.815980911254883\tLoss_G: 9.684314727783203\n"
     ]
    },
    {
     "name": "stderr",
     "output_type": "stream",
     "text": [
      " 76%|███████▌  | 1001/1313 [27:03<08:26,  1.62s/it, disc_loss=-3.77, grad_penalty=0.0148]"
     ]
    },
    {
     "name": "stdout",
     "output_type": "stream",
     "text": [
      "[2/5][1000/1313]\tLoss_D: -3.7658681869506836\tLoss_G: 4.067076206207275\n"
     ]
    },
    {
     "name": "stderr",
     "output_type": "stream",
     "text": [
      " 80%|████████  | 1051/1313 [28:25<07:05,  1.62s/it, disc_loss=-4.42, grad_penalty=0.262]"
     ]
    },
    {
     "name": "stdout",
     "output_type": "stream",
     "text": [
      "[2/5][1050/1313]\tLoss_D: -4.419033050537109\tLoss_G: -0.8568529486656189\n"
     ]
    },
    {
     "name": "stderr",
     "output_type": "stream",
     "text": [
      " 84%|████████▍ | 1101/1313 [29:46<05:43,  1.62s/it, disc_loss=-2.1, grad_penalty=0.0332]"
     ]
    },
    {
     "name": "stdout",
     "output_type": "stream",
     "text": [
      "[2/5][1100/1313]\tLoss_D: -2.103445053100586\tLoss_G: 15.021102905273438\n"
     ]
    },
    {
     "name": "stderr",
     "output_type": "stream",
     "text": [
      " 88%|████████▊ | 1151/1313 [31:08<04:23,  1.63s/it, disc_loss=-4.25, grad_penalty=0.17]"
     ]
    },
    {
     "name": "stdout",
     "output_type": "stream",
     "text": [
      "[2/5][1150/1313]\tLoss_D: -4.252261161804199\tLoss_G: 0.11405394226312637\n"
     ]
    },
    {
     "name": "stderr",
     "output_type": "stream",
     "text": [
      " 91%|█████████▏| 1201/1313 [32:29<03:01,  1.62s/it, disc_loss=-3.36, grad_penalty=0.146]"
     ]
    },
    {
     "name": "stdout",
     "output_type": "stream",
     "text": [
      "[2/5][1200/1313]\tLoss_D: -3.3573806285858154\tLoss_G: -0.11250990629196167\n"
     ]
    },
    {
     "name": "stderr",
     "output_type": "stream",
     "text": [
      " 95%|█████████▌| 1251/1313 [33:51<01:40,  1.62s/it, disc_loss=-6.39, grad_penalty=0.0728]"
     ]
    },
    {
     "name": "stdout",
     "output_type": "stream",
     "text": [
      "[2/5][1250/1313]\tLoss_D: -6.389240741729736\tLoss_G: 11.732423782348633\n"
     ]
    },
    {
     "name": "stderr",
     "output_type": "stream",
     "text": [
      " 99%|█████████▉| 1301/1313 [35:12<00:19,  1.62s/it, disc_loss=-4.4, grad_penalty=0.104]"
     ]
    },
    {
     "name": "stdout",
     "output_type": "stream",
     "text": [
      "[2/5][1300/1313]\tLoss_D: -4.403849124908447\tLoss_G: 5.958156585693359\n"
     ]
    },
    {
     "name": "stderr",
     "output_type": "stream",
     "text": [
      "100%|██████████| 1313/1313 [35:31<00:00,  1.62s/it, disc_loss=-3.26, grad_penalty=0.0454]\n",
      "  0%|          | 1/1313 [00:01<34:49,  1.59s/it, disc_loss=-4.2, grad_penalty=0.0239]"
     ]
    },
    {
     "name": "stdout",
     "output_type": "stream",
     "text": [
      "[3/5][0/1313]\tLoss_D: -4.20482063293457\tLoss_G: 14.003769874572754\n"
     ]
    },
    {
     "name": "stderr",
     "output_type": "stream",
     "text": [
      "  4%|▍         | 51/1313 [01:21<33:33,  1.60s/it, disc_loss=-5, grad_penalty=0.0761]"
     ]
    },
    {
     "name": "stdout",
     "output_type": "stream",
     "text": [
      "[3/5][50/1313]\tLoss_D: -4.999691963195801\tLoss_G: 6.497603416442871\n"
     ]
    },
    {
     "name": "stderr",
     "output_type": "stream",
     "text": [
      "  8%|▊         | 101/1313 [02:41<32:20,  1.60s/it, disc_loss=-4.17, grad_penalty=0.107]"
     ]
    },
    {
     "name": "stdout",
     "output_type": "stream",
     "text": [
      "[3/5][100/1313]\tLoss_D: -4.168419361114502\tLoss_G: 6.06193208694458\n"
     ]
    },
    {
     "name": "stderr",
     "output_type": "stream",
     "text": [
      " 12%|█▏        | 151/1313 [04:02<31:08,  1.61s/it, disc_loss=-0.414, grad_penalty=0.249]"
     ]
    },
    {
     "name": "stdout",
     "output_type": "stream",
     "text": [
      "[3/5][150/1313]\tLoss_D: -0.4142904281616211\tLoss_G: 18.695903778076172\n"
     ]
    },
    {
     "name": "stderr",
     "output_type": "stream",
     "text": [
      " 15%|█▌        | 201/1313 [05:22<29:49,  1.61s/it, disc_loss=-5.07, grad_penalty=0.0419]"
     ]
    },
    {
     "name": "stdout",
     "output_type": "stream",
     "text": [
      "[3/5][200/1313]\tLoss_D: -5.067843437194824\tLoss_G: 6.667967796325684\n"
     ]
    },
    {
     "name": "stderr",
     "output_type": "stream",
     "text": [
      " 19%|█▉        | 251/1313 [06:43<28:29,  1.61s/it, disc_loss=-4.32, grad_penalty=0.014]"
     ]
    },
    {
     "name": "stdout",
     "output_type": "stream",
     "text": [
      "[3/5][250/1313]\tLoss_D: -4.321118354797363\tLoss_G: 4.266732692718506\n"
     ]
    },
    {
     "name": "stderr",
     "output_type": "stream",
     "text": [
      " 23%|██▎       | 301/1313 [08:04<27:17,  1.62s/it, disc_loss=-1.44, grad_penalty=0.66]"
     ]
    },
    {
     "name": "stdout",
     "output_type": "stream",
     "text": [
      "[3/5][300/1313]\tLoss_D: -1.4416011571884155\tLoss_G: -5.748227119445801\n"
     ]
    },
    {
     "name": "stderr",
     "output_type": "stream",
     "text": [
      " 27%|██▋       | 351/1313 [09:24<25:47,  1.61s/it, disc_loss=-4.08, grad_penalty=0.0338]"
     ]
    },
    {
     "name": "stdout",
     "output_type": "stream",
     "text": [
      "[3/5][350/1313]\tLoss_D: -4.080500602722168\tLoss_G: 4.55570125579834\n"
     ]
    },
    {
     "name": "stderr",
     "output_type": "stream",
     "text": [
      " 31%|███       | 401/1313 [10:45<24:29,  1.61s/it, disc_loss=-2.74, grad_penalty=0.0207]"
     ]
    },
    {
     "name": "stdout",
     "output_type": "stream",
     "text": [
      "[3/5][400/1313]\tLoss_D: -2.736210584640503\tLoss_G: 2.532118082046509\n"
     ]
    },
    {
     "name": "stderr",
     "output_type": "stream",
     "text": [
      " 34%|███▍      | 451/1313 [12:06<23:12,  1.62s/it, disc_loss=-5.52, grad_penalty=0.0979]"
     ]
    },
    {
     "name": "stdout",
     "output_type": "stream",
     "text": [
      "[3/5][450/1313]\tLoss_D: -5.515611171722412\tLoss_G: 2.5165677070617676\n"
     ]
    },
    {
     "name": "stderr",
     "output_type": "stream",
     "text": [
      " 38%|███▊      | 501/1313 [13:27<21:51,  1.62s/it, disc_loss=-3.11, grad_penalty=0.0233]"
     ]
    },
    {
     "name": "stdout",
     "output_type": "stream",
     "text": [
      "[3/5][500/1313]\tLoss_D: -3.111158609390259\tLoss_G: 3.757920742034912\n"
     ]
    },
    {
     "name": "stderr",
     "output_type": "stream",
     "text": [
      " 42%|████▏     | 551/1313 [14:48<20:33,  1.62s/it, disc_loss=-4.77, grad_penalty=0.17]"
     ]
    },
    {
     "name": "stdout",
     "output_type": "stream",
     "text": [
      "[3/5][550/1313]\tLoss_D: -4.774389743804932\tLoss_G: 5.034611701965332\n"
     ]
    },
    {
     "name": "stderr",
     "output_type": "stream",
     "text": [
      " 46%|████▌     | 601/1313 [16:09<19:17,  1.63s/it, disc_loss=-4.01, grad_penalty=0.0145]"
     ]
    },
    {
     "name": "stdout",
     "output_type": "stream",
     "text": [
      "[3/5][600/1313]\tLoss_D: -4.006659507751465\tLoss_G: 10.534996032714844\n"
     ]
    },
    {
     "name": "stderr",
     "output_type": "stream",
     "text": [
      " 50%|████▉     | 651/1313 [17:30<17:52,  1.62s/it, disc_loss=-5.68, grad_penalty=0.0645]"
     ]
    },
    {
     "name": "stdout",
     "output_type": "stream",
     "text": [
      "[3/5][650/1313]\tLoss_D: -5.678918838500977\tLoss_G: 5.339754104614258\n"
     ]
    },
    {
     "name": "stderr",
     "output_type": "stream",
     "text": [
      " 53%|█████▎    | 701/1313 [18:52<16:36,  1.63s/it, disc_loss=-4.34, grad_penalty=0.0906]"
     ]
    },
    {
     "name": "stdout",
     "output_type": "stream",
     "text": [
      "[3/5][700/1313]\tLoss_D: -4.33595085144043\tLoss_G: 4.527432441711426\n"
     ]
    },
    {
     "name": "stderr",
     "output_type": "stream",
     "text": [
      " 57%|█████▋    | 751/1313 [20:13<15:13,  1.63s/it, disc_loss=-3.28, grad_penalty=0.0775]"
     ]
    },
    {
     "name": "stdout",
     "output_type": "stream",
     "text": [
      "[3/5][750/1313]\tLoss_D: -3.2835121154785156\tLoss_G: 0.06942585110664368\n"
     ]
    },
    {
     "name": "stderr",
     "output_type": "stream",
     "text": [
      " 61%|██████    | 801/1313 [21:34<13:53,  1.63s/it, disc_loss=-5.34, grad_penalty=0.0158]"
     ]
    },
    {
     "name": "stdout",
     "output_type": "stream",
     "text": [
      "[3/5][800/1313]\tLoss_D: -5.342133045196533\tLoss_G: 8.424623489379883\n"
     ]
    },
    {
     "name": "stderr",
     "output_type": "stream",
     "text": [
      " 65%|██████▍   | 851/1313 [22:56<12:34,  1.63s/it, disc_loss=-5.44, grad_penalty=0.178]"
     ]
    },
    {
     "name": "stdout",
     "output_type": "stream",
     "text": [
      "[3/5][850/1313]\tLoss_D: -5.444128036499023\tLoss_G: 2.638223886489868\n"
     ]
    },
    {
     "name": "stderr",
     "output_type": "stream",
     "text": [
      " 69%|██████▊   | 901/1313 [24:17<11:12,  1.63s/it, disc_loss=-2.86, grad_penalty=0.0161]"
     ]
    },
    {
     "name": "stdout",
     "output_type": "stream",
     "text": [
      "[3/5][900/1313]\tLoss_D: -2.858062744140625\tLoss_G: 1.2725348472595215\n"
     ]
    },
    {
     "name": "stderr",
     "output_type": "stream",
     "text": [
      " 72%|███████▏  | 951/1313 [25:39<09:48,  1.62s/it, disc_loss=-2, grad_penalty=0.0608]"
     ]
    },
    {
     "name": "stdout",
     "output_type": "stream",
     "text": [
      "[3/5][950/1313]\tLoss_D: -2.0040674209594727\tLoss_G: 7.8090081214904785\n"
     ]
    },
    {
     "name": "stderr",
     "output_type": "stream",
     "text": [
      " 76%|███████▌  | 1001/1313 [27:01<08:34,  1.65s/it, disc_loss=-3.33, grad_penalty=0.0215]"
     ]
    },
    {
     "name": "stdout",
     "output_type": "stream",
     "text": [
      "[3/5][1000/1313]\tLoss_D: -3.33184552192688\tLoss_G: 2.5700976848602295\n"
     ]
    },
    {
     "name": "stderr",
     "output_type": "stream",
     "text": [
      " 80%|████████  | 1051/1313 [28:23<07:07,  1.63s/it, disc_loss=-5.37, grad_penalty=0.0281]"
     ]
    },
    {
     "name": "stdout",
     "output_type": "stream",
     "text": [
      "[3/5][1050/1313]\tLoss_D: -5.3701491355896\tLoss_G: 5.826299667358398\n"
     ]
    },
    {
     "name": "stderr",
     "output_type": "stream",
     "text": [
      " 84%|████████▍ | 1101/1313 [29:44<05:45,  1.63s/it, disc_loss=-2.63, grad_penalty=0.0395]"
     ]
    },
    {
     "name": "stdout",
     "output_type": "stream",
     "text": [
      "[3/5][1100/1313]\tLoss_D: -2.627748727798462\tLoss_G: 7.178485870361328\n"
     ]
    },
    {
     "name": "stderr",
     "output_type": "stream",
     "text": [
      " 88%|████████▊ | 1151/1313 [31:06<04:23,  1.63s/it, disc_loss=-4.04, grad_penalty=0.0332]"
     ]
    },
    {
     "name": "stdout",
     "output_type": "stream",
     "text": [
      "[3/5][1150/1313]\tLoss_D: -4.035392761230469\tLoss_G: 7.849617958068848\n"
     ]
    },
    {
     "name": "stderr",
     "output_type": "stream",
     "text": [
      " 91%|█████████▏| 1201/1313 [32:28<03:02,  1.63s/it, disc_loss=-3.98, grad_penalty=0.129]"
     ]
    },
    {
     "name": "stdout",
     "output_type": "stream",
     "text": [
      "[3/5][1200/1313]\tLoss_D: -3.981686592102051\tLoss_G: 7.972068786621094\n"
     ]
    },
    {
     "name": "stderr",
     "output_type": "stream",
     "text": [
      " 95%|█████████▌| 1251/1313 [33:49<01:40,  1.63s/it, disc_loss=-5.83, grad_penalty=0.111]"
     ]
    },
    {
     "name": "stdout",
     "output_type": "stream",
     "text": [
      "[3/5][1250/1313]\tLoss_D: -5.830445289611816\tLoss_G: 2.3195691108703613\n"
     ]
    },
    {
     "name": "stderr",
     "output_type": "stream",
     "text": [
      " 99%|█████████▉| 1301/1313 [35:11<00:19,  1.63s/it, disc_loss=-2.42, grad_penalty=0.02]"
     ]
    },
    {
     "name": "stdout",
     "output_type": "stream",
     "text": [
      "[3/5][1300/1313]\tLoss_D: -2.418999433517456\tLoss_G: -1.1058335304260254\n"
     ]
    },
    {
     "name": "stderr",
     "output_type": "stream",
     "text": [
      "100%|██████████| 1313/1313 [35:30<00:00,  1.62s/it, disc_loss=-6.22, grad_penalty=0.065]\n",
      "  0%|          | 1/1313 [00:01<35:02,  1.60s/it, disc_loss=-3.59, grad_penalty=0.0313]"
     ]
    },
    {
     "name": "stdout",
     "output_type": "stream",
     "text": [
      "[4/5][0/1313]\tLoss_D: -3.5907421112060547\tLoss_G: 5.98219633102417\n"
     ]
    },
    {
     "name": "stderr",
     "output_type": "stream",
     "text": [
      "  4%|▍         | 51/1313 [01:22<33:50,  1.61s/it, disc_loss=-1.61, grad_penalty=0.0741]"
     ]
    },
    {
     "name": "stdout",
     "output_type": "stream",
     "text": [
      "[4/5][50/1313]\tLoss_D: -1.6125848293304443\tLoss_G: 5.630494117736816\n"
     ]
    },
    {
     "name": "stderr",
     "output_type": "stream",
     "text": [
      "  8%|▊         | 101/1313 [02:43<32:24,  1.60s/it, disc_loss=-5.55, grad_penalty=0.121]"
     ]
    },
    {
     "name": "stdout",
     "output_type": "stream",
     "text": [
      "[4/5][100/1313]\tLoss_D: -5.547492027282715\tLoss_G: 2.905076026916504\n"
     ]
    },
    {
     "name": "stderr",
     "output_type": "stream",
     "text": [
      " 12%|█▏        | 151/1313 [04:03<31:02,  1.60s/it, disc_loss=-4.86, grad_penalty=0.113]"
     ]
    },
    {
     "name": "stdout",
     "output_type": "stream",
     "text": [
      "[4/5][150/1313]\tLoss_D: -4.863543510437012\tLoss_G: 5.316180229187012\n"
     ]
    },
    {
     "name": "stderr",
     "output_type": "stream",
     "text": [
      " 15%|█▌        | 201/1313 [05:24<29:55,  1.61s/it, disc_loss=-3.62, grad_penalty=0.0164]"
     ]
    },
    {
     "name": "stdout",
     "output_type": "stream",
     "text": [
      "[4/5][200/1313]\tLoss_D: -3.6242003440856934\tLoss_G: 5.114995002746582\n"
     ]
    },
    {
     "name": "stderr",
     "output_type": "stream",
     "text": [
      " 19%|█▉        | 251/1313 [06:45<28:32,  1.61s/it, disc_loss=-2.31, grad_penalty=0.0134]"
     ]
    },
    {
     "name": "stdout",
     "output_type": "stream",
     "text": [
      "[4/5][250/1313]\tLoss_D: -2.3128035068511963\tLoss_G: -1.3041726350784302\n"
     ]
    },
    {
     "name": "stderr",
     "output_type": "stream",
     "text": [
      " 23%|██▎       | 301/1313 [08:06<27:13,  1.61s/it, disc_loss=-2.39, grad_penalty=0.024]"
     ]
    },
    {
     "name": "stdout",
     "output_type": "stream",
     "text": [
      "[4/5][300/1313]\tLoss_D: -2.3855836391448975\tLoss_G: 7.495782375335693\n"
     ]
    },
    {
     "name": "stderr",
     "output_type": "stream",
     "text": [
      " 27%|██▋       | 351/1313 [09:27<25:50,  1.61s/it, disc_loss=-4.95, grad_penalty=0.0417]"
     ]
    },
    {
     "name": "stdout",
     "output_type": "stream",
     "text": [
      "[4/5][350/1313]\tLoss_D: -4.949002742767334\tLoss_G: 6.749646186828613\n"
     ]
    },
    {
     "name": "stderr",
     "output_type": "stream",
     "text": [
      " 31%|███       | 401/1313 [10:48<24:32,  1.61s/it, disc_loss=-4.83, grad_penalty=0.0422]"
     ]
    },
    {
     "name": "stdout",
     "output_type": "stream",
     "text": [
      "[4/5][400/1313]\tLoss_D: -4.831808567047119\tLoss_G: 8.838203430175781\n"
     ]
    },
    {
     "name": "stderr",
     "output_type": "stream",
     "text": [
      " 34%|███▍      | 451/1313 [12:09<23:10,  1.61s/it, disc_loss=-3.62, grad_penalty=0.0524]"
     ]
    },
    {
     "name": "stdout",
     "output_type": "stream",
     "text": [
      "[4/5][450/1313]\tLoss_D: -3.6172685623168945\tLoss_G: 6.825118064880371\n"
     ]
    },
    {
     "name": "stderr",
     "output_type": "stream",
     "text": [
      " 38%|███▊      | 501/1313 [13:30<21:56,  1.62s/it, disc_loss=-3.67, grad_penalty=0.0128]"
     ]
    },
    {
     "name": "stdout",
     "output_type": "stream",
     "text": [
      "[4/5][500/1313]\tLoss_D: -3.6688435077667236\tLoss_G: 2.3310651779174805\n"
     ]
    },
    {
     "name": "stderr",
     "output_type": "stream",
     "text": [
      " 42%|████▏     | 551/1313 [14:52<20:39,  1.63s/it, disc_loss=-2.93, grad_penalty=0.188]"
     ]
    },
    {
     "name": "stdout",
     "output_type": "stream",
     "text": [
      "[4/5][550/1313]\tLoss_D: -2.9284393787384033\tLoss_G: 1.3771920204162598\n"
     ]
    },
    {
     "name": "stderr",
     "output_type": "stream",
     "text": [
      " 46%|████▌     | 601/1313 [16:14<19:15,  1.62s/it, disc_loss=-3.65, grad_penalty=0.0192]"
     ]
    },
    {
     "name": "stdout",
     "output_type": "stream",
     "text": [
      "[4/5][600/1313]\tLoss_D: -3.6498537063598633\tLoss_G: 3.706913471221924\n"
     ]
    },
    {
     "name": "stderr",
     "output_type": "stream",
     "text": [
      " 50%|████▉     | 651/1313 [17:35<17:59,  1.63s/it, disc_loss=-3.46, grad_penalty=0.0165]"
     ]
    },
    {
     "name": "stdout",
     "output_type": "stream",
     "text": [
      "[4/5][650/1313]\tLoss_D: -3.456427574157715\tLoss_G: 5.649157524108887\n"
     ]
    },
    {
     "name": "stderr",
     "output_type": "stream",
     "text": [
      " 53%|█████▎    | 701/1313 [18:57<16:33,  1.62s/it, disc_loss=-2.31, grad_penalty=0.158]"
     ]
    },
    {
     "name": "stdout",
     "output_type": "stream",
     "text": [
      "[4/5][700/1313]\tLoss_D: -2.3113794326782227\tLoss_G: 0.2956632375717163\n"
     ]
    },
    {
     "name": "stderr",
     "output_type": "stream",
     "text": [
      " 57%|█████▋    | 751/1313 [20:18<15:11,  1.62s/it, disc_loss=-2.98, grad_penalty=0.0274]"
     ]
    },
    {
     "name": "stdout",
     "output_type": "stream",
     "text": [
      "[4/5][750/1313]\tLoss_D: -2.979790687561035\tLoss_G: 2.5785112380981445\n"
     ]
    },
    {
     "name": "stderr",
     "output_type": "stream",
     "text": [
      " 61%|██████    | 801/1313 [21:40<13:50,  1.62s/it, disc_loss=-2.67, grad_penalty=0.0209]"
     ]
    },
    {
     "name": "stdout",
     "output_type": "stream",
     "text": [
      "[4/5][800/1313]\tLoss_D: -2.671604871749878\tLoss_G: 4.215802192687988\n"
     ]
    },
    {
     "name": "stderr",
     "output_type": "stream",
     "text": [
      " 65%|██████▍   | 851/1313 [23:01<12:30,  1.62s/it, disc_loss=-2.31, grad_penalty=0.0361]"
     ]
    },
    {
     "name": "stdout",
     "output_type": "stream",
     "text": [
      "[4/5][850/1313]\tLoss_D: -2.309375762939453\tLoss_G: 3.086972713470459\n"
     ]
    },
    {
     "name": "stderr",
     "output_type": "stream",
     "text": [
      " 69%|██████▊   | 901/1313 [24:23<11:07,  1.62s/it, disc_loss=-2.77, grad_penalty=0.0207]"
     ]
    },
    {
     "name": "stdout",
     "output_type": "stream",
     "text": [
      "[4/5][900/1313]\tLoss_D: -2.7737250328063965\tLoss_G: 3.329254150390625\n"
     ]
    },
    {
     "name": "stderr",
     "output_type": "stream",
     "text": [
      " 72%|███████▏  | 951/1313 [25:45<09:48,  1.63s/it, disc_loss=-4.99, grad_penalty=0.0862]"
     ]
    },
    {
     "name": "stdout",
     "output_type": "stream",
     "text": [
      "[4/5][950/1313]\tLoss_D: -4.992483139038086\tLoss_G: 5.720874309539795\n"
     ]
    },
    {
     "name": "stderr",
     "output_type": "stream",
     "text": [
      " 76%|███████▌  | 1001/1313 [27:07<08:30,  1.63s/it, disc_loss=-2.54, grad_penalty=0.013]"
     ]
    },
    {
     "name": "stdout",
     "output_type": "stream",
     "text": [
      "[4/5][1000/1313]\tLoss_D: -2.53869366645813\tLoss_G: 2.3980205059051514\n"
     ]
    },
    {
     "name": "stderr",
     "output_type": "stream",
     "text": [
      " 80%|████████  | 1051/1313 [28:28<07:08,  1.63s/it, disc_loss=-2.99, grad_penalty=0.0102]"
     ]
    },
    {
     "name": "stdout",
     "output_type": "stream",
     "text": [
      "[4/5][1050/1313]\tLoss_D: -2.9865729808807373\tLoss_G: 1.935490608215332\n"
     ]
    },
    {
     "name": "stderr",
     "output_type": "stream",
     "text": [
      " 84%|████████▍ | 1101/1313 [29:50<05:43,  1.62s/it, disc_loss=-5.44, grad_penalty=0.0865]"
     ]
    },
    {
     "name": "stdout",
     "output_type": "stream",
     "text": [
      "[4/5][1100/1313]\tLoss_D: -5.440794944763184\tLoss_G: 7.54862117767334\n"
     ]
    },
    {
     "name": "stderr",
     "output_type": "stream",
     "text": [
      " 88%|████████▊ | 1151/1313 [31:12<04:22,  1.62s/it, disc_loss=-2.89, grad_penalty=0.013]"
     ]
    },
    {
     "name": "stdout",
     "output_type": "stream",
     "text": [
      "[4/5][1150/1313]\tLoss_D: -2.8923282623291016\tLoss_G: 4.145698547363281\n"
     ]
    },
    {
     "name": "stderr",
     "output_type": "stream",
     "text": [
      " 91%|█████████▏| 1201/1313 [32:33<03:02,  1.63s/it, disc_loss=-4.33, grad_penalty=0.0267]"
     ]
    },
    {
     "name": "stdout",
     "output_type": "stream",
     "text": [
      "[4/5][1200/1313]\tLoss_D: -4.32847261428833\tLoss_G: 6.067618370056152\n"
     ]
    },
    {
     "name": "stderr",
     "output_type": "stream",
     "text": [
      " 95%|█████████▌| 1251/1313 [33:55<01:40,  1.62s/it, disc_loss=-3.56, grad_penalty=0.0437]"
     ]
    },
    {
     "name": "stdout",
     "output_type": "stream",
     "text": [
      "[4/5][1250/1313]\tLoss_D: -3.5591421127319336\tLoss_G: 6.296163558959961\n"
     ]
    },
    {
     "name": "stderr",
     "output_type": "stream",
     "text": [
      " 99%|█████████▉| 1301/1313 [35:16<00:19,  1.63s/it, disc_loss=-2.53, grad_penalty=0.0132]"
     ]
    },
    {
     "name": "stdout",
     "output_type": "stream",
     "text": [
      "[4/5][1300/1313]\tLoss_D: -2.5277504920959473\tLoss_G: 2.356226682662964\n"
     ]
    },
    {
     "name": "stderr",
     "output_type": "stream",
     "text": [
      "100%|██████████| 1313/1313 [35:35<00:00,  1.63s/it, disc_loss=-3.76, grad_penalty=0.016]\n"
     ]
    },
    {
     "data": {
      "image/png": "[encoded data removed]",
      "text/plain": [
       "<Figure size 1000x500 with 1 Axes>"
      ]
     },
     "metadata": {},
     "output_type": "display_data"
    }
   ],
   "source": [
    "device = \"cuda\" if torch.cuda.is_available() else \"cpu\"\n",
    "\n",
    "# Hyperparameters and global variables\n",
    "dataset_dir = \"/kaggle/input/mnistasjpg/trainingSet/trainingSet\"\n",
    "start_train_img_size = 4\n",
    "lr = 1e-3\n",
    "batch_sizes = [512,256,128,64,32]\n",
    "channels_img = 3\n",
    "z_dim = 512\n",
    "w_dim = 512\n",
    "in_channels = 512\n",
    "lambda_gp = 10\n",
    "progressive_epochs = [5] * len(batch_sizes)\n",
    "gen_save_path = \"/kaggle/working/stylegan_gen.pth\"\n",
    "disc_save_path = \"/kaggle/working/stylegan_disc.pth\"\n",
    "training_plot_save_path = \"/kaggle/working/train_plot.png\"\n",
    "animation_save_path = \"/kaggle/working/animation.mp4\"\n",
    "\n",
    "# check_loader() \n",
    "\n",
    "# Define models and optimizers\n",
    "gen_net = Generator(z_dim, w_dim, in_channels, channels_img).to(device)\n",
    "disc_net = Discriminator(in_channels, channels_img).to(device)\n",
    "gen_optimizer = optim.Adam([{\"params\": [param for name, param in gen_net.named_parameters() if \"map\" not in name]},\n",
    "                     {\"params\": gen_net.map.parameters(), \"lr\": 1e-5}], lr=lr, betas=(0.0, 0.99))\n",
    "disc_optimizer = optim.Adam(disc_net.parameters(), lr=lr, betas=(0.0, 0.99))\n",
    "\n",
    "# Lists to keep track of progress\n",
    "G_losses = []\n",
    "D_losses = []\n",
    "iters = 0\n",
    "\n",
    "# Monitor Progress\n",
    "progress = list()\n",
    "fixed_noise = torch.randn(100, z_dim, device=device)\n",
    "fixed_labels = []\n",
    "for i in range(10):\n",
    "    lab = [0 if j != i else 1 for j in range(10)]\n",
    "    lab = lab*10\n",
    "    fixed_labels.append(lab)\n",
    "fixed_labels = torch.Tensor(fixed_labels).view(100, 10).float().to(device)\n",
    "\n",
    "# Training loop\n",
    "gen_net.train()\n",
    "disc_net.train()\n",
    "step = int(math.log2(start_train_img_size / 4))\n",
    "for num_epochs in progressive_epochs[step:]:\n",
    "    alpha = 1e-7\n",
    "    \n",
    "    loader, dataset = get_loader(4*2**step)\n",
    "    print(\"Curent image size: \" + str(4*2**step))\n",
    "\n",
    "    for epoch in range(num_epochs):\n",
    "        # print(f\"Epoch [{epoch + 1}/{num_epochs}\")\n",
    "\n",
    "        loop = tqdm(loader, leave=True)\n",
    "\n",
    "        for batch_idx, (real_images, labels) in enumerate(loop):\n",
    "            real_images = real_images.to(device)\n",
    "            current_batch_size = real_images.shape[0]\n",
    "            noise = torch.randn(current_batch_size, z_dim).to(device)\n",
    "            labels = labels.to(device).to(torch.float32)\n",
    "#             print(labels.dtype)\n",
    "#             print(real_images.shape, labels.shape)\n",
    "            \n",
    "            fake = gen_net(noise, labels, alpha, step)\n",
    "            real_output = disc_net(real_images, labels, alpha, step)\n",
    "            fake_output = disc_net(fake.detach(), labels, alpha, step)\n",
    "\n",
    "            grad_penalty = gradient_penalty(disc_net, labels, real_images, fake, alpha, step, device)\n",
    "            disc_loss = (-(torch.mean(real_output)-torch.mean(fake_output)) + lambda_gp*grad_penalty + (0.001)*torch.mean(real_output**2))\n",
    "\n",
    "            disc_net.zero_grad()\n",
    "            disc_loss.backward()\n",
    "            disc_optimizer.step()\n",
    "\n",
    "            gen_fake = disc_net(fake, labels, alpha, step)\n",
    "            gen_loss = -torch.mean(gen_fake)\n",
    "\n",
    "            gen_net.zero_grad()\n",
    "            gen_loss.backward()\n",
    "            gen_optimizer.step()\n",
    "\n",
    "            alpha += current_batch_size/(progressive_epochs[step]*0.5*len(dataset))\n",
    "            alpha = min(alpha,1)\n",
    "\n",
    "            loop.set_postfix(grad_penalty = grad_penalty.item(), disc_loss = disc_loss.item())\n",
    "        \n",
    "            # Training Update\n",
    "            if batch_idx % 50 == 0:\n",
    "                print(f\"[{epoch}/{num_epochs}][{batch_idx}/{len(loader)}]\\tLoss_D: {disc_loss.item()}\\tLoss_G: {gen_loss.item()}\")\n",
    "\n",
    "            # Tracking loss\n",
    "            G_losses.append(gen_loss.item())\n",
    "            D_losses.append(disc_loss.item())\n",
    "\n",
    "            # Tracking Generator Progress\n",
    "            if (iters%50 == 0) or ((epoch == num_epochs-1) and (batch_idx == len(loader)-1)):\n",
    "                with torch.no_grad():\n",
    "                    fake = gen_net(fixed_noise, fixed_labels, alpha, step).detach().cpu()\n",
    "                progress.append(torch_utils.make_grid(fake, padding=2, nrow=10, normalize=True))\n",
    "\n",
    "            iters += 1\n",
    "\n",
    "#     generate_examples(gen_net, step)\n",
    "    step += 1\n",
    "\n",
    "# Save generator\n",
    "torch.save(gen_net, gen_save_path)\n",
    "torch.save(disc_net, disc_save_path)\n",
    "\n",
    "# Plot Training Graph\n",
    "fig1 = plt.figure(figsize=(10, 5))\n",
    "plt.title(\"Generator and Discriminator Loss During Training\")\n",
    "plt.plot(G_losses, label=\"G\")\n",
    "plt.plot(D_losses, label=\"D\")\n",
    "plt.xlabel(\"iterations\")\n",
    "plt.ylabel(\"Loss\")\n",
    "plt.legend()\n",
    "plt.savefig(training_plot_save_path)\n",
    "plt.show()\n",
    "\n",
    "# Progress Animation\n",
    "fig2 = plt.figure(figsize=(8, 8))\n",
    "plt.axis(\"off\")\n",
    "ims = [[plt.imshow(np.transpose(i, (1, 2, 0)), animated=True)] for i in progress]\n",
    "anim = animation.ArtistAnimation(fig2, ims, interval=1000, repeat_delay=1000, blit=True)\n",
    "writervideo = animation.FFMpegWriter(fps=5)\n",
    "anim.save(animation_save_path, writer=writervideo)\n",
    "plt.close()"
   ]
  }
 ],
 "metadata": {
  "kaggle": {
   "accelerator": "gpu",
   "dataSources": [
    {
     "datasetId": 1272,
     "sourceId": 2280,
     "sourceType": "datasetVersion"
    }
   ],
   "dockerImageVersionId": 30732,
   "isGpuEnabled": true,
   "isInternetEnabled": true,
   "language": "python",
   "sourceType": "notebook"
  },
  "kernelspec": {
   "display_name": "Python 3",
   "language": "python",
   "name": "python3"
  },
  "language_info": {
   "codemirror_mode": {
    "name": "ipython",
    "version": 3
   },
   "file_extension": ".py",
   "mimetype": "text/x-python",
   "name": "python",
   "nbconvert_exporter": "python",
   "pygments_lexer": "ipython3",
   "version": "3.10.13"
  },
  "papermill": {
   "default_parameters": {},
   "duration": 16465.543757,
   "end_time": "2024-06-10T00:04:49.299965",
   "environment_variables": {},
   "exception": null,
   "input_path": "__notebook__.ipynb",
   "output_path": "__notebook__.ipynb",
   "parameters": {},
   "start_time": "2024-06-09T19:30:23.756208",
   "version": "2.5.0"
  }
 },
 "nbformat": 4,
 "nbformat_minor": 5
}
